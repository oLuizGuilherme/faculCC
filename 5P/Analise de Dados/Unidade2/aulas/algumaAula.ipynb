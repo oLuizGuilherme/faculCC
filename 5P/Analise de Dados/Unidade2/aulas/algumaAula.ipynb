{
 "cells": [
  {
   "cell_type": "code",
   "execution_count": 3,
   "metadata": {},
   "outputs": [],
   "source": [
    "import numpy as np\n",
    "from scipy.stats import ttest_ind"
   ]
  },
  {
   "cell_type": "code",
   "execution_count": 4,
   "metadata": {},
   "outputs": [],
   "source": [
    "np.random.seed(123)\n",
    "group_a_conversions = np.random.binomial(100, 0.03, size=1000)\n",
    "group_b_conversions = np.random.binomial(100, 0.04, size=1000)"
   ]
  },
  {
   "cell_type": "code",
   "execution_count": 6,
   "metadata": {},
   "outputs": [],
   "source": [
    "group_a_mean = np.mean(group_a_conversions)\n",
    "group_b_mean = np.mean(group_b_conversions)\n",
    "group_a_std = np.std(group_a_conversions)\n",
    "group_b_std = np.std(group_b_conversions)"
   ]
  },
  {
   "cell_type": "code",
   "execution_count": 7,
   "metadata": {},
   "outputs": [
    {
     "name": "stdout",
     "output_type": "stream",
     "text": [
      "3.011\n",
      "3.995\n",
      "1.6890467725909781\n",
      "2.0418067979120846\n"
     ]
    }
   ],
   "source": [
    "print(group_a_mean)\n",
    "print(group_b_mean)\n",
    "print(group_a_std)\n",
    "print(group_b_std)"
   ]
  },
  {
   "cell_type": "code",
   "execution_count": 8,
   "metadata": {},
   "outputs": [],
   "source": [
    "t, p = ttest_ind(group_a_conversions, group_b_conversions)"
   ]
  },
  {
   "cell_type": "code",
   "execution_count": 11,
   "metadata": {},
   "outputs": [
    {
     "name": "stdout",
     "output_type": "stream",
     "text": [
      "Group A mean: 3.01, std: 1.69\n",
      "Group B mean: 4.00, std: 2.04\n",
      "t: -11.74, p: 0.00\n"
     ]
    }
   ],
   "source": [
    "print(f'Group A mean: {group_a_mean:.2f}, std: {group_a_std:.2f}')\n",
    "print(f'Group B mean: {group_b_mean:.2f}, std: {group_b_std:.2f}')\n",
    "print(f't: {t:.2f}, p: {p:.2f}')"
   ]
  }
 ],
 "metadata": {
  "kernelspec": {
   "display_name": "Python 3",
   "language": "python",
   "name": "python3"
  },
  "language_info": {
   "codemirror_mode": {
    "name": "ipython",
    "version": 3
   },
   "file_extension": ".py",
   "mimetype": "text/x-python",
   "name": "python",
   "nbconvert_exporter": "python",
   "pygments_lexer": "ipython3",
   "version": "3.11.2"
  },
  "orig_nbformat": 4
 },
 "nbformat": 4,
 "nbformat_minor": 2
}
