{
 "cells": [
  {
   "cell_type": "code",
   "execution_count": 2,
   "metadata": {},
   "outputs": [],
   "source": [
    "import numpy as np\n",
    "from scipy.stats import ttest_ind"
   ]
  },
  {
   "cell_type": "code",
   "execution_count": 3,
   "metadata": {},
   "outputs": [],
   "source": [
    "amostra_controle = np.array([10, 11, 12, 14, 15, 15, 16, 17, 17, 18])\n",
    "amostra_tratamento = np.array([12, 13, 14, 14, 15, 16, 17, 18, 18, 20])"
   ]
  },
  {
   "cell_type": "code",
   "execution_count": 4,
   "metadata": {},
   "outputs": [],
   "source": [
    "media_controle = np.mean(amostra_controle)\n",
    "media_tratamento = np.mean(amostra_tratamento)\n",
    "variancia_controle = np.var(amostra_controle, ddof=1)\n",
    "variancia_tratamento = np.var(amostra_tratamento, ddof=1)"
   ]
  },
  {
   "cell_type": "code",
   "execution_count": 5,
   "metadata": {},
   "outputs": [],
   "source": [
    "t, p = ttest_ind(amostra_tratamento, amostra_controle, equal_var=False)"
   ]
  },
  {
   "cell_type": "code",
   "execution_count": 7,
   "metadata": {},
   "outputs": [
    {
     "name": "stdout",
     "output_type": "stream",
     "text": [
      "Média do grupo de controle: 14.50\n",
      "Média do grupo de tratamento: 15.70\n",
      "Teste t: 1.02\n",
      "Valor-p: 0.321\n"
     ]
    }
   ],
   "source": [
    "print(f\"Média do grupo de controle: {media_controle:.2f}\")\n",
    "print(f\"Média do grupo de tratamento: {media_tratamento:.2f}\")\n",
    "print(f\"Teste t: {t:.2f}\")\n",
    "print(f\"Valor-p: {p:.3f}\")"
   ]
  },
  {
   "cell_type": "code",
   "execution_count": 8,
   "metadata": {},
   "outputs": [],
   "source": [
    "amostra_controle = np.array([10, 12, 12, 13, 14, 15, 15, 16, 16, 18])\n",
    "amostra_tratamento = np.array([14, 15, 15, 16, 16, 17, 17, 18, 19, 20])"
   ]
  },
  {
   "cell_type": "code",
   "execution_count": null,
   "metadata": {},
   "outputs": [],
   "source": [
    "media_controle = np.mean(amostra_controle)\n",
    "media_tratamento = np.mean(amostra_tratamento)\n",
    "variancia_controle = np.var(amostra_controle, ddof=1)\n",
    "variancia_tratamento = np.var(amostra_tratamento, ddof=1)\n",
    "from scipy.stats import ttest_ind\n",
    "t, p = ttest_ind(amostra_tratamento, amostra_controle, equal_var=False)\n",
    "print(f\"Média do grupo de controle: {media_controle:.2f}\")\n",
    "print(f\"Média do grupo de tratamento: {media_tratamento:.2f}\")\n",
    "print(f\"Teste t: {t:.2f}\")\n",
    "print(f\"Valor-p: {p:.3f}\")\n"
   ]
  }
 ],
 "metadata": {
  "kernelspec": {
   "display_name": "Python 3",
   "language": "python",
   "name": "python3"
  },
  "language_info": {
   "codemirror_mode": {
    "name": "ipython",
    "version": 3
   },
   "file_extension": ".py",
   "mimetype": "text/x-python",
   "name": "python",
   "nbconvert_exporter": "python",
   "pygments_lexer": "ipython3",
   "version": "3.11.2"
  },
  "orig_nbformat": 4
 },
 "nbformat": 4,
 "nbformat_minor": 2
}
