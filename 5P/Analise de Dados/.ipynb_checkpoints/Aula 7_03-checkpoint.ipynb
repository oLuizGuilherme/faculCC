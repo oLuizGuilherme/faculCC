{
 "cells": [
  {
   "cell_type": "code",
   "execution_count": 2,
   "id": "5b87b5fa",
   "metadata": {},
   "outputs": [],
   "source": [
    "import numpy as np"
   ]
  },
  {
   "cell_type": "code",
   "execution_count": 6,
   "id": "77764871",
   "metadata": {},
   "outputs": [],
   "source": [
    "matriz1 = np.random.randn(8,3)\n",
    "matriz2 = np.random.randn(8,3)"
   ]
  },
  {
   "cell_type": "code",
   "execution_count": 8,
   "id": "5664f4ae",
   "metadata": {},
   "outputs": [
    {
     "data": {
      "text/plain": [
       "array([[-1.03980688, -1.83787848,  0.25961476],\n",
       "       [ 0.19957403, -3.68271713, -0.5765948 ],\n",
       "       [-0.67650183, -1.28852346,  0.11358794],\n",
       "       [ 0.63763088, -1.15444588, -1.07726509],\n",
       "       [ 0.5003691 ,  1.33756417,  0.73440071],\n",
       "       [-0.31048811,  0.89223009,  1.73163788],\n",
       "       [ 1.02024452, -0.75280603,  1.77610015],\n",
       "       [-0.33677111,  1.71105176, -1.11780071]])"
      ]
     },
     "execution_count": 8,
     "metadata": {},
     "output_type": "execute_result"
    }
   ],
   "source": [
    "np.add(matriz1, matriz2)"
   ]
  },
  {
   "cell_type": "code",
   "execution_count": 10,
   "id": "86563737",
   "metadata": {},
   "outputs": [
    {
     "data": {
      "text/plain": [
       "array([[-3.57201144, -0.24981425,  3.14957938],\n",
       "       [ 0.28936756,  0.9725863 ,  2.20742071],\n",
       "       [-0.54153535, -2.77129897,  0.56847249]])"
      ]
     },
     "execution_count": 10,
     "metadata": {},
     "output_type": "execute_result"
    }
   ],
   "source": [
    "np.matmul(matriz1.T, matriz2)"
   ]
  },
  {
   "cell_type": "code",
   "execution_count": 12,
   "id": "3a212677",
   "metadata": {},
   "outputs": [
    {
     "data": {
      "text/plain": [
       "array([[ 0.28701185,  0.36452693, -0.42278245],\n",
       "       [ 0.56657984,  1.521401  ,  0.46416736],\n",
       "       [-0.75992144,  2.02806114,  0.21788626],\n",
       "       [ 0.13726387,  1.25309674, -0.29754923],\n",
       "       [-0.8143365 , -1.33703668, -0.66092318],\n",
       "       [ 0.20015978, -0.69848007, -1.19905005],\n",
       "       [-1.99280992, -0.39535553, -0.44409407],\n",
       "       [ 0.05580134,  0.4263868 ,  1.28312247]])"
      ]
     },
     "execution_count": 12,
     "metadata": {},
     "output_type": "execute_result"
    }
   ],
   "source": [
    "np.negative(matriz1)"
   ]
  },
  {
   "cell_type": "code",
   "execution_count": 14,
   "id": "ede3b5be",
   "metadata": {},
   "outputs": [
    {
     "data": {
      "text/plain": [
       "array([[-2.87011845e-01, -3.64526927e-01, -6.67206257e-02],\n",
       "       [ 1.99574034e-01, -1.52140100e+00, -1.44576106e-02],\n",
       "       [-6.76501829e-01,  1.90551920e-01,  1.13587942e-01],\n",
       "       [ 6.37630877e-01,  2.93644528e-02, -1.07726509e+00],\n",
       "       [-1.27565690e-01,  3.70673069e-04,  7.31029258e-02],\n",
       "       [-8.98314482e-02,  1.17230020e-01,  1.33874406e-01],\n",
       "       [-9.24886288e-01, -7.52806029e-01,  4.44094071e-01],\n",
       "       [-5.58013400e-02,  1.71105176e+00,  3.94515949e-02]])"
      ]
     },
     "execution_count": 14,
     "metadata": {},
     "output_type": "execute_result"
    }
   ],
   "source": [
    "np.mod(matriz1, matriz2)"
   ]
  },
  {
   "cell_type": "code",
   "execution_count": 16,
   "id": "82d39bcd",
   "metadata": {},
   "outputs": [
    {
     "data": {
      "text/plain": [
       "array([[0.28701185, 0.36452693, 0.42278245],\n",
       "       [0.56657984, 1.521401  , 0.46416736],\n",
       "       [0.75992144, 2.02806114, 0.21788626],\n",
       "       [0.13726387, 1.25309674, 0.29754923],\n",
       "       [0.8143365 , 1.33703668, 0.66092318],\n",
       "       [0.20015978, 0.69848007, 1.19905005],\n",
       "       [1.99280992, 0.39535553, 0.44409407],\n",
       "       [0.05580134, 0.4263868 , 1.28312247]])"
      ]
     },
     "execution_count": 16,
     "metadata": {},
     "output_type": "execute_result"
    }
   ],
   "source": [
    "np.absolute(matriz1)"
   ]
  },
  {
   "cell_type": "code",
   "execution_count": 20,
   "id": "07c4f521",
   "metadata": {},
   "outputs": [
    {
     "data": {
      "text/plain": [
       "array([[-0., -0.,  0.],\n",
       "       [-1., -2., -0.],\n",
       "       [ 1., -2., -0.],\n",
       "       [-0., -1.,  0.],\n",
       "       [ 1.,  1.,  1.],\n",
       "       [-0.,  1.,  1.],\n",
       "       [ 2.,  0.,  0.],\n",
       "       [-0., -0., -1.]])"
      ]
     },
     "execution_count": 20,
     "metadata": {},
     "output_type": "execute_result"
    }
   ],
   "source": [
    "np.rint(matriz1) #round int"
   ]
  },
  {
   "cell_type": "code",
   "execution_count": 23,
   "id": "33bee3ff",
   "metadata": {},
   "outputs": [
    {
     "name": "stdout",
     "output_type": "stream",
     "text": [
      "[1.51 1.77 1.85 2.   2.52 2.95 2.97 2.98 3.08 3.17 3.35 3.42 3.42 3.64\n",
      " 3.78 3.95 3.96 4.23 4.54 4.6  4.81 5.24]\n"
     ]
    }
   ],
   "source": [
    "array7 = np.array([2.52, 3.42, 1.85, 2.95, 3.95, 3.78, 3.17, 3.96, 2.97, 2.98,\n",
    "3.35, 4.23, 3.42, 4.60, 5.24, 3.64, 4.54, 4.81, 1.77, 1.51, 3.08, 2.00])\n",
    "#Colocando em ordem\n",
    "print(np.sort(array7))"
   ]
  },
  {
   "cell_type": "code",
   "execution_count": 26,
   "id": "b384c167",
   "metadata": {},
   "outputs": [
    {
     "data": {
      "text/plain": [
       "array([5.24, 4.81, 4.6 , 4.54, 4.23, 3.96, 3.95, 3.78, 3.64, 3.42, 3.42,\n",
       "       3.35, 3.17, 3.08, 2.98, 2.97, 2.95, 2.52, 2.  , 1.85, 1.77, 1.51])"
      ]
     },
     "execution_count": 26,
     "metadata": {},
     "output_type": "execute_result"
    }
   ],
   "source": [
    "-np.sort(-array7)"
   ]
  },
  {
   "cell_type": "code",
   "execution_count": 28,
   "id": "485479c0",
   "metadata": {},
   "outputs": [
    {
     "data": {
      "text/plain": [
       "[5.24,\n",
       " 4.81,\n",
       " 4.6,\n",
       " 4.54,\n",
       " 4.23,\n",
       " 3.96,\n",
       " 3.95,\n",
       " 3.78,\n",
       " 3.64,\n",
       " 3.42,\n",
       " 3.42,\n",
       " 3.35,\n",
       " 3.17,\n",
       " 3.08,\n",
       " 2.98,\n",
       " 2.97,\n",
       " 2.95,\n",
       " 2.52,\n",
       " 2.0,\n",
       " 1.85,\n",
       " 1.77,\n",
       " 1.51]"
      ]
     },
     "execution_count": 28,
     "metadata": {},
     "output_type": "execute_result"
    }
   ],
   "source": [
    "sorted(array7, reverse=True)"
   ]
  },
  {
   "cell_type": "code",
   "execution_count": null,
   "id": "bb8870b4",
   "metadata": {},
   "outputs": [],
   "source": []
  }
 ],
 "metadata": {
  "kernelspec": {
   "display_name": "Python 3 (ipykernel)",
   "language": "python",
   "name": "python3"
  },
  "language_info": {
   "codemirror_mode": {
    "name": "ipython",
    "version": 3
   },
   "file_extension": ".py",
   "mimetype": "text/x-python",
   "name": "python",
   "nbconvert_exporter": "python",
   "pygments_lexer": "ipython3",
   "version": "3.11.2"
  }
 },
 "nbformat": 4,
 "nbformat_minor": 5
}
