{
 "cells": [
  {
   "cell_type": "markdown",
   "metadata": {},
   "source": [
    "# Lista de Exercícios: NumPy\n",
    "\n",
    "## Alguns dos exercícios podem requerer pesquisa adicional na documentação dos pacotes. Pesquise!\n",
    "\n",
    "### Exercício 1 "
   ]
  },
  {
   "cell_type": "code",
   "execution_count": 1,
   "metadata": {},
   "outputs": [],
   "source": [
    "#Importe a biblioteca NumPy para seu Notebook"
   ]
  },
  {
   "cell_type": "markdown",
   "metadata": {},
   "source": [
    "### Exercício 2"
   ]
  },
  {
   "cell_type": "code",
   "execution_count": 2,
   "metadata": {},
   "outputs": [],
   "source": [
    "#Compare a velocidade, da operação a seguir, entre uma lista de Python Puro e um ndarray do NumPy com 1 bilhão de elementos\n",
    "#\n",
    "#Eleve a potência quadrática cada elemento do ndarray e da lista e exiba o tempo de execução de cada um dos objetos"
   ]
  },
  {
   "cell_type": "markdown",
   "metadata": {},
   "source": [
    "### Exercício 3"
   ]
  },
  {
   "cell_type": "code",
   "execution_count": 3,
   "metadata": {},
   "outputs": [],
   "source": [
    "#Crie uma matriz de cinco linhas e três colunas\n",
    "#Calcule a Raiz Quadrada dos elementos da matriz de uma única vez"
   ]
  },
  {
   "cell_type": "markdown",
   "metadata": {},
   "source": [
    "### Exercício 4"
   ]
  },
  {
   "cell_type": "code",
   "execution_count": 4,
   "metadata": {},
   "outputs": [],
   "source": [
    "#Crie as matrizes a seguir e verifique suas propriedades (formato, tipo e número de dimensões)\n",
    "import numpy as np\n",
    "matriz1 = np.random.rand(8, 5)\n",
    "matriz2 = np.array([[7., 8, 9, 10.98], [65, 42, 3, 18]])\n",
    "matriz3 = np.array([[1, \"2\", \"4.5\", 7], [4, \"18\", 14, \"3\"]], dtype=np.string_)"
   ]
  },
  {
   "cell_type": "markdown",
   "metadata": {},
   "source": [
    "### Exercício 5"
   ]
  },
  {
   "cell_type": "code",
   "execution_count": 5,
   "metadata": {},
   "outputs": [],
   "source": [
    "#Crie uma ndarray de 3x4 do tipo float e converta para:\n",
    "#(1) int\n",
    "#(2) string"
   ]
  },
  {
   "cell_type": "markdown",
   "metadata": {},
   "source": [
    "### Exercício 6"
   ]
  },
  {
   "cell_type": "code",
   "execution_count": 6,
   "metadata": {},
   "outputs": [],
   "source": [
    "#Crie um ndarray com 100 números aleatórios\n",
    "#Acesse o 32º elemento\n",
    "#Altere os índices de 18 a 32 para 128\n",
    "#Copie o ndarray para um novo ndarray\n",
    "#Exiba o primeiro ndarray\n",
    "#Altere o segundo ndarray modificando os índices de 18 a 32 para 256\n",
    "#Exiba o segundo ndarray"
   ]
  },
  {
   "cell_type": "markdown",
   "metadata": {},
   "source": [
    "### Exercício 7"
   ]
  },
  {
   "cell_type": "code",
   "execution_count": 7,
   "metadata": {},
   "outputs": [],
   "source": [
    "#Crie a matriz abaixo\n",
    "arr2d = np.array([[1, 2, 3, 4], [5, 6, 7, 8], [9, 10, 11, 12], [13, 14, 15, 16]])\n",
    "#Selecione através dos índices os itens 5, 6 e 7\n",
    "#Selecione através dos índices os itens 7, 11 e 15"
   ]
  },
  {
   "cell_type": "markdown",
   "metadata": {},
   "source": [
    "### Exercício 8"
   ]
  },
  {
   "cell_type": "code",
   "execution_count": 8,
   "metadata": {},
   "outputs": [],
   "source": [
    "#Crie uma lista com os nomes: Antônio, Carlos, Carlos, Antônio, José, Alfredo, Alfredo, Antônio\n",
    "#Crie uma lista chamada dívidas com os seguintes valores: 1000., 500., 0, 1640, 18399.99, 42640.18, 70., 84.90\n",
    "#Busque na lista de nomes as ocorrências de Antônio e exiba suas dívidas\n",
    "#Busque na lista de nomes as ocorrências de José e exiba suas dívidas\n",
    "#Exiba as dívidas das pessoas diferente de Antônio e José\n",
    "#Exiba os nomes das pessoas que possuem dívidas igual a 0 (zero)\n",
    "#Exiba os nomes das pessoas que possuem dívidas maior que 10000 (dez mil)\n",
    "#Exiba os nomes das pessoas que possuem dívidas menores que 100 (cem) e maior do que 0 (zero)"
   ]
  },
  {
   "cell_type": "markdown",
   "metadata": {},
   "source": [
    "### Exercício 9"
   ]
  },
  {
   "cell_type": "code",
   "execution_count": 9,
   "metadata": {},
   "outputs": [],
   "source": [
    "#Ordene e exiba a lista de nomes criado no execício anterior\n",
    "#Ordene em ordem decrescente e exiba a lista de valores criado no execício anterior"
   ]
  },
  {
   "cell_type": "markdown",
   "metadata": {},
   "source": [
    "### Exercício 10"
   ]
  },
  {
   "cell_type": "code",
   "execution_count": 10,
   "metadata": {},
   "outputs": [],
   "source": [
    "#Exiba os valores únicos das listas criadas no exercício 8"
   ]
  }
 ],
 "metadata": {
  "kernelspec": {
   "display_name": "Python 3 (ipykernel)",
   "language": "python",
   "name": "python3"
  },
  "language_info": {
   "codemirror_mode": {
    "name": "ipython",
    "version": 3
   },
   "file_extension": ".py",
   "mimetype": "text/x-python",
   "name": "python",
   "nbconvert_exporter": "python",
   "pygments_lexer": "ipython3",
   "version": "3.9.13"
  }
 },
 "nbformat": 4,
 "nbformat_minor": 2
}
