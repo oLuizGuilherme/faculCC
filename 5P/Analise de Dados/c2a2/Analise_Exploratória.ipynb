{
 "cells": [
  {
   "cell_type": "code",
   "execution_count": 148,
   "metadata": {},
   "outputs": [],
   "source": [
    "import pandas as pd\n",
    "import numpy as np\n",
    "import scipy as sp\n",
    "from scipy.stats import variation, norm\n",
    "from matplotlib import pyplot as plt\n",
    "import plotly.express as px"
   ]
  },
  {
   "attachments": {},
   "cell_type": "markdown",
   "metadata": {},
   "source": [
    "Questão 1"
   ]
  },
  {
   "cell_type": "code",
   "execution_count": 149,
   "metadata": {},
   "outputs": [
    {
     "data": {
      "text/html": [
       "<div>\n",
       "<style scoped>\n",
       "    .dataframe tbody tr th:only-of-type {\n",
       "        vertical-align: middle;\n",
       "    }\n",
       "\n",
       "    .dataframe tbody tr th {\n",
       "        vertical-align: top;\n",
       "    }\n",
       "\n",
       "    .dataframe thead th {\n",
       "        text-align: right;\n",
       "    }\n",
       "</style>\n",
       "<table border=\"1\" class=\"dataframe\">\n",
       "  <thead>\n",
       "    <tr style=\"text-align: right;\">\n",
       "      <th></th>\n",
       "      <th>Empresa</th>\n",
       "      <th>Meses</th>\n",
       "      <th>Setor</th>\n",
       "      <th>Tamanho</th>\n",
       "    </tr>\n",
       "  </thead>\n",
       "  <tbody>\n",
       "    <tr>\n",
       "      <th>0</th>\n",
       "      <td>1</td>\n",
       "      <td>8</td>\n",
       "      <td>C</td>\n",
       "      <td>G</td>\n",
       "    </tr>\n",
       "    <tr>\n",
       "      <th>1</th>\n",
       "      <td>2</td>\n",
       "      <td>9</td>\n",
       "      <td>C</td>\n",
       "      <td>M</td>\n",
       "    </tr>\n",
       "    <tr>\n",
       "      <th>2</th>\n",
       "      <td>3</td>\n",
       "      <td>4</td>\n",
       "      <td>I</td>\n",
       "      <td>G</td>\n",
       "    </tr>\n",
       "    <tr>\n",
       "      <th>3</th>\n",
       "      <td>4</td>\n",
       "      <td>5</td>\n",
       "      <td>I</td>\n",
       "      <td>M</td>\n",
       "    </tr>\n",
       "    <tr>\n",
       "      <th>4</th>\n",
       "      <td>5</td>\n",
       "      <td>3</td>\n",
       "      <td>I</td>\n",
       "      <td>M</td>\n",
       "    </tr>\n",
       "    <tr>\n",
       "      <th>5</th>\n",
       "      <td>6</td>\n",
       "      <td>6</td>\n",
       "      <td>C</td>\n",
       "      <td>P</td>\n",
       "    </tr>\n",
       "    <tr>\n",
       "      <th>6</th>\n",
       "      <td>7</td>\n",
       "      <td>8</td>\n",
       "      <td>C</td>\n",
       "      <td>G</td>\n",
       "    </tr>\n",
       "    <tr>\n",
       "      <th>7</th>\n",
       "      <td>8</td>\n",
       "      <td>6</td>\n",
       "      <td>I</td>\n",
       "      <td>M</td>\n",
       "    </tr>\n",
       "    <tr>\n",
       "      <th>8</th>\n",
       "      <td>9</td>\n",
       "      <td>6</td>\n",
       "      <td>I</td>\n",
       "      <td>P</td>\n",
       "    </tr>\n",
       "    <tr>\n",
       "      <th>9</th>\n",
       "      <td>10</td>\n",
       "      <td>8</td>\n",
       "      <td>C</td>\n",
       "      <td>M</td>\n",
       "    </tr>\n",
       "    <tr>\n",
       "      <th>10</th>\n",
       "      <td>11</td>\n",
       "      <td>5</td>\n",
       "      <td>C</td>\n",
       "      <td>P</td>\n",
       "    </tr>\n",
       "    <tr>\n",
       "      <th>11</th>\n",
       "      <td>12</td>\n",
       "      <td>5</td>\n",
       "      <td>I</td>\n",
       "      <td>P</td>\n",
       "    </tr>\n",
       "    <tr>\n",
       "      <th>12</th>\n",
       "      <td>13</td>\n",
       "      <td>6</td>\n",
       "      <td>C</td>\n",
       "      <td>M</td>\n",
       "    </tr>\n",
       "    <tr>\n",
       "      <th>13</th>\n",
       "      <td>14</td>\n",
       "      <td>4</td>\n",
       "      <td>I</td>\n",
       "      <td>M</td>\n",
       "    </tr>\n",
       "    <tr>\n",
       "      <th>14</th>\n",
       "      <td>15</td>\n",
       "      <td>4</td>\n",
       "      <td>I</td>\n",
       "      <td>G</td>\n",
       "    </tr>\n",
       "  </tbody>\n",
       "</table>\n",
       "</div>"
      ],
      "text/plain": [
       "    Empresa  Meses Setor Tamanho\n",
       "0         1      8     C       G\n",
       "1         2      9     C       M\n",
       "2         3      4     I       G\n",
       "3         4      5     I       M\n",
       "4         5      3     I       M\n",
       "5         6      6     C       P\n",
       "6         7      8     C       G\n",
       "7         8      6     I       M\n",
       "8         9      6     I       P\n",
       "9        10      8     C       M\n",
       "10       11      5     C       P\n",
       "11       12      5     I       P\n",
       "12       13      6     C       M\n",
       "13       14      4     I       M\n",
       "14       15      4     I       G"
      ]
     },
     "execution_count": 149,
     "metadata": {},
     "output_type": "execute_result"
    }
   ],
   "source": [
    "df = pd.read_csv('../Unidade2/DataSets/aumento_atividade_empresas.csv', sep=';')\n",
    "df"
   ]
  },
  {
   "cell_type": "code",
   "execution_count": 150,
   "metadata": {},
   "outputs": [
    {
     "data": {
      "text/html": [
       "<div>\n",
       "<style scoped>\n",
       "    .dataframe tbody tr th:only-of-type {\n",
       "        vertical-align: middle;\n",
       "    }\n",
       "\n",
       "    .dataframe tbody tr th {\n",
       "        vertical-align: top;\n",
       "    }\n",
       "\n",
       "    .dataframe thead tr th {\n",
       "        text-align: left;\n",
       "    }\n",
       "</style>\n",
       "<table border=\"1\" class=\"dataframe\">\n",
       "  <thead>\n",
       "    <tr>\n",
       "      <th></th>\n",
       "      <th>Setor</th>\n",
       "      <th colspan=\"4\" halign=\"left\">Meses</th>\n",
       "    </tr>\n",
       "    <tr>\n",
       "      <th></th>\n",
       "      <th></th>\n",
       "      <th>mean</th>\n",
       "      <th>median</th>\n",
       "      <th>std</th>\n",
       "      <th>variation</th>\n",
       "    </tr>\n",
       "  </thead>\n",
       "  <tbody>\n",
       "    <tr>\n",
       "      <th>0</th>\n",
       "      <td>C</td>\n",
       "      <td>7.142857</td>\n",
       "      <td>8.0</td>\n",
       "      <td>1.46385</td>\n",
       "      <td>0.189737</td>\n",
       "    </tr>\n",
       "    <tr>\n",
       "      <th>1</th>\n",
       "      <td>I</td>\n",
       "      <td>4.625000</td>\n",
       "      <td>4.5</td>\n",
       "      <td>1.06066</td>\n",
       "      <td>0.214520</td>\n",
       "    </tr>\n",
       "  </tbody>\n",
       "</table>\n",
       "</div>"
      ],
      "text/plain": [
       "  Setor     Meses                          \n",
       "             mean median      std variation\n",
       "0     C  7.142857    8.0  1.46385  0.189737\n",
       "1     I  4.625000    4.5  1.06066  0.214520"
      ]
     },
     "execution_count": 150,
     "metadata": {},
     "output_type": "execute_result"
    }
   ],
   "source": [
    "df.groupby(by='Setor').agg({'Meses': [np.mean, np.median, np.std, variation]}).reset_index()"
   ]
  },
  {
   "attachments": {},
   "cell_type": "markdown",
   "metadata": {},
   "source": [
    "O setor comercial é mais homogênio "
   ]
  },
  {
   "cell_type": "code",
   "execution_count": 151,
   "metadata": {},
   "outputs": [],
   "source": [
    "grupo_comercial = df[df['Setor'] == 'C']\n",
    "grupo_industrial = df[df['Setor'] == 'I']"
   ]
  },
  {
   "cell_type": "code",
   "execution_count": 152,
   "metadata": {},
   "outputs": [],
   "source": [
    "media_comercial = grupo_comercial['Meses'].mean()\n",
    "mediana_comercial = grupo_comercial['Meses'].median()\n",
    "media_industrial = grupo_industrial['Meses'].mean()\n",
    "mediana_industrial = grupo_industrial['Meses'].median()\n",
    "var_comercial = grupo_comercial['Meses'].var()\n",
    "var_industrial = grupo_industrial['Meses'].var()\n",
    "std_comercial = grupo_comercial['Meses'].std()\n",
    "std_industrial = grupo_industrial['Meses'].std()"
   ]
  },
  {
   "cell_type": "code",
   "execution_count": 153,
   "metadata": {},
   "outputs": [
    {
     "name": "stdout",
     "output_type": "stream",
     "text": [
      "Média Comercial:  7.142857142857143\n",
      "Mediana Comercial:  8.0\n",
      "Média Industrial:  4.625\n",
      "Medianda Industrial:  4.5\n"
     ]
    }
   ],
   "source": [
    "print('Média Comercial: ', media_comercial)\n",
    "print('Mediana Comercial: ', mediana_comercial)\n",
    "print('Média Industrial: ', media_industrial)\n",
    "print('Medianda Industrial: ', mediana_industrial)"
   ]
  },
  {
   "cell_type": "code",
   "execution_count": 154,
   "metadata": {},
   "outputs": [
    {
     "name": "stdout",
     "output_type": "stream",
     "text": [
      "Variancia Comercial:  2.142857142857143\n",
      "Variancia Industrial:  1.125\n",
      "Desvio Padrão Comercial:  1.4638501094227998\n",
      "Desvio Padrão Industrial:  1.0606601717798212\n"
     ]
    }
   ],
   "source": [
    "print('Variancia Comercial: ', var_comercial)\n",
    "print('Variancia Industrial: ', var_industrial)\n",
    "print('Desvio Padrão Comercial: ', std_comercial)\n",
    "print('Desvio Padrão Industrial: ', std_industrial)"
   ]
  },
  {
   "cell_type": "code",
   "execution_count": 155,
   "metadata": {},
   "outputs": [
    {
     "data": {
      "text/html": [
       "<div>\n",
       "<style scoped>\n",
       "    .dataframe tbody tr th:only-of-type {\n",
       "        vertical-align: middle;\n",
       "    }\n",
       "\n",
       "    .dataframe tbody tr th {\n",
       "        vertical-align: top;\n",
       "    }\n",
       "\n",
       "    .dataframe thead tr th {\n",
       "        text-align: left;\n",
       "    }\n",
       "</style>\n",
       "<table border=\"1\" class=\"dataframe\">\n",
       "  <thead>\n",
       "    <tr>\n",
       "      <th></th>\n",
       "      <th>Tamanho</th>\n",
       "      <th colspan=\"4\" halign=\"left\">Meses</th>\n",
       "    </tr>\n",
       "    <tr>\n",
       "      <th></th>\n",
       "      <th></th>\n",
       "      <th>mean</th>\n",
       "      <th>median</th>\n",
       "      <th>std</th>\n",
       "      <th>variation</th>\n",
       "    </tr>\n",
       "  </thead>\n",
       "  <tbody>\n",
       "    <tr>\n",
       "      <th>0</th>\n",
       "      <td>G</td>\n",
       "      <td>6.000000</td>\n",
       "      <td>6.0</td>\n",
       "      <td>2.309401</td>\n",
       "      <td>0.333333</td>\n",
       "    </tr>\n",
       "    <tr>\n",
       "      <th>1</th>\n",
       "      <td>M</td>\n",
       "      <td>5.857143</td>\n",
       "      <td>6.0</td>\n",
       "      <td>2.115701</td>\n",
       "      <td>0.334422</td>\n",
       "    </tr>\n",
       "    <tr>\n",
       "      <th>2</th>\n",
       "      <td>P</td>\n",
       "      <td>5.500000</td>\n",
       "      <td>5.5</td>\n",
       "      <td>0.577350</td>\n",
       "      <td>0.090909</td>\n",
       "    </tr>\n",
       "  </tbody>\n",
       "</table>\n",
       "</div>"
      ],
      "text/plain": [
       "  Tamanho     Meses                           \n",
       "               mean median       std variation\n",
       "0       G  6.000000    6.0  2.309401  0.333333\n",
       "1       M  5.857143    6.0  2.115701  0.334422\n",
       "2       P  5.500000    5.5  0.577350  0.090909"
      ]
     },
     "execution_count": 155,
     "metadata": {},
     "output_type": "execute_result"
    }
   ],
   "source": [
    "df.groupby(by='Tamanho').agg({'Meses': [np.mean, np.median, np.std, variation]}).reset_index()"
   ]
  },
  {
   "cell_type": "code",
   "execution_count": 156,
   "metadata": {},
   "outputs": [],
   "source": [
    "grupo_P = df[df['Tamanho'] == 'P']\n",
    "grupo_M = df[df['Tamanho'] == 'M']\n",
    "grupo_G = df[df['Tamanho'] == 'G']"
   ]
  },
  {
   "cell_type": "code",
   "execution_count": 157,
   "metadata": {},
   "outputs": [],
   "source": [
    "media_grupo_P = grupo_P['Meses'].mean()\n",
    "mediana_grupo_P = grupo_P['Meses'].mean()\n",
    "variancia_grupo_P = grupo_P['Meses'].var()\n",
    "desvio_padrao_grupo_P = grupo_P['Meses'].std()"
   ]
  },
  {
   "cell_type": "code",
   "execution_count": 158,
   "metadata": {},
   "outputs": [],
   "source": [
    "media_grupo_M = grupo_M['Meses'].mean()\n",
    "mediana_grupo_M = grupo_M['Meses'].mean()\n",
    "variancia_grupo_M = grupo_M['Meses'].var()\n",
    "desvio_padrao_grupo_M = grupo_M['Meses'].std()"
   ]
  },
  {
   "cell_type": "code",
   "execution_count": 159,
   "metadata": {},
   "outputs": [],
   "source": [
    "media_grupo_G = grupo_G['Meses'].mean()\n",
    "mediana_grupo_G = grupo_G['Meses'].mean()\n",
    "variancia_grupo_G = grupo_G['Meses'].var()\n",
    "desvio_padrao_grupo_G = grupo_G['Meses'].std()"
   ]
  },
  {
   "cell_type": "code",
   "execution_count": 160,
   "metadata": {},
   "outputs": [
    {
     "name": "stdout",
     "output_type": "stream",
     "text": [
      "Média grupo P:  5.5\n",
      "Mediana grupo P:  5.5\n",
      "Variancia grupo P:  0.3333333333333333\n",
      "Desvio Padrão grupo P:  0.5773502691896257\n"
     ]
    }
   ],
   "source": [
    "print('Média grupo P: ', media_grupo_P)\n",
    "print('Mediana grupo P: ', mediana_grupo_P)\n",
    "print('Variancia grupo P: ', variancia_grupo_P)\n",
    "print('Desvio Padrão grupo P: ', desvio_padrao_grupo_P)"
   ]
  },
  {
   "cell_type": "code",
   "execution_count": 161,
   "metadata": {},
   "outputs": [
    {
     "name": "stdout",
     "output_type": "stream",
     "text": [
      "Média grupo M:  5.857142857142857\n",
      "Mediana grupo M:  5.857142857142857\n",
      "Variancia grupo M:  4.476190476190475\n",
      "Desvio Padrão grupo M:  2.115700942049815\n"
     ]
    }
   ],
   "source": [
    "print('Média grupo M: ', media_grupo_M)\n",
    "print('Mediana grupo M: ', mediana_grupo_M)\n",
    "print('Variancia grupo M: ', variancia_grupo_M)\n",
    "print('Desvio Padrão grupo M: ', desvio_padrao_grupo_M)"
   ]
  },
  {
   "cell_type": "code",
   "execution_count": 162,
   "metadata": {},
   "outputs": [
    {
     "name": "stdout",
     "output_type": "stream",
     "text": [
      "Média grupo G:  6.0\n",
      "Mediana grupo G:  6.0\n",
      "Variancia grupo G:  5.333333333333333\n",
      "Desvio Padrão grupo G:  2.309401076758503\n"
     ]
    }
   ],
   "source": [
    "print('Média grupo G: ', media_grupo_G)\n",
    "print('Mediana grupo G: ', mediana_grupo_G)\n",
    "print('Variancia grupo G: ', variancia_grupo_G)\n",
    "print('Desvio Padrão grupo G: ', desvio_padrao_grupo_G)"
   ]
  },
  {
   "attachments": {},
   "cell_type": "markdown",
   "metadata": {},
   "source": [
    "A diferenca entre a média e o pequeno valor de variancia entre os diferentes tamanhos sugere que o tamanho da empresa tem pouca ou nenhuma influencia na quantidade de meses de crescimento"
   ]
  },
  {
   "attachments": {},
   "cell_type": "markdown",
   "metadata": {},
   "source": [
    "Questão 2"
   ]
  },
  {
   "cell_type": "code",
   "execution_count": 163,
   "metadata": {},
   "outputs": [
    {
     "data": {
      "text/html": [
       "<div>\n",
       "<style scoped>\n",
       "    .dataframe tbody tr th:only-of-type {\n",
       "        vertical-align: middle;\n",
       "    }\n",
       "\n",
       "    .dataframe tbody tr th {\n",
       "        vertical-align: top;\n",
       "    }\n",
       "\n",
       "    .dataframe thead th {\n",
       "        text-align: right;\n",
       "    }\n",
       "</style>\n",
       "<table border=\"1\" class=\"dataframe\">\n",
       "  <thead>\n",
       "    <tr style=\"text-align: right;\">\n",
       "      <th></th>\n",
       "      <th>40</th>\n",
       "      <th>45</th>\n",
       "      <th>50</th>\n",
       "      <th>55</th>\n",
       "      <th>60</th>\n",
       "      <th>65</th>\n",
       "    </tr>\n",
       "  </thead>\n",
       "  <tbody>\n",
       "    <tr>\n",
       "      <th>0</th>\n",
       "      <td>55</td>\n",
       "      <td>58</td>\n",
       "      <td>60</td>\n",
       "      <td>77</td>\n",
       "      <td>70</td>\n",
       "      <td>65</td>\n",
       "    </tr>\n",
       "    <tr>\n",
       "      <th>1</th>\n",
       "      <td>50</td>\n",
       "      <td>56</td>\n",
       "      <td>74</td>\n",
       "      <td>78</td>\n",
       "      <td>76</td>\n",
       "      <td>82</td>\n",
       "    </tr>\n",
       "    <tr>\n",
       "      <th>2</th>\n",
       "      <td>68</td>\n",
       "      <td>62</td>\n",
       "      <td>70</td>\n",
       "      <td>70</td>\n",
       "      <td>74</td>\n",
       "      <td>72</td>\n",
       "    </tr>\n",
       "    <tr>\n",
       "      <th>3</th>\n",
       "      <td>65</td>\n",
       "      <td>65</td>\n",
       "      <td>78</td>\n",
       "      <td>72</td>\n",
       "      <td>83</td>\n",
       "      <td>82</td>\n",
       "    </tr>\n",
       "    <tr>\n",
       "      <th>4</th>\n",
       "      <td>62</td>\n",
       "      <td>63</td>\n",
       "      <td>76</td>\n",
       "      <td>80</td>\n",
       "      <td>85</td>\n",
       "      <td>80</td>\n",
       "    </tr>\n",
       "  </tbody>\n",
       "</table>\n",
       "</div>"
      ],
      "text/plain": [
       "   40  45  50  55  60  65\n",
       "0  55  58  60  77  70  65\n",
       "1  50  56  74  78  76  82\n",
       "2  68  62  70  70  74  72\n",
       "3  65  65  78  72  83  82\n",
       "4  62  63  76  80  85  80"
      ]
     },
     "execution_count": 163,
     "metadata": {},
     "output_type": "execute_result"
    }
   ],
   "source": [
    "df = pd.read_csv('../Unidade2/DataSets/pesos_mulheres_por_idade.csv', sep=';')\n",
    "df"
   ]
  },
  {
   "cell_type": "code",
   "execution_count": 164,
   "metadata": {},
   "outputs": [],
   "source": [
    "media_peso_40 = df['40'].mean()\n",
    "mediana_peso_40 = df['40'].median()\n",
    "desvio_padrao_peso_40 = df['40'].std()\n",
    "variancia_peso_40 = df['40'].var()\n",
    "coeficiente_variancia_40 = (desvio_padrao_peso_40/media_peso_40)*100"
   ]
  },
  {
   "cell_type": "code",
   "execution_count": 165,
   "metadata": {},
   "outputs": [],
   "source": [
    "media_peso_45 = df['45'].mean()\n",
    "mediana_peso_45 = df['45'].median()\n",
    "desvio_padrao_peso_45 = df['45'].std()\n",
    "variancia_peso_45 = df['45'].var()\n",
    "coeficiente_variancia_45 = (desvio_padrao_peso_45/media_peso_45)*100"
   ]
  },
  {
   "cell_type": "code",
   "execution_count": 166,
   "metadata": {},
   "outputs": [],
   "source": [
    "media_peso_50 = df['50'].mean()\n",
    "mediana_peso_50 = df['50'].median()\n",
    "desvio_padrao_peso_50 = df['50'].std()\n",
    "variancia_peso_50 = df['50'].var()\n",
    "coeficiente_variancia_50 = (desvio_padrao_peso_50/media_peso_50)*100"
   ]
  },
  {
   "cell_type": "code",
   "execution_count": 167,
   "metadata": {},
   "outputs": [],
   "source": [
    "media_peso_55 = df['55'].mean()\n",
    "mediana_peso_55 = df['55'].median()\n",
    "desvio_padrao_peso_55 = df['55'].std()\n",
    "variancia_peso_55 = df['55'].var()\n",
    "coeficiente_variancia_55 = (desvio_padrao_peso_55/media_peso_55)*100"
   ]
  },
  {
   "cell_type": "code",
   "execution_count": 168,
   "metadata": {},
   "outputs": [],
   "source": [
    "media_peso_60 = df['60'].mean()\n",
    "mediana_peso_60 = df['60'].median()\n",
    "desvio_padrao_peso_60 = df['60'].std()\n",
    "variancia_peso_60 = df['60'].var()\n",
    "coeficiente_variancia_60 = (desvio_padrao_peso_60/media_peso_60)*100"
   ]
  },
  {
   "cell_type": "code",
   "execution_count": 169,
   "metadata": {},
   "outputs": [],
   "source": [
    "media_peso_65 = df['65'].mean()\n",
    "mediana_peso_65 = df['65'].median()\n",
    "desvio_padrao_peso_65 = df['65'].std()\n",
    "variancia_peso_65 = df['65'].var()\n",
    "coeficiente_variancia_65 = (desvio_padrao_peso_65/media_peso_65)*100"
   ]
  },
  {
   "cell_type": "code",
   "execution_count": 170,
   "metadata": {},
   "outputs": [
    {
     "data": {
      "text/html": [
       "<div>\n",
       "<style scoped>\n",
       "    .dataframe tbody tr th:only-of-type {\n",
       "        vertical-align: middle;\n",
       "    }\n",
       "\n",
       "    .dataframe tbody tr th {\n",
       "        vertical-align: top;\n",
       "    }\n",
       "\n",
       "    .dataframe thead th {\n",
       "        text-align: right;\n",
       "    }\n",
       "</style>\n",
       "<table border=\"1\" class=\"dataframe\">\n",
       "  <thead>\n",
       "    <tr style=\"text-align: right;\">\n",
       "      <th></th>\n",
       "      <th>Age</th>\n",
       "      <th>Mean</th>\n",
       "      <th>Median</th>\n",
       "      <th>Std</th>\n",
       "      <th>Variation Coefficient</th>\n",
       "    </tr>\n",
       "  </thead>\n",
       "  <tbody>\n",
       "    <tr>\n",
       "      <th>0</th>\n",
       "      <td>40</td>\n",
       "      <td>60.0</td>\n",
       "      <td>62.0</td>\n",
       "      <td>7.382412</td>\n",
       "      <td>12.304019</td>\n",
       "    </tr>\n",
       "    <tr>\n",
       "      <th>1</th>\n",
       "      <td>45</td>\n",
       "      <td>60.8</td>\n",
       "      <td>62.0</td>\n",
       "      <td>3.701351</td>\n",
       "      <td>6.087749</td>\n",
       "    </tr>\n",
       "    <tr>\n",
       "      <th>2</th>\n",
       "      <td>50</td>\n",
       "      <td>71.6</td>\n",
       "      <td>74.0</td>\n",
       "      <td>7.127412</td>\n",
       "      <td>9.954486</td>\n",
       "    </tr>\n",
       "    <tr>\n",
       "      <th>3</th>\n",
       "      <td>55</td>\n",
       "      <td>75.4</td>\n",
       "      <td>77.0</td>\n",
       "      <td>4.219005</td>\n",
       "      <td>5.595497</td>\n",
       "    </tr>\n",
       "    <tr>\n",
       "      <th>4</th>\n",
       "      <td>60</td>\n",
       "      <td>77.6</td>\n",
       "      <td>76.0</td>\n",
       "      <td>6.268971</td>\n",
       "      <td>8.078571</td>\n",
       "    </tr>\n",
       "    <tr>\n",
       "      <th>5</th>\n",
       "      <td>65</td>\n",
       "      <td>76.2</td>\n",
       "      <td>80.0</td>\n",
       "      <td>7.496666</td>\n",
       "      <td>9.838144</td>\n",
       "    </tr>\n",
       "  </tbody>\n",
       "</table>\n",
       "</div>"
      ],
      "text/plain": [
       "  Age  Mean  Median       Std  Variation Coefficient\n",
       "0  40  60.0    62.0  7.382412              12.304019\n",
       "1  45  60.8    62.0  3.701351               6.087749\n",
       "2  50  71.6    74.0  7.127412               9.954486\n",
       "3  55  75.4    77.0  4.219005               5.595497\n",
       "4  60  77.6    76.0  6.268971               8.078571\n",
       "5  65  76.2    80.0  7.496666               9.838144"
      ]
     },
     "execution_count": 170,
     "metadata": {},
     "output_type": "execute_result"
    }
   ],
   "source": [
    "media_peso = [media_peso_40, media_peso_45, media_peso_50, media_peso_55, media_peso_60, media_peso_65]\n",
    "mediana_peso = [mediana_peso_40, mediana_peso_45, mediana_peso_50, mediana_peso_55, mediana_peso_60, mediana_peso_65]\n",
    "desvio_padrao_peso = [desvio_padrao_peso_40, desvio_padrao_peso_45, desvio_padrao_peso_50, desvio_padrao_peso_55, desvio_padrao_peso_60, desvio_padrao_peso_65]\n",
    "variancia_peso = [variancia_peso_40, variancia_peso_45, variancia_peso_50, variancia_peso_55, variancia_peso_60, variancia_peso_65]\n",
    "coeficiente_variancia = [coeficiente_variancia_40, coeficiente_variancia_45, coeficiente_variancia_50, coeficiente_variancia_55, coeficiente_variancia_60, coeficiente_variancia_65]\n",
    "df_mulheres = pd.DataFrame(\n",
    "    {'Age': ['40', '45', '50', '55', '60', '65'],\n",
    "     'Mean': media_peso,\n",
    "     'Median': mediana_peso,\n",
    "     'Std': desvio_padrao_peso,\n",
    "     'Variation Coefficient': coeficiente_variancia}\n",
    ")\n",
    "df_mulheres"
   ]
  },
  {
   "attachments": {},
   "cell_type": "markdown",
   "metadata": {},
   "source": [
    "Podemos afirmar que no geral, o peso médio das mulheres parece aumentar conforme o aumento da idade, tendo algumas exceções"
   ]
  },
  {
   "cell_type": "code",
   "execution_count": 171,
   "metadata": {},
   "outputs": [
    {
     "name": "stdout",
     "output_type": "stream",
     "text": [
      "Média da idade 40:  60.0\n",
      "Mediana da idade 40:  62.0\n",
      "Desvio Padrão da idade 40:  7.3824115301167\n",
      "Variancia da idade 40:  54.5\n"
     ]
    }
   ],
   "source": [
    "print('Média da idade 40: ', media_peso_40)\n",
    "print('Mediana da idade 40: ',mediana_peso_40)\n",
    "print('Desvio Padrão da idade 40: ', desvio_padrao_peso_40)\n",
    "print('Variancia da idade 40: ', variancia_peso_40)"
   ]
  },
  {
   "cell_type": "code",
   "execution_count": 172,
   "metadata": {},
   "outputs": [
    {
     "name": "stdout",
     "output_type": "stream",
     "text": [
      "Média da idade 45:  60.8\n",
      "Mediana da idade 45:  62.0\n",
      "Desvio Padrão da idade 45:  3.7013511046643495\n",
      "Variancia da idade 45:  13.700000000000001\n"
     ]
    }
   ],
   "source": [
    "print('Média da idade 45: ', media_peso_45)\n",
    "print('Mediana da idade 45: ', mediana_peso_45)\n",
    "print('Desvio Padrão da idade 45: ', desvio_padrao_peso_45)\n",
    "print('Variancia da idade 45: ', variancia_peso_45)"
   ]
  },
  {
   "cell_type": "code",
   "execution_count": 173,
   "metadata": {},
   "outputs": [
    {
     "name": "stdout",
     "output_type": "stream",
     "text": [
      "Média da idade 50:  71.6\n",
      "Mediana da idade 50:  74.0\n",
      "Desvio Padrão da idade 50:  7.127411872482184\n",
      "Variancia da idade 50:  50.79999999999999\n"
     ]
    }
   ],
   "source": [
    "print('Média da idade 50: ', media_peso_50)\n",
    "print('Mediana da idade 50: ', mediana_peso_50)\n",
    "print('Desvio Padrão da idade 50: ', desvio_padrao_peso_50)\n",
    "print('Variancia da idade 50: ', variancia_peso_50)"
   ]
  },
  {
   "cell_type": "code",
   "execution_count": 174,
   "metadata": {},
   "outputs": [
    {
     "name": "stdout",
     "output_type": "stream",
     "text": [
      "Média da idade 55:  75.4\n",
      "Mediana da idade 55:  77.0\n",
      "Desvio Padrão da idade 55:  4.219004621945797\n",
      "Variancia da idade 55:  17.799999999999997\n"
     ]
    }
   ],
   "source": [
    "print('Média da idade 55: ', media_peso_55)\n",
    "print('Mediana da idade 55: ', mediana_peso_55)\n",
    "print('Desvio Padrão da idade 55: ', desvio_padrao_peso_55)\n",
    "print('Variancia da idade 55: ', variancia_peso_55)"
   ]
  },
  {
   "cell_type": "code",
   "execution_count": 175,
   "metadata": {},
   "outputs": [
    {
     "name": "stdout",
     "output_type": "stream",
     "text": [
      "Média da idade 60:  77.6\n",
      "Mediana da idade 60:  76.0\n",
      "Desvio Padrão da idade 60:  6.268971207462991\n",
      "Variancia da idade 60:  39.3\n"
     ]
    }
   ],
   "source": [
    "print('Média da idade 60: ', media_peso_60)\n",
    "print('Mediana da idade 60: ', mediana_peso_60)\n",
    "print('Desvio Padrão da idade 60: ', desvio_padrao_peso_60)\n",
    "print('Variancia da idade 60: ', variancia_peso_60)"
   ]
  },
  {
   "cell_type": "code",
   "execution_count": 176,
   "metadata": {},
   "outputs": [
    {
     "name": "stdout",
     "output_type": "stream",
     "text": [
      "Média da idade 65:  76.2\n",
      "Mediana da idade 65:  80.0\n",
      "Desvio Padrão da idade 65:  7.496665925596525\n",
      "Variancia da idade 65:  56.199999999999996\n"
     ]
    }
   ],
   "source": [
    "print('Média da idade 65: ', media_peso_65)\n",
    "print('Mediana da idade 65: ', mediana_peso_65)\n",
    "print('Desvio Padrão da idade 65: ', desvio_padrao_peso_65)\n",
    "print('Variancia da idade 65: ', variancia_peso_65)"
   ]
  },
  {
   "attachments": {},
   "cell_type": "markdown",
   "metadata": {},
   "source": [
    "Questão 3"
   ]
  },
  {
   "cell_type": "code",
   "execution_count": 177,
   "metadata": {},
   "outputs": [
    {
     "data": {
      "text/html": [
       "<div>\n",
       "<style scoped>\n",
       "    .dataframe tbody tr th:only-of-type {\n",
       "        vertical-align: middle;\n",
       "    }\n",
       "\n",
       "    .dataframe tbody tr th {\n",
       "        vertical-align: top;\n",
       "    }\n",
       "\n",
       "    .dataframe thead th {\n",
       "        text-align: right;\n",
       "    }\n",
       "</style>\n",
       "<table border=\"1\" class=\"dataframe\">\n",
       "  <thead>\n",
       "    <tr style=\"text-align: right;\">\n",
       "      <th></th>\n",
       "      <th>S</th>\n",
       "      <th>T</th>\n",
       "      <th>Z</th>\n",
       "    </tr>\n",
       "  </thead>\n",
       "  <tbody>\n",
       "    <tr>\n",
       "      <th>0</th>\n",
       "      <td>4.5</td>\n",
       "      <td>M</td>\n",
       "      <td>N</td>\n",
       "    </tr>\n",
       "    <tr>\n",
       "      <th>1</th>\n",
       "      <td>5.0</td>\n",
       "      <td>T</td>\n",
       "      <td>M</td>\n",
       "    </tr>\n",
       "    <tr>\n",
       "      <th>2</th>\n",
       "      <td>4.2</td>\n",
       "      <td>M</td>\n",
       "      <td>M</td>\n",
       "    </tr>\n",
       "    <tr>\n",
       "      <th>3</th>\n",
       "      <td>3.7</td>\n",
       "      <td>M</td>\n",
       "      <td>M</td>\n",
       "    </tr>\n",
       "    <tr>\n",
       "      <th>4</th>\n",
       "      <td>3.9</td>\n",
       "      <td>T</td>\n",
       "      <td>T</td>\n",
       "    </tr>\n",
       "    <tr>\n",
       "      <th>5</th>\n",
       "      <td>4.1</td>\n",
       "      <td>T</td>\n",
       "      <td>N</td>\n",
       "    </tr>\n",
       "    <tr>\n",
       "      <th>6</th>\n",
       "      <td>2.9</td>\n",
       "      <td>T</td>\n",
       "      <td>M</td>\n",
       "    </tr>\n",
       "    <tr>\n",
       "      <th>7</th>\n",
       "      <td>2.7</td>\n",
       "      <td>T</td>\n",
       "      <td>M</td>\n",
       "    </tr>\n",
       "    <tr>\n",
       "      <th>8</th>\n",
       "      <td>3.5</td>\n",
       "      <td>T</td>\n",
       "      <td>T</td>\n",
       "    </tr>\n",
       "    <tr>\n",
       "      <th>9</th>\n",
       "      <td>3.2</td>\n",
       "      <td>T</td>\n",
       "      <td>N</td>\n",
       "    </tr>\n",
       "    <tr>\n",
       "      <th>10</th>\n",
       "      <td>4.7</td>\n",
       "      <td>M</td>\n",
       "      <td>N</td>\n",
       "    </tr>\n",
       "    <tr>\n",
       "      <th>11</th>\n",
       "      <td>5.5</td>\n",
       "      <td>M</td>\n",
       "      <td>T</td>\n",
       "    </tr>\n",
       "    <tr>\n",
       "      <th>12</th>\n",
       "      <td>4.8</td>\n",
       "      <td>M</td>\n",
       "      <td>T</td>\n",
       "    </tr>\n",
       "    <tr>\n",
       "      <th>13</th>\n",
       "      <td>3.4</td>\n",
       "      <td>T</td>\n",
       "      <td>M</td>\n",
       "    </tr>\n",
       "    <tr>\n",
       "      <th>14</th>\n",
       "      <td>4.2</td>\n",
       "      <td>M</td>\n",
       "      <td>M</td>\n",
       "    </tr>\n",
       "    <tr>\n",
       "      <th>15</th>\n",
       "      <td>3.4</td>\n",
       "      <td>M</td>\n",
       "      <td>N</td>\n",
       "    </tr>\n",
       "    <tr>\n",
       "      <th>16</th>\n",
       "      <td>4.4</td>\n",
       "      <td>M</td>\n",
       "      <td>T</td>\n",
       "    </tr>\n",
       "    <tr>\n",
       "      <th>17</th>\n",
       "      <td>3.7</td>\n",
       "      <td>M</td>\n",
       "      <td>T</td>\n",
       "    </tr>\n",
       "    <tr>\n",
       "      <th>18</th>\n",
       "      <td>2.8</td>\n",
       "      <td>T</td>\n",
       "      <td>M</td>\n",
       "    </tr>\n",
       "    <tr>\n",
       "      <th>19</th>\n",
       "      <td>2.5</td>\n",
       "      <td>T</td>\n",
       "      <td>M</td>\n",
       "    </tr>\n",
       "    <tr>\n",
       "      <th>20</th>\n",
       "      <td>2.9</td>\n",
       "      <td>T</td>\n",
       "      <td>T</td>\n",
       "    </tr>\n",
       "  </tbody>\n",
       "</table>\n",
       "</div>"
      ],
      "text/plain": [
       "      S  T  Z\n",
       "0   4.5  M  N\n",
       "1   5.0  T  M\n",
       "2   4.2  M  M\n",
       "3   3.7  M  M\n",
       "4   3.9  T  T\n",
       "5   4.1  T  N\n",
       "6   2.9  T  M\n",
       "7   2.7  T  M\n",
       "8   3.5  T  T\n",
       "9   3.2  T  N\n",
       "10  4.7  M  N\n",
       "11  5.5  M  T\n",
       "12  4.8  M  T\n",
       "13  3.4  T  M\n",
       "14  4.2  M  M\n",
       "15  3.4  M  N\n",
       "16  4.4  M  T\n",
       "17  3.7  M  T\n",
       "18  2.8  T  M\n",
       "19  2.5  T  M\n",
       "20  2.9  T  T"
      ]
     },
     "execution_count": 177,
     "metadata": {},
     "output_type": "execute_result"
    }
   ],
   "source": [
    "df = pd.read_csv('../Unidade2/DataSets/trabalhadores_renda_industria.csv', sep=';')\n",
    "df"
   ]
  },
  {
   "cell_type": "code",
   "execution_count": 178,
   "metadata": {},
   "outputs": [
    {
     "data": {
      "text/html": [
       "<div>\n",
       "<style scoped>\n",
       "    .dataframe tbody tr th:only-of-type {\n",
       "        vertical-align: middle;\n",
       "    }\n",
       "\n",
       "    .dataframe tbody tr th {\n",
       "        vertical-align: top;\n",
       "    }\n",
       "\n",
       "    .dataframe thead tr th {\n",
       "        text-align: left;\n",
       "    }\n",
       "</style>\n",
       "<table border=\"1\" class=\"dataframe\">\n",
       "  <thead>\n",
       "    <tr>\n",
       "      <th></th>\n",
       "      <th>T</th>\n",
       "      <th colspan=\"4\" halign=\"left\">S</th>\n",
       "    </tr>\n",
       "    <tr>\n",
       "      <th></th>\n",
       "      <th></th>\n",
       "      <th>mean</th>\n",
       "      <th>median</th>\n",
       "      <th>std</th>\n",
       "      <th>variation</th>\n",
       "    </tr>\n",
       "  </thead>\n",
       "  <tbody>\n",
       "    <tr>\n",
       "      <th>0</th>\n",
       "      <td>M</td>\n",
       "      <td>4.310000</td>\n",
       "      <td>4.3</td>\n",
       "      <td>0.619049</td>\n",
       "      <td>0.136260</td>\n",
       "    </tr>\n",
       "    <tr>\n",
       "      <th>1</th>\n",
       "      <td>T</td>\n",
       "      <td>3.354545</td>\n",
       "      <td>3.2</td>\n",
       "      <td>0.740761</td>\n",
       "      <td>0.210547</td>\n",
       "    </tr>\n",
       "  </tbody>\n",
       "</table>\n",
       "</div>"
      ],
      "text/plain": [
       "   T         S                           \n",
       "          mean median       std variation\n",
       "0  M  4.310000    4.3  0.619049  0.136260\n",
       "1  T  3.354545    3.2  0.740761  0.210547"
      ]
     },
     "execution_count": 178,
     "metadata": {},
     "output_type": "execute_result"
    }
   ],
   "source": [
    "industria = df.groupby(by='T').agg({'S': [np.mean, np.median, np.std, variation]}).reset_index()\n",
    "industria"
   ]
  },
  {
   "attachments": {},
   "cell_type": "markdown",
   "metadata": {},
   "source": [
    "Podemos retirar desses dados que a renda média dos trabalhadores na industria moderna é maior que a renda média dos trabalhadores na industria tradicional, assim como a mediana.\n",
    "\n",
    "E a industria moderna apresenta um grupo mais homogêneo que a industria tradicional.\n",
    "\n",
    "Então baseado nas informações podemos concluir que existe relação entre o tipo de industria e a renda dos trabalhadores."
   ]
  },
  {
   "cell_type": "code",
   "execution_count": 179,
   "metadata": {},
   "outputs": [
    {
     "data": {
      "text/html": [
       "<div>\n",
       "<style scoped>\n",
       "    .dataframe tbody tr th:only-of-type {\n",
       "        vertical-align: middle;\n",
       "    }\n",
       "\n",
       "    .dataframe tbody tr th {\n",
       "        vertical-align: top;\n",
       "    }\n",
       "\n",
       "    .dataframe thead th {\n",
       "        text-align: right;\n",
       "    }\n",
       "</style>\n",
       "<table border=\"1\" class=\"dataframe\">\n",
       "  <thead>\n",
       "    <tr style=\"text-align: right;\">\n",
       "      <th></th>\n",
       "      <th>S</th>\n",
       "      <th>T</th>\n",
       "      <th>Z</th>\n",
       "    </tr>\n",
       "  </thead>\n",
       "  <tbody>\n",
       "    <tr>\n",
       "      <th>0</th>\n",
       "      <td>4.5</td>\n",
       "      <td>M</td>\n",
       "      <td>N</td>\n",
       "    </tr>\n",
       "    <tr>\n",
       "      <th>2</th>\n",
       "      <td>4.2</td>\n",
       "      <td>M</td>\n",
       "      <td>M</td>\n",
       "    </tr>\n",
       "    <tr>\n",
       "      <th>3</th>\n",
       "      <td>3.7</td>\n",
       "      <td>M</td>\n",
       "      <td>M</td>\n",
       "    </tr>\n",
       "    <tr>\n",
       "      <th>10</th>\n",
       "      <td>4.7</td>\n",
       "      <td>M</td>\n",
       "      <td>N</td>\n",
       "    </tr>\n",
       "    <tr>\n",
       "      <th>11</th>\n",
       "      <td>5.5</td>\n",
       "      <td>M</td>\n",
       "      <td>T</td>\n",
       "    </tr>\n",
       "    <tr>\n",
       "      <th>12</th>\n",
       "      <td>4.8</td>\n",
       "      <td>M</td>\n",
       "      <td>T</td>\n",
       "    </tr>\n",
       "    <tr>\n",
       "      <th>14</th>\n",
       "      <td>4.2</td>\n",
       "      <td>M</td>\n",
       "      <td>M</td>\n",
       "    </tr>\n",
       "    <tr>\n",
       "      <th>15</th>\n",
       "      <td>3.4</td>\n",
       "      <td>M</td>\n",
       "      <td>N</td>\n",
       "    </tr>\n",
       "    <tr>\n",
       "      <th>16</th>\n",
       "      <td>4.4</td>\n",
       "      <td>M</td>\n",
       "      <td>T</td>\n",
       "    </tr>\n",
       "    <tr>\n",
       "      <th>17</th>\n",
       "      <td>3.7</td>\n",
       "      <td>M</td>\n",
       "      <td>T</td>\n",
       "    </tr>\n",
       "  </tbody>\n",
       "</table>\n",
       "</div>"
      ],
      "text/plain": [
       "      S  T  Z\n",
       "0   4.5  M  N\n",
       "2   4.2  M  M\n",
       "3   3.7  M  M\n",
       "10  4.7  M  N\n",
       "11  5.5  M  T\n",
       "12  4.8  M  T\n",
       "14  4.2  M  M\n",
       "15  3.4  M  N\n",
       "16  4.4  M  T\n",
       "17  3.7  M  T"
      ]
     },
     "execution_count": 179,
     "metadata": {},
     "output_type": "execute_result"
    }
   ],
   "source": [
    "grupo_moderna = df[df['T'] == 'M']\n",
    "grupo_moderna\n"
   ]
  },
  {
   "cell_type": "code",
   "execution_count": 180,
   "metadata": {},
   "outputs": [
    {
     "data": {
      "text/html": [
       "<div>\n",
       "<style scoped>\n",
       "    .dataframe tbody tr th:only-of-type {\n",
       "        vertical-align: middle;\n",
       "    }\n",
       "\n",
       "    .dataframe tbody tr th {\n",
       "        vertical-align: top;\n",
       "    }\n",
       "\n",
       "    .dataframe thead th {\n",
       "        text-align: right;\n",
       "    }\n",
       "</style>\n",
       "<table border=\"1\" class=\"dataframe\">\n",
       "  <thead>\n",
       "    <tr style=\"text-align: right;\">\n",
       "      <th></th>\n",
       "      <th>S</th>\n",
       "      <th>T</th>\n",
       "      <th>Z</th>\n",
       "    </tr>\n",
       "  </thead>\n",
       "  <tbody>\n",
       "    <tr>\n",
       "      <th>1</th>\n",
       "      <td>5.0</td>\n",
       "      <td>T</td>\n",
       "      <td>M</td>\n",
       "    </tr>\n",
       "    <tr>\n",
       "      <th>4</th>\n",
       "      <td>3.9</td>\n",
       "      <td>T</td>\n",
       "      <td>T</td>\n",
       "    </tr>\n",
       "    <tr>\n",
       "      <th>5</th>\n",
       "      <td>4.1</td>\n",
       "      <td>T</td>\n",
       "      <td>N</td>\n",
       "    </tr>\n",
       "    <tr>\n",
       "      <th>6</th>\n",
       "      <td>2.9</td>\n",
       "      <td>T</td>\n",
       "      <td>M</td>\n",
       "    </tr>\n",
       "    <tr>\n",
       "      <th>7</th>\n",
       "      <td>2.7</td>\n",
       "      <td>T</td>\n",
       "      <td>M</td>\n",
       "    </tr>\n",
       "    <tr>\n",
       "      <th>8</th>\n",
       "      <td>3.5</td>\n",
       "      <td>T</td>\n",
       "      <td>T</td>\n",
       "    </tr>\n",
       "    <tr>\n",
       "      <th>9</th>\n",
       "      <td>3.2</td>\n",
       "      <td>T</td>\n",
       "      <td>N</td>\n",
       "    </tr>\n",
       "    <tr>\n",
       "      <th>13</th>\n",
       "      <td>3.4</td>\n",
       "      <td>T</td>\n",
       "      <td>M</td>\n",
       "    </tr>\n",
       "    <tr>\n",
       "      <th>18</th>\n",
       "      <td>2.8</td>\n",
       "      <td>T</td>\n",
       "      <td>M</td>\n",
       "    </tr>\n",
       "    <tr>\n",
       "      <th>19</th>\n",
       "      <td>2.5</td>\n",
       "      <td>T</td>\n",
       "      <td>M</td>\n",
       "    </tr>\n",
       "    <tr>\n",
       "      <th>20</th>\n",
       "      <td>2.9</td>\n",
       "      <td>T</td>\n",
       "      <td>T</td>\n",
       "    </tr>\n",
       "  </tbody>\n",
       "</table>\n",
       "</div>"
      ],
      "text/plain": [
       "      S  T  Z\n",
       "1   5.0  T  M\n",
       "4   3.9  T  T\n",
       "5   4.1  T  N\n",
       "6   2.9  T  M\n",
       "7   2.7  T  M\n",
       "8   3.5  T  T\n",
       "9   3.2  T  N\n",
       "13  3.4  T  M\n",
       "18  2.8  T  M\n",
       "19  2.5  T  M\n",
       "20  2.9  T  T"
      ]
     },
     "execution_count": 180,
     "metadata": {},
     "output_type": "execute_result"
    }
   ],
   "source": [
    "grupo_tradicional = df[df['T'] == 'T']\n",
    "grupo_tradicional"
   ]
  },
  {
   "cell_type": "code",
   "execution_count": 181,
   "metadata": {},
   "outputs": [],
   "source": [
    "media_moderna = grupo_moderna['S'].mean()\n",
    "mediana_moderna = grupo_moderna['S'].median()\n",
    "variancia_moderna = grupo_moderna['S'].var()"
   ]
  },
  {
   "cell_type": "code",
   "execution_count": 182,
   "metadata": {},
   "outputs": [],
   "source": [
    "media_tradicional = grupo_tradicional['S'].mean()\n",
    "mediana_tradicional = grupo_tradicional['S'].median()\n",
    "variancia_tradicional = grupo_tradicional['S'].var()"
   ]
  },
  {
   "cell_type": "code",
   "execution_count": 183,
   "metadata": {},
   "outputs": [
    {
     "name": "stdout",
     "output_type": "stream",
     "text": [
      "Média do grupo Moderno:  4.3100000000000005\n",
      "Mediana do grupo Moderno:  4.300000000000001\n",
      "Variancia do grupo Moderno:  0.3832222222222222\n"
     ]
    }
   ],
   "source": [
    "print('Média do grupo Moderno: ', media_moderna)\n",
    "print('Mediana do grupo Moderno: ', mediana_moderna)\n",
    "print('Variancia do grupo Moderno: ', variancia_moderna)"
   ]
  },
  {
   "cell_type": "code",
   "execution_count": 184,
   "metadata": {},
   "outputs": [
    {
     "name": "stdout",
     "output_type": "stream",
     "text": [
      "Média do grupo Tradicional:  3.3545454545454545\n",
      "Mediana do grupo Tradicional:  3.2\n",
      "Variancia do grupo Tradicional:  0.5487272727272726\n"
     ]
    }
   ],
   "source": [
    "print('Média do grupo Tradicional: ', media_tradicional)\n",
    "print('Mediana do grupo Tradicional: ', mediana_tradicional)\n",
    "print('Variancia do grupo Tradicional: ', variancia_tradicional)"
   ]
  },
  {
   "cell_type": "code",
   "execution_count": 185,
   "metadata": {},
   "outputs": [
    {
     "data": {
      "text/html": [
       "<div>\n",
       "<style scoped>\n",
       "    .dataframe tbody tr th:only-of-type {\n",
       "        vertical-align: middle;\n",
       "    }\n",
       "\n",
       "    .dataframe tbody tr th {\n",
       "        vertical-align: top;\n",
       "    }\n",
       "\n",
       "    .dataframe thead tr th {\n",
       "        text-align: left;\n",
       "    }\n",
       "</style>\n",
       "<table border=\"1\" class=\"dataframe\">\n",
       "  <thead>\n",
       "    <tr>\n",
       "      <th></th>\n",
       "      <th>Z</th>\n",
       "      <th colspan=\"4\" halign=\"left\">S</th>\n",
       "    </tr>\n",
       "    <tr>\n",
       "      <th></th>\n",
       "      <th></th>\n",
       "      <th>mean</th>\n",
       "      <th>median</th>\n",
       "      <th>std</th>\n",
       "      <th>variation</th>\n",
       "    </tr>\n",
       "  </thead>\n",
       "  <tbody>\n",
       "    <tr>\n",
       "      <th>0</th>\n",
       "      <td>M</td>\n",
       "      <td>3.488889</td>\n",
       "      <td>3.4</td>\n",
       "      <td>0.849183</td>\n",
       "      <td>0.229476</td>\n",
       "    </tr>\n",
       "    <tr>\n",
       "      <th>1</th>\n",
       "      <td>N</td>\n",
       "      <td>3.980000</td>\n",
       "      <td>4.1</td>\n",
       "      <td>0.661060</td>\n",
       "      <td>0.148560</td>\n",
       "    </tr>\n",
       "    <tr>\n",
       "      <th>2</th>\n",
       "      <td>T</td>\n",
       "      <td>4.100000</td>\n",
       "      <td>3.9</td>\n",
       "      <td>0.869866</td>\n",
       "      <td>0.196424</td>\n",
       "    </tr>\n",
       "  </tbody>\n",
       "</table>\n",
       "</div>"
      ],
      "text/plain": [
       "   Z         S                           \n",
       "          mean median       std variation\n",
       "0  M  3.488889    3.4  0.849183  0.229476\n",
       "1  N  3.980000    4.1  0.661060  0.148560\n",
       "2  T  4.100000    3.9  0.869866  0.196424"
      ]
     },
     "execution_count": 185,
     "metadata": {},
     "output_type": "execute_result"
    }
   ],
   "source": [
    "turno = df.groupby(by='Z').agg({'S': [np.mean, np.median, np.std, variation]}).reset_index()\n",
    "turno"
   ]
  },
  {
   "attachments": {},
   "cell_type": "markdown",
   "metadata": {},
   "source": [
    "Podemos visulizar que a media da renda dos trabalhadores da noite e tarde são parecidos entre si, mas são maiores que a média da renda dos trabalhadores da manhã assim como a mediana.\n",
    "\n",
    "O grupo mais homogênio é o grupo da noite.\n",
    "\n",
    "E baseado nas informações podemos afirmar que existe relação entre o período de trabalho e a renda dos trabalhadores."
   ]
  },
  {
   "cell_type": "code",
   "execution_count": 186,
   "metadata": {},
   "outputs": [],
   "source": [
    "grupo_manha = df[df['Z'] == 'M']\n",
    "grupo_tarde = df[df['Z'] == 'T']\n",
    "grupo_noite = df[df['Z'] == 'N']"
   ]
  },
  {
   "cell_type": "code",
   "execution_count": 187,
   "metadata": {},
   "outputs": [
    {
     "data": {
      "text/html": [
       "<div>\n",
       "<style scoped>\n",
       "    .dataframe tbody tr th:only-of-type {\n",
       "        vertical-align: middle;\n",
       "    }\n",
       "\n",
       "    .dataframe tbody tr th {\n",
       "        vertical-align: top;\n",
       "    }\n",
       "\n",
       "    .dataframe thead th {\n",
       "        text-align: right;\n",
       "    }\n",
       "</style>\n",
       "<table border=\"1\" class=\"dataframe\">\n",
       "  <thead>\n",
       "    <tr style=\"text-align: right;\">\n",
       "      <th></th>\n",
       "      <th>S</th>\n",
       "      <th>T</th>\n",
       "      <th>Z</th>\n",
       "    </tr>\n",
       "  </thead>\n",
       "  <tbody>\n",
       "    <tr>\n",
       "      <th>1</th>\n",
       "      <td>5.0</td>\n",
       "      <td>T</td>\n",
       "      <td>M</td>\n",
       "    </tr>\n",
       "    <tr>\n",
       "      <th>2</th>\n",
       "      <td>4.2</td>\n",
       "      <td>M</td>\n",
       "      <td>M</td>\n",
       "    </tr>\n",
       "    <tr>\n",
       "      <th>3</th>\n",
       "      <td>3.7</td>\n",
       "      <td>M</td>\n",
       "      <td>M</td>\n",
       "    </tr>\n",
       "    <tr>\n",
       "      <th>6</th>\n",
       "      <td>2.9</td>\n",
       "      <td>T</td>\n",
       "      <td>M</td>\n",
       "    </tr>\n",
       "    <tr>\n",
       "      <th>7</th>\n",
       "      <td>2.7</td>\n",
       "      <td>T</td>\n",
       "      <td>M</td>\n",
       "    </tr>\n",
       "    <tr>\n",
       "      <th>13</th>\n",
       "      <td>3.4</td>\n",
       "      <td>T</td>\n",
       "      <td>M</td>\n",
       "    </tr>\n",
       "    <tr>\n",
       "      <th>14</th>\n",
       "      <td>4.2</td>\n",
       "      <td>M</td>\n",
       "      <td>M</td>\n",
       "    </tr>\n",
       "    <tr>\n",
       "      <th>18</th>\n",
       "      <td>2.8</td>\n",
       "      <td>T</td>\n",
       "      <td>M</td>\n",
       "    </tr>\n",
       "    <tr>\n",
       "      <th>19</th>\n",
       "      <td>2.5</td>\n",
       "      <td>T</td>\n",
       "      <td>M</td>\n",
       "    </tr>\n",
       "  </tbody>\n",
       "</table>\n",
       "</div>"
      ],
      "text/plain": [
       "      S  T  Z\n",
       "1   5.0  T  M\n",
       "2   4.2  M  M\n",
       "3   3.7  M  M\n",
       "6   2.9  T  M\n",
       "7   2.7  T  M\n",
       "13  3.4  T  M\n",
       "14  4.2  M  M\n",
       "18  2.8  T  M\n",
       "19  2.5  T  M"
      ]
     },
     "execution_count": 187,
     "metadata": {},
     "output_type": "execute_result"
    }
   ],
   "source": [
    "grupo_manha"
   ]
  },
  {
   "cell_type": "code",
   "execution_count": 188,
   "metadata": {},
   "outputs": [
    {
     "data": {
      "text/html": [
       "<div>\n",
       "<style scoped>\n",
       "    .dataframe tbody tr th:only-of-type {\n",
       "        vertical-align: middle;\n",
       "    }\n",
       "\n",
       "    .dataframe tbody tr th {\n",
       "        vertical-align: top;\n",
       "    }\n",
       "\n",
       "    .dataframe thead th {\n",
       "        text-align: right;\n",
       "    }\n",
       "</style>\n",
       "<table border=\"1\" class=\"dataframe\">\n",
       "  <thead>\n",
       "    <tr style=\"text-align: right;\">\n",
       "      <th></th>\n",
       "      <th>S</th>\n",
       "      <th>T</th>\n",
       "      <th>Z</th>\n",
       "    </tr>\n",
       "  </thead>\n",
       "  <tbody>\n",
       "    <tr>\n",
       "      <th>4</th>\n",
       "      <td>3.9</td>\n",
       "      <td>T</td>\n",
       "      <td>T</td>\n",
       "    </tr>\n",
       "    <tr>\n",
       "      <th>8</th>\n",
       "      <td>3.5</td>\n",
       "      <td>T</td>\n",
       "      <td>T</td>\n",
       "    </tr>\n",
       "    <tr>\n",
       "      <th>11</th>\n",
       "      <td>5.5</td>\n",
       "      <td>M</td>\n",
       "      <td>T</td>\n",
       "    </tr>\n",
       "    <tr>\n",
       "      <th>12</th>\n",
       "      <td>4.8</td>\n",
       "      <td>M</td>\n",
       "      <td>T</td>\n",
       "    </tr>\n",
       "    <tr>\n",
       "      <th>16</th>\n",
       "      <td>4.4</td>\n",
       "      <td>M</td>\n",
       "      <td>T</td>\n",
       "    </tr>\n",
       "    <tr>\n",
       "      <th>17</th>\n",
       "      <td>3.7</td>\n",
       "      <td>M</td>\n",
       "      <td>T</td>\n",
       "    </tr>\n",
       "    <tr>\n",
       "      <th>20</th>\n",
       "      <td>2.9</td>\n",
       "      <td>T</td>\n",
       "      <td>T</td>\n",
       "    </tr>\n",
       "  </tbody>\n",
       "</table>\n",
       "</div>"
      ],
      "text/plain": [
       "      S  T  Z\n",
       "4   3.9  T  T\n",
       "8   3.5  T  T\n",
       "11  5.5  M  T\n",
       "12  4.8  M  T\n",
       "16  4.4  M  T\n",
       "17  3.7  M  T\n",
       "20  2.9  T  T"
      ]
     },
     "execution_count": 188,
     "metadata": {},
     "output_type": "execute_result"
    }
   ],
   "source": [
    "grupo_tarde"
   ]
  },
  {
   "cell_type": "code",
   "execution_count": 189,
   "metadata": {},
   "outputs": [
    {
     "data": {
      "text/html": [
       "<div>\n",
       "<style scoped>\n",
       "    .dataframe tbody tr th:only-of-type {\n",
       "        vertical-align: middle;\n",
       "    }\n",
       "\n",
       "    .dataframe tbody tr th {\n",
       "        vertical-align: top;\n",
       "    }\n",
       "\n",
       "    .dataframe thead th {\n",
       "        text-align: right;\n",
       "    }\n",
       "</style>\n",
       "<table border=\"1\" class=\"dataframe\">\n",
       "  <thead>\n",
       "    <tr style=\"text-align: right;\">\n",
       "      <th></th>\n",
       "      <th>S</th>\n",
       "      <th>T</th>\n",
       "      <th>Z</th>\n",
       "    </tr>\n",
       "  </thead>\n",
       "  <tbody>\n",
       "    <tr>\n",
       "      <th>0</th>\n",
       "      <td>4.5</td>\n",
       "      <td>M</td>\n",
       "      <td>N</td>\n",
       "    </tr>\n",
       "    <tr>\n",
       "      <th>5</th>\n",
       "      <td>4.1</td>\n",
       "      <td>T</td>\n",
       "      <td>N</td>\n",
       "    </tr>\n",
       "    <tr>\n",
       "      <th>9</th>\n",
       "      <td>3.2</td>\n",
       "      <td>T</td>\n",
       "      <td>N</td>\n",
       "    </tr>\n",
       "    <tr>\n",
       "      <th>10</th>\n",
       "      <td>4.7</td>\n",
       "      <td>M</td>\n",
       "      <td>N</td>\n",
       "    </tr>\n",
       "    <tr>\n",
       "      <th>15</th>\n",
       "      <td>3.4</td>\n",
       "      <td>M</td>\n",
       "      <td>N</td>\n",
       "    </tr>\n",
       "  </tbody>\n",
       "</table>\n",
       "</div>"
      ],
      "text/plain": [
       "      S  T  Z\n",
       "0   4.5  M  N\n",
       "5   4.1  T  N\n",
       "9   3.2  T  N\n",
       "10  4.7  M  N\n",
       "15  3.4  M  N"
      ]
     },
     "execution_count": 189,
     "metadata": {},
     "output_type": "execute_result"
    }
   ],
   "source": [
    "grupo_noite"
   ]
  },
  {
   "cell_type": "code",
   "execution_count": 190,
   "metadata": {},
   "outputs": [],
   "source": [
    "media_manha = grupo_manha['S'].mean()\n",
    "mediana_manha = grupo_manha['S'].median()\n",
    "variancia_manha = grupo_manha['S'].var()"
   ]
  },
  {
   "cell_type": "code",
   "execution_count": 191,
   "metadata": {},
   "outputs": [],
   "source": [
    "media_tarde = grupo_tarde['S'].mean()\n",
    "mediana_tarde = grupo_tarde['S'].median()\n",
    "variancia_tarde = grupo_tarde['S'].var()"
   ]
  },
  {
   "cell_type": "code",
   "execution_count": 192,
   "metadata": {},
   "outputs": [],
   "source": [
    "media_noite = grupo_noite['S'].mean()\n",
    "mediana_noite = grupo_noite['S'].median()\n",
    "variancia_noite = grupo_noite['S'].var()"
   ]
  },
  {
   "cell_type": "code",
   "execution_count": 193,
   "metadata": {},
   "outputs": [
    {
     "name": "stdout",
     "output_type": "stream",
     "text": [
      "Média do grupo Matutino:  3.488888888888889\n",
      "Mediana do grupo Matutino:  3.4\n",
      "Variancia do grupo Matutino:  0.7211111111111111\n"
     ]
    }
   ],
   "source": [
    "print('Média do grupo Matutino: ', media_manha)\n",
    "print('Mediana do grupo Matutino: ', mediana_manha)\n",
    "print('Variancia do grupo Matutino: ', variancia_manha)"
   ]
  },
  {
   "cell_type": "code",
   "execution_count": 194,
   "metadata": {},
   "outputs": [
    {
     "name": "stdout",
     "output_type": "stream",
     "text": [
      "Média do grupo Vespertino:  4.1\n",
      "Mediana do grupo Vespertino:  3.9\n",
      "Variancia do grupo Vespertino:  0.7566666666666667\n"
     ]
    }
   ],
   "source": [
    "print('Média do grupo Vespertino: ', media_tarde)\n",
    "print('Mediana do grupo Vespertino: ', mediana_tarde)\n",
    "print('Variancia do grupo Vespertino: ', variancia_tarde)"
   ]
  },
  {
   "cell_type": "code",
   "execution_count": 195,
   "metadata": {},
   "outputs": [
    {
     "name": "stdout",
     "output_type": "stream",
     "text": [
      "Média do grupo Noturno:  3.9799999999999995\n",
      "Mediana do grupo Noturno:  4.1\n",
      "Variancia do grupo Noturno:  0.437\n"
     ]
    }
   ],
   "source": [
    "print('Média do grupo Noturno: ', media_noite)\n",
    "print('Mediana do grupo Noturno: ', mediana_noite)\n",
    "print('Variancia do grupo Noturno: ', variancia_noite)"
   ]
  },
  {
   "attachments": {},
   "cell_type": "markdown",
   "metadata": {},
   "source": [
    "Questão 4"
   ]
  },
  {
   "cell_type": "code",
   "execution_count": 196,
   "metadata": {},
   "outputs": [
    {
     "data": {
      "text/plain": [
       "[2.35,\n",
       " 2.56,\n",
       " 2.57,\n",
       " 2.58,\n",
       " 2.76,\n",
       " 2.77,\n",
       " 2.96,\n",
       " 2.97,\n",
       " 2.98,\n",
       " 2.99,\n",
       " 3.16,\n",
       " 3.17,\n",
       " 3.18,\n",
       " 3.19,\n",
       " 3.2,\n",
       " 3.36,\n",
       " 3.37,\n",
       " 3.38,\n",
       " 3.4,\n",
       " 3.45,\n",
       " 3.55]"
      ]
     },
     "execution_count": 196,
     "metadata": {},
     "output_type": "execute_result"
    }
   ],
   "source": [
    "pacientes = [ 2.35,\n",
    "              2.56,2.57,2.58,\n",
    "              2.76,2.77,\n",
    "              2.96,2.97,2.98,2.99,\n",
    "              3.16,3.17,3.18,3.19,3.20,\n",
    "              3.36,3.37,3.38,3.40,3.45,3.55]\n",
    "pacientes"
   ]
  },
  {
   "cell_type": "code",
   "execution_count": 197,
   "metadata": {},
   "outputs": [
    {
     "data": {
      "text/plain": [
       "array([2.77, 3.16, 3.36])"
      ]
     },
     "execution_count": 197,
     "metadata": {},
     "output_type": "execute_result"
    }
   ],
   "source": [
    "np.quantile(pacientes, q=[0.25, 0.50,0.75])"
   ]
  },
  {
   "cell_type": "code",
   "execution_count": 198,
   "metadata": {},
   "outputs": [
    {
     "data": {
      "text/plain": [
       "array([2.35, 2.59, 2.83, 3.07, 3.31, 3.55])"
      ]
     },
     "execution_count": 198,
     "metadata": {},
     "output_type": "execute_result"
    }
   ],
   "source": [
    "intervalos = np.linspace(start=np.min(pacientes), stop=np.max(pacientes), num=6)\n",
    "intervalos"
   ]
  },
  {
   "cell_type": "code",
   "execution_count": 199,
   "metadata": {},
   "outputs": [
    {
     "data": {
      "image/png": "[encoded data removed]",
      "text/plain": [
       "<Figure size 640x480 with 1 Axes>"
      ]
     },
     "metadata": {},
     "output_type": "display_data"
    }
   ],
   "source": [
    "plt.hist(pacientes, intervalos)\n",
    "plt.xlabel('Pacientes')\n",
    "plt.ylabel('Frequência')\n",
    "plt.tight_layout()\n",
    "plt.show()"
   ]
  },
  {
   "attachments": {},
   "cell_type": "markdown",
   "metadata": {},
   "source": [
    "Questão 5"
   ]
  },
  {
   "cell_type": "code",
   "execution_count": 200,
   "metadata": {},
   "outputs": [],
   "source": [
    "ensino_medio = np.concatenate((np.repeat(300,14),\n",
    "                               np.repeat(401,46),                 \n",
    "                               np.repeat(501,58),\n",
    "                               np.repeat(601,76),\n",
    "                               np.repeat(701,68),\n",
    "                               np.repeat(801,62),\n",
    "                               np.repeat(901,48),\n",
    "                               np.repeat(1001,22),\n",
    "                               np.repeat(1101,3),\n",
    "                               np.repeat(1200,3)))"
   ]
  },
  {
   "cell_type": "code",
   "execution_count": 201,
   "metadata": {},
   "outputs": [
    {
     "data": {
      "text/plain": [
       "array([ 300.,  400.,  500.,  600.,  700.,  800.,  900., 1000., 1100.,\n",
       "       1200.])"
      ]
     },
     "execution_count": 201,
     "metadata": {},
     "output_type": "execute_result"
    }
   ],
   "source": [
    "intervalos_ensino_medio = np.linspace(np.min(ensino_medio), np.max(ensino_medio),10)\n",
    "intervalos_ensino_medio"
   ]
  },
  {
   "cell_type": "code",
   "execution_count": 202,
   "metadata": {},
   "outputs": [
    {
     "data": {
      "image/png": "[encoded data removed]",
      "text/plain": [
       "<Figure size 640x480 with 1 Axes>"
      ]
     },
     "metadata": {},
     "output_type": "display_data"
    }
   ],
   "source": [
    "plt.hist(ensino_medio, intervalos_ensino_medio)\n",
    "plt.xlabel('Minutos')\n",
    "plt.ylabel('Frequência')\n",
    "plt.tight_layout()\n",
    "plt.show()"
   ]
  },
  {
   "cell_type": "code",
   "execution_count": 203,
   "metadata": {},
   "outputs": [],
   "source": [
    "ensino_superior = np.array([350,560,580,710,945,880,760,640,660,820,\n",
    "                            775,910,920,850,810,790,890,685,730,850,\n",
    "                            745,640,1010,420,770,850,915,840,930,895])"
   ]
  },
  {
   "cell_type": "code",
   "execution_count": 204,
   "metadata": {},
   "outputs": [
    {
     "data": {
      "text/plain": [
       "array([ 350.        ,  423.33333333,  496.66666667,  570.        ,\n",
       "        643.33333333,  716.66666667,  790.        ,  863.33333333,\n",
       "        936.66666667, 1010.        ])"
      ]
     },
     "execution_count": 204,
     "metadata": {},
     "output_type": "execute_result"
    }
   ],
   "source": [
    "intervalos_ensino_superior = np.linspace(np.min(ensino_superior), np.max(ensino_superior), 10)\n",
    "intervalos_ensino_superior"
   ]
  },
  {
   "cell_type": "code",
   "execution_count": 205,
   "metadata": {},
   "outputs": [
    {
     "data": {
      "image/png": "[encoded data removed]",
      "text/plain": [
       "<Figure size 640x480 with 1 Axes>"
      ]
     },
     "metadata": {},
     "output_type": "display_data"
    }
   ],
   "source": [
    "plt.hist(ensino_superior, intervalos_ensino_superior)\n",
    "plt.xlabel('Minutos')\n",
    "plt.ylabel('Frequência')\n",
    "plt.tight_layout()\n",
    "plt.show()"
   ]
  },
  {
   "attachments": {},
   "cell_type": "markdown",
   "metadata": {},
   "source": [
    "Após uma análise nos dois histogramas podemos notar que grande quantidade de alunos do ensino médio assistem TV entre 600 e 800 minutos, já no ensino superior, isso ocorre entre 700 e 900. Entretanto se compararmos a quantidade de amostras que temos do ensino médio com a que temos do ensino superior veremos que é desproporcional, então é possível que não esteja representando corretamente a população universitária."
   ]
  },
  {
   "attachments": {},
   "cell_type": "markdown",
   "metadata": {},
   "source": [
    "Exercício 6"
   ]
  },
  {
   "cell_type": "code",
   "execution_count": 206,
   "metadata": {},
   "outputs": [],
   "source": [
    "antes_treinamento  = np.concatenate((np.repeat(0, 442),\n",
    "                                     np.repeat(2.1, 200),\n",
    "                                     np.repeat(4.1, 130),\n",
    "                                     np.repeat(8.1, 34),\n",
    "                                     np.repeat(12.1, 10),\n",
    "                                     np.repeat(16.1, 2),\n",
    "                                     np.repeat(22, 1)))"
   ]
  },
  {
   "cell_type": "code",
   "execution_count": 207,
   "metadata": {},
   "outputs": [],
   "source": [
    "intervalos_antes_treinamento = np.linspace(np.min(antes_treinamento), np.max(antes_treinamento), 7)"
   ]
  },
  {
   "cell_type": "code",
   "execution_count": 208,
   "metadata": {},
   "outputs": [
    {
     "data": {
      "image/png": "[encoded data removed]",
      "text/plain": [
       "<Figure size 640x480 with 1 Axes>"
      ]
     },
     "metadata": {},
     "output_type": "display_data"
    }
   ],
   "source": [
    "plt.hist(antes_treinamento, intervalos_antes_treinamento)\n",
    "plt.xlabel('Km')\n",
    "plt.ylabel('Frequência')\n",
    "plt.tight_layout()\n",
    "plt.show()"
   ]
  },
  {
   "cell_type": "code",
   "execution_count": 209,
   "metadata": {},
   "outputs": [],
   "source": [
    "depois_treinamento = np.concatenate(\n",
    "                    (np.repeat(0,80),\n",
    "                     np.repeat(2.1,200),\n",
    "                     np.repeat(4.1,280),\n",
    "                     np.repeat(8.1,179),\n",
    "                     np.repeat(12.1,43),\n",
    "                     np.repeat(16.1,4),\n",
    "                     np.repeat(22,4)))"
   ]
  },
  {
   "cell_type": "code",
   "execution_count": 210,
   "metadata": {},
   "outputs": [],
   "source": [
    "intervalos_depois_treinamento = np.linspace(np.min(depois_treinamento), np.max(depois_treinamento), 14)"
   ]
  },
  {
   "cell_type": "code",
   "execution_count": 211,
   "metadata": {},
   "outputs": [
    {
     "data": {
      "image/png": "[encoded data removed]",
      "text/plain": [
       "<Figure size 640x480 with 1 Axes>"
      ]
     },
     "metadata": {},
     "output_type": "display_data"
    }
   ],
   "source": [
    "plt.hist(depois_treinamento,intervalos_depois_treinamento)\n",
    "plt.xlabel('Km')\n",
    "plt.ylabel('Frequência')\n",
    "plt.tight_layout()\n",
    "plt.show()"
   ]
  },
  {
   "cell_type": "code",
   "execution_count": 212,
   "metadata": {},
   "outputs": [],
   "source": [
    "media_antes_treinamento = np.mean(antes_treinamento)\n",
    "mediana_antes_treinamento = np.median(antes_treinamento)\n",
    "quantil_antes_treinamento = np.quantile(antes_treinamento, q=[0.25, 0.5, 0.75, 1])"
   ]
  },
  {
   "cell_type": "code",
   "execution_count": 213,
   "metadata": {},
   "outputs": [
    {
     "name": "stdout",
     "output_type": "stream",
     "text": [
      "Média antes do treinamento:  1.7137973137973137\n",
      "Mediana antes do treinamento:  0.0\n",
      "Quantis antes do treinamento:  [ 0.   0.   2.1 22. ]\n"
     ]
    }
   ],
   "source": [
    "print(\"Média antes do treinamento: \", media_antes_treinamento)\n",
    "print(\"Mediana antes do treinamento: \", mediana_antes_treinamento)\n",
    "print(\"Quantis antes do treinamento: \", quantil_antes_treinamento)"
   ]
  },
  {
   "cell_type": "code",
   "execution_count": 214,
   "metadata": {},
   "outputs": [],
   "source": [
    "media_depois_treinamento = np.mean(depois_treinamento)\n",
    "mediana_depois_treinamento = np.median(depois_treinamento)\n",
    "quantil_depois_treinamento = np.quantile(depois_treinamento, q=[0.25, 0.5, 0.75, 1])"
   ]
  },
  {
   "cell_type": "code",
   "execution_count": 215,
   "metadata": {},
   "outputs": [
    {
     "name": "stdout",
     "output_type": "stream",
     "text": [
      "Média depois do treinamento:  4.671645569620253\n",
      "Mediana depois do treinamento:  4.1\n",
      "Quantis depois do treinamento:  [ 2.1  4.1  8.1 22. ]\n"
     ]
    }
   ],
   "source": [
    "print(\"Média depois do treinamento: \", media_depois_treinamento)\n",
    "print(\"Mediana depois do treinamento: \", mediana_depois_treinamento)\n",
    "print(\"Quantis depois do treinamento: \", quantil_depois_treinamento)"
   ]
  },
  {
   "attachments": {},
   "cell_type": "markdown",
   "metadata": {},
   "source": [
    "Analisando os dados, percebemos que houve uma grande mudança em comparação da média de antes do treinamento e a média depois do treinamento que foi de 1.7 Km à 4.7Km aproximadamente. Então podemos afirmar que o treinamento de resistência aumentou o desempenho dos alunos."
   ]
  },
  {
   "attachments": {},
   "cell_type": "markdown",
   "metadata": {},
   "source": [
    "Exercício 7"
   ]
  },
  {
   "cell_type": "code",
   "execution_count": 216,
   "metadata": {},
   "outputs": [],
   "source": [
    "renda_pos_graduando = np.array([\n",
    "                        2.90, \n",
    "                        2.90, \n",
    "                        2.95, \n",
    "                        2.95,\n",
    "                        3.10, \n",
    "                        3.10, \n",
    "                        3.15, \n",
    "                        3.20, \n",
    "                        3.20, \n",
    "                        3.25, \n",
    "                        3.30, \n",
    "                        3.40, \n",
    "                        3.45, \n",
    "                        3.45, \n",
    "                        3.50, \n",
    "                        3.65, \n",
    "                        3.65, \n",
    "                        3.80,\n",
    "                        3.90,\n",
    "                        3.90, \n",
    "                        4.00, \n",
    "                        5.00, \n",
    "                        5.20, \n",
    "                        5.50,\n",
    "                        6.40])"
   ]
  },
  {
   "cell_type": "code",
   "execution_count": 217,
   "metadata": {},
   "outputs": [
    {
     "data": {
      "image/png": "[encoded data removed]",
      "text/plain": [
       "<Figure size 640x480 with 1 Axes>"
      ]
     },
     "metadata": {},
     "output_type": "display_data"
    }
   ],
   "source": [
    "plt.boxplot(renda_pos_graduando)\n",
    "plt.ylabel('Rendas mensais de pós-graduandos')\n",
    "plt.tight_layout()\n",
    "plt.show()"
   ]
  },
  {
   "cell_type": "code",
   "execution_count": null,
   "metadata": {},
   "outputs": [],
   "source": []
  },
  {
   "attachments": {},
   "cell_type": "markdown",
   "metadata": {},
   "source": [
    "Exercício 8"
   ]
  },
  {
   "cell_type": "code",
   "execution_count": 218,
   "metadata": {},
   "outputs": [
    {
     "data": {
      "text/html": [
       "<div>\n",
       "<style scoped>\n",
       "    .dataframe tbody tr th:only-of-type {\n",
       "        vertical-align: middle;\n",
       "    }\n",
       "\n",
       "    .dataframe tbody tr th {\n",
       "        vertical-align: top;\n",
       "    }\n",
       "\n",
       "    .dataframe thead th {\n",
       "        text-align: right;\n",
       "    }\n",
       "</style>\n",
       "<table border=\"1\" class=\"dataframe\">\n",
       "  <thead>\n",
       "    <tr style=\"text-align: right;\">\n",
       "      <th></th>\n",
       "      <th>Secao</th>\n",
       "      <th>Direito</th>\n",
       "      <th>Politica</th>\n",
       "      <th>Estatistica</th>\n",
       "    </tr>\n",
       "  </thead>\n",
       "  <tbody>\n",
       "    <tr>\n",
       "      <th>0</th>\n",
       "      <td>Pessoal</td>\n",
       "      <td>9</td>\n",
       "      <td>9.0</td>\n",
       "      <td>9</td>\n",
       "    </tr>\n",
       "    <tr>\n",
       "      <th>1</th>\n",
       "      <td>Pessoal</td>\n",
       "      <td>9</td>\n",
       "      <td>6.5</td>\n",
       "      <td>9</td>\n",
       "    </tr>\n",
       "    <tr>\n",
       "      <th>2</th>\n",
       "      <td>Pessoal</td>\n",
       "      <td>9</td>\n",
       "      <td>9.0</td>\n",
       "      <td>8</td>\n",
       "    </tr>\n",
       "    <tr>\n",
       "      <th>3</th>\n",
       "      <td>Pessoal</td>\n",
       "      <td>9</td>\n",
       "      <td>6.0</td>\n",
       "      <td>8</td>\n",
       "    </tr>\n",
       "    <tr>\n",
       "      <th>4</th>\n",
       "      <td>Pessoal</td>\n",
       "      <td>9</td>\n",
       "      <td>6.5</td>\n",
       "      <td>9</td>\n",
       "    </tr>\n",
       "  </tbody>\n",
       "</table>\n",
       "</div>"
      ],
      "text/plain": [
       "     Secao  Direito  Politica  Estatistica\n",
       "0  Pessoal        9       9.0            9\n",
       "1  Pessoal        9       6.5            9\n",
       "2  Pessoal        9       9.0            8\n",
       "3  Pessoal        9       6.0            8\n",
       "4  Pessoal        9       6.5            9"
      ]
     },
     "execution_count": 218,
     "metadata": {},
     "output_type": "execute_result"
    }
   ],
   "source": [
    "df = pd.read_csv('../Unidade2/DataSets/industria_secoes.csv', sep=\";\")\n",
    "df.head()"
   ]
  },
  {
   "cell_type": "code",
   "execution_count": 219,
   "metadata": {},
   "outputs": [],
   "source": [
    "media_direito = df.Direito.mean()\n",
    "mediana_direito = df.Direito.median()\n",
    "desvio_padrao_direito = df.Direito.std()\n",
    "coeficiente_variacao_direito = (desvio_padrao_direito/media_direito)*100"
   ]
  },
  {
   "cell_type": "code",
   "execution_count": 220,
   "metadata": {},
   "outputs": [],
   "source": [
    "media_politica = df.Politica.mean()\n",
    "mediana_politica = df.Politica.median()\n",
    "desvio_padrao_politica = df.Politica.std()\n",
    "coeficiente_variacao_politica = (desvio_padrao_politica/media_politica)*100"
   ]
  },
  {
   "cell_type": "code",
   "execution_count": 221,
   "metadata": {},
   "outputs": [],
   "source": [
    "media_estatistica    = df.Estatistica.mean()\n",
    "mediana_estatistica  = df.Estatistica.median()\n",
    "desvio_padrao_estatistica       = df.Estatistica.std()\n",
    "coeficiente_variacao_estatistica       = (desvio_padrao_estatistica/media_estatistica)*100"
   ]
  },
  {
   "cell_type": "code",
   "execution_count": 222,
   "metadata": {},
   "outputs": [],
   "source": [
    "df.Direito = df.Direito.astype(\"float64\")\n",
    "df.Politica = df.Politica.astype(\"float64\")\n",
    "df.Estatistica = df.Estatistica.astype(\"float64\")"
   ]
  },
  {
   "cell_type": "code",
   "execution_count": 223,
   "metadata": {},
   "outputs": [
    {
     "data": {
      "text/html": [
       "<div>\n",
       "<style scoped>\n",
       "    .dataframe tbody tr th:only-of-type {\n",
       "        vertical-align: middle;\n",
       "    }\n",
       "\n",
       "    .dataframe tbody tr th {\n",
       "        vertical-align: top;\n",
       "    }\n",
       "\n",
       "    .dataframe thead th {\n",
       "        text-align: right;\n",
       "    }\n",
       "</style>\n",
       "<table border=\"1\" class=\"dataframe\">\n",
       "  <thead>\n",
       "    <tr style=\"text-align: right;\">\n",
       "      <th></th>\n",
       "      <th>Curso</th>\n",
       "      <th>Média</th>\n",
       "      <th>Mediana</th>\n",
       "      <th>Desvio Padrão</th>\n",
       "      <th>Coeficiente de Variação</th>\n",
       "    </tr>\n",
       "  </thead>\n",
       "  <tbody>\n",
       "    <tr>\n",
       "      <th>0</th>\n",
       "      <td>Direito</td>\n",
       "      <td>9.00</td>\n",
       "      <td>9.0</td>\n",
       "      <td>0.000000</td>\n",
       "      <td>0.000000</td>\n",
       "    </tr>\n",
       "    <tr>\n",
       "      <th>1</th>\n",
       "      <td>Politica</td>\n",
       "      <td>7.30</td>\n",
       "      <td>7.0</td>\n",
       "      <td>1.391941</td>\n",
       "      <td>19.067686</td>\n",
       "    </tr>\n",
       "    <tr>\n",
       "      <th>2</th>\n",
       "      <td>Estatistica</td>\n",
       "      <td>7.96</td>\n",
       "      <td>8.0</td>\n",
       "      <td>1.540563</td>\n",
       "      <td>19.353802</td>\n",
       "    </tr>\n",
       "  </tbody>\n",
       "</table>\n",
       "</div>"
      ],
      "text/plain": [
       "         Curso  Média  Mediana  Desvio Padrão  Coeficiente de Variação\n",
       "0      Direito   9.00      9.0       0.000000                 0.000000\n",
       "1     Politica   7.30      7.0       1.391941                19.067686\n",
       "2  Estatistica   7.96      8.0       1.540563                19.353802"
      ]
     },
     "execution_count": 223,
     "metadata": {},
     "output_type": "execute_result"
    }
   ],
   "source": [
    "media = [media_direito, media_politica, media_estatistica]\n",
    "mediana = [mediana_direito, mediana_politica, mediana_estatistica]\n",
    "desvio_padrao = [desvio_padrao_direito, desvio_padrao_politica, desvio_padrao_estatistica]\n",
    "coeficiente_variacao = [coeficiente_variacao_direito, coeficiente_variacao_politica, coeficiente_variacao_estatistica]\n",
    "df_secao = pd.DataFrame(\n",
    "    {'Curso': ['Direito', 'Politica', 'Estatistica'],\n",
    "     'Média': media,\n",
    "     'Mediana': mediana,\n",
    "     'Desvio Padrão': desvio_padrao,\n",
    "     'Coeficiente de Variação':coeficiente_variacao\n",
    "    })\n",
    "df_secao"
   ]
  },
  {
   "cell_type": "code",
   "execution_count": 224,
   "metadata": {},
   "outputs": [
    {
     "data": {
      "image/png": "[encoded data removed]",
      "text/plain": [
       "<Figure size 640x480 with 1 Axes>"
      ]
     },
     "metadata": {},
     "output_type": "display_data"
    }
   ],
   "source": [
    "data = [df.Direito, df.Politica, df.Estatistica]\n",
    "fig, ax = plt.subplots()\n",
    "ax.boxplot(data, labels=['Direito', 'Política', 'Estatística'])\n",
    "plt.show()"
   ]
  },
  {
   "attachments": {},
   "cell_type": "markdown",
   "metadata": {},
   "source": [
    "Analisando o boxplot vemos que há uma grande diferença entre os cursos de direito, política e estatística. Em direito percebemos que todos os funcionários tiraram a mesma nota, enquanto que em estatística houve um funcionário que tirou uma nota bem inferior aos demais funcionários."
   ]
  },
  {
   "cell_type": "code",
   "execution_count": 225,
   "metadata": {},
   "outputs": [
    {
     "data": {
      "text/html": [
       "<div>\n",
       "<style scoped>\n",
       "    .dataframe tbody tr th:only-of-type {\n",
       "        vertical-align: middle;\n",
       "    }\n",
       "\n",
       "    .dataframe tbody tr th {\n",
       "        vertical-align: top;\n",
       "    }\n",
       "\n",
       "    .dataframe thead tr th {\n",
       "        text-align: left;\n",
       "    }\n",
       "</style>\n",
       "<table border=\"1\" class=\"dataframe\">\n",
       "  <thead>\n",
       "    <tr>\n",
       "      <th></th>\n",
       "      <th>Secao</th>\n",
       "      <th colspan=\"4\" halign=\"left\">Estatistica</th>\n",
       "    </tr>\n",
       "    <tr>\n",
       "      <th></th>\n",
       "      <th></th>\n",
       "      <th>mean</th>\n",
       "      <th>median</th>\n",
       "      <th>std</th>\n",
       "      <th>variation</th>\n",
       "    </tr>\n",
       "  </thead>\n",
       "  <tbody>\n",
       "    <tr>\n",
       "      <th>0</th>\n",
       "      <td>Pessoal</td>\n",
       "      <td>8.714286</td>\n",
       "      <td>9.0</td>\n",
       "      <td>0.755929</td>\n",
       "      <td>8.031114</td>\n",
       "    </tr>\n",
       "    <tr>\n",
       "      <th>1</th>\n",
       "      <td>Técnica</td>\n",
       "      <td>8.285714</td>\n",
       "      <td>8.0</td>\n",
       "      <td>1.112697</td>\n",
       "      <td>12.432935</td>\n",
       "    </tr>\n",
       "    <tr>\n",
       "      <th>2</th>\n",
       "      <td>Vendas</td>\n",
       "      <td>7.272727</td>\n",
       "      <td>8.0</td>\n",
       "      <td>1.902152</td>\n",
       "      <td>24.937422</td>\n",
       "    </tr>\n",
       "  </tbody>\n",
       "</table>\n",
       "</div>"
      ],
      "text/plain": [
       "     Secao Estatistica                            \n",
       "                  mean median       std  variation\n",
       "0  Pessoal    8.714286    9.0  0.755929   8.031114\n",
       "1  Técnica    8.285714    8.0  1.112697  12.432935\n",
       "2   Vendas    7.272727    8.0  1.902152  24.937422"
      ]
     },
     "execution_count": 225,
     "metadata": {},
     "output_type": "execute_result"
    }
   ],
   "source": [
    "estatistica_industria = df.groupby(by=['Secao']).agg({'Estatistica': [np.mean, np.median, np.std, variation]}).reset_index()\n",
    "estatistica_industria[('Estatistica', 'variation')] = estatistica_industria[('Estatistica', 'variation')] * 100\n",
    "estatistica_industria"
   ]
  },
  {
   "attachments": {},
   "cell_type": "markdown",
   "metadata": {},
   "source": [
    "Observando as 3 seções e seus dados podemos perceber que o desempenho da seção Pessoal foi superior."
   ]
  },
  {
   "attachments": {},
   "cell_type": "markdown",
   "metadata": {},
   "source": [
    "Exercício 9"
   ]
  },
  {
   "cell_type": "code",
   "execution_count": 230,
   "metadata": {},
   "outputs": [
    {
     "data": {
      "text/html": [
       "<div>\n",
       "<style scoped>\n",
       "    .dataframe tbody tr th:only-of-type {\n",
       "        vertical-align: middle;\n",
       "    }\n",
       "\n",
       "    .dataframe tbody tr th {\n",
       "        vertical-align: top;\n",
       "    }\n",
       "\n",
       "    .dataframe thead th {\n",
       "        text-align: right;\n",
       "    }\n",
       "</style>\n",
       "<table border=\"1\" class=\"dataframe\">\n",
       "  <thead>\n",
       "    <tr style=\"text-align: right;\">\n",
       "      <th></th>\n",
       "      <th>Estado</th>\n",
       "      <th>V</th>\n",
       "      <th>P</th>\n",
       "      <th>logV</th>\n",
       "      <th>logP</th>\n",
       "    </tr>\n",
       "  </thead>\n",
       "  <tbody>\n",
       "    <tr>\n",
       "      <th>0</th>\n",
       "      <td>Amazonas</td>\n",
       "      <td>333</td>\n",
       "      <td>527</td>\n",
       "      <td>2.52</td>\n",
       "      <td>2.72</td>\n",
       "    </tr>\n",
       "    <tr>\n",
       "      <th>1</th>\n",
       "      <td>Pará</td>\n",
       "      <td>2655</td>\n",
       "      <td>2035</td>\n",
       "      <td>3.42</td>\n",
       "      <td>3.31</td>\n",
       "    </tr>\n",
       "    <tr>\n",
       "      <th>2</th>\n",
       "      <td>Maranhão</td>\n",
       "      <td>71</td>\n",
       "      <td>271</td>\n",
       "      <td>1.85</td>\n",
       "      <td>2.43</td>\n",
       "    </tr>\n",
       "    <tr>\n",
       "      <th>3</th>\n",
       "      <td>Piauí</td>\n",
       "      <td>882</td>\n",
       "      <td>1290</td>\n",
       "      <td>2.95</td>\n",
       "      <td>3.11</td>\n",
       "    </tr>\n",
       "    <tr>\n",
       "      <th>4</th>\n",
       "      <td>Ceará</td>\n",
       "      <td>8874</td>\n",
       "      <td>13776</td>\n",
       "      <td>3.95</td>\n",
       "      <td>4.14</td>\n",
       "    </tr>\n",
       "  </tbody>\n",
       "</table>\n",
       "</div>"
      ],
      "text/plain": [
       "     Estado     V      P  logV  logP\n",
       "0  Amazonas   333    527  2.52  2.72\n",
       "1      Pará  2655   2035  3.42  3.31\n",
       "2  Maranhão    71    271  1.85  2.43\n",
       "3     Piauí   882   1290  2.95  3.11\n",
       "4     Ceará  8874  13776  3.95  4.14"
      ]
     },
     "execution_count": 230,
     "metadata": {},
     "output_type": "execute_result"
    }
   ],
   "source": [
    "df = pd.read_csv(\"../Unidade2/DataSets/estados_producao_industrial.csv\", sep=\";\")\n",
    "df.head()"
   ]
  },
  {
   "cell_type": "code",
   "execution_count": 231,
   "metadata": {},
   "outputs": [
    {
     "data": {
      "application/vnd.plotly.v1+json": {
       "config": {
        "plotlyServerURL": "https://plot.ly"
       },
       "data": [
        {
         "hovertemplate": "V=%{x}<br>P=%{y}<extra></extra>",
         "legendgroup": "",
         "marker": {
          "color": "#636efa",
          "line": {
           "width": 2
          },
          "size": 12,
          "symbol": "circle"
         },
         "mode": "markers",
         "name": "",
         "orientation": "v",
         "showlegend": false,
         "type": "scatter",
         "x": [
          333,
          2655,
          71,
          882,
          8874,
          5989,
          1469,
          9134,
          924,
          951,
          2234,
          17089,
          2653,
          39503,
          172229,
          4364,
          34335,
          64851,
          59,
          32,
          1196,
          99
         ],
         "xaxis": "x",
         "y": [
          527,
          2035,
          271,
          1290,
          13776,
          9816,
          2499,
          12720,
          1031,
          961,
          4154,
          30002,
          4402,
          49256,
          195756,
          7619,
          28949,
          91813,
          222,
          83,
          2415,
          239
         ],
         "yaxis": "y"
        }
       ],
       "layout": {
        "legend": {
         "tracegroupgap": 0
        },
        "margin": {
         "t": 60
        },
        "template": {
         "data": {
          "bar": [
           {
            "error_x": {
             "color": "#2a3f5f"
            },
            "error_y": {
             "color": "#2a3f5f"
            },
            "marker": {
             "line": {
              "color": "#E5ECF6",
              "width": 0.5
             },
             "pattern": {
              "fillmode": "overlay",
              "size": 10,
              "solidity": 0.2
             }
            },
            "type": "bar"
           }
          ],
          "barpolar": [
           {
            "marker": {
             "line": {
              "color": "#E5ECF6",
              "width": 0.5
             },
             "pattern": {
              "fillmode": "overlay",
              "size": 10,
              "solidity": 0.2
             }
            },
            "type": "barpolar"
           }
          ],
          "carpet": [
           {
            "aaxis": {
             "endlinecolor": "#2a3f5f",
             "gridcolor": "white",
             "linecolor": "white",
             "minorgridcolor": "white",
             "startlinecolor": "#2a3f5f"
            },
            "baxis": {
             "endlinecolor": "#2a3f5f",
             "gridcolor": "white",
             "linecolor": "white",
             "minorgridcolor": "white",
             "startlinecolor": "#2a3f5f"
            },
            "type": "carpet"
           }
          ],
          "choropleth": [
           {
            "colorbar": {
             "outlinewidth": 0,
             "ticks": ""
            },
            "type": "choropleth"
           }
          ],
          "contour": [
           {
            "colorbar": {
             "outlinewidth": 0,
             "ticks": ""
            },
            "colorscale": [
             [
              0,
              "#0d0887"
             ],
             [
              0.1111111111111111,
              "#46039f"
             ],
             [
              0.2222222222222222,
              "#7201a8"
             ],
             [
              0.3333333333333333,
              "#9c179e"
             ],
             [
              0.4444444444444444,
              "#bd3786"
             ],
             [
              0.5555555555555556,
              "#d8576b"
             ],
             [
              0.6666666666666666,
              "#ed7953"
             ],
             [
              0.7777777777777778,
              "#fb9f3a"
             ],
             [
              0.8888888888888888,
              "#fdca26"
             ],
             [
              1,
              "#f0f921"
             ]
            ],
            "type": "contour"
           }
          ],
          "contourcarpet": [
           {
            "colorbar": {
             "outlinewidth": 0,
             "ticks": ""
            },
            "type": "contourcarpet"
           }
          ],
          "heatmap": [
           {
            "colorbar": {
             "outlinewidth": 0,
             "ticks": ""
            },
            "colorscale": [
             [
              0,
              "#0d0887"
             ],
             [
              0.1111111111111111,
              "#46039f"
             ],
             [
              0.2222222222222222,
              "#7201a8"
             ],
             [
              0.3333333333333333,
              "#9c179e"
             ],
             [
              0.4444444444444444,
              "#bd3786"
             ],
             [
              0.5555555555555556,
              "#d8576b"
             ],
             [
              0.6666666666666666,
              "#ed7953"
             ],
             [
              0.7777777777777778,
              "#fb9f3a"
             ],
             [
              0.8888888888888888,
              "#fdca26"
             ],
             [
              1,
              "#f0f921"
             ]
            ],
            "type": "heatmap"
           }
          ],
          "heatmapgl": [
           {
            "colorbar": {
             "outlinewidth": 0,
             "ticks": ""
            },
            "colorscale": [
             [
              0,
              "#0d0887"
             ],
             [
              0.1111111111111111,
              "#46039f"
             ],
             [
              0.2222222222222222,
              "#7201a8"
             ],
             [
              0.3333333333333333,
              "#9c179e"
             ],
             [
              0.4444444444444444,
              "#bd3786"
             ],
             [
              0.5555555555555556,
              "#d8576b"
             ],
             [
              0.6666666666666666,
              "#ed7953"
             ],
             [
              0.7777777777777778,
              "#fb9f3a"
             ],
             [
              0.8888888888888888,
              "#fdca26"
             ],
             [
              1,
              "#f0f921"
             ]
            ],
            "type": "heatmapgl"
           }
          ],
          "histogram": [
           {
            "marker": {
             "pattern": {
              "fillmode": "overlay",
              "size": 10,
              "solidity": 0.2
             }
            },
            "type": "histogram"
           }
          ],
          "histogram2d": [
           {
            "colorbar": {
             "outlinewidth": 0,
             "ticks": ""
            },
            "colorscale": [
             [
              0,
              "#0d0887"
             ],
             [
              0.1111111111111111,
              "#46039f"
             ],
             [
              0.2222222222222222,
              "#7201a8"
             ],
             [
              0.3333333333333333,
              "#9c179e"
             ],
             [
              0.4444444444444444,
              "#bd3786"
             ],
             [
              0.5555555555555556,
              "#d8576b"
             ],
             [
              0.6666666666666666,
              "#ed7953"
             ],
             [
              0.7777777777777778,
              "#fb9f3a"
             ],
             [
              0.8888888888888888,
              "#fdca26"
             ],
             [
              1,
              "#f0f921"
             ]
            ],
            "type": "histogram2d"
           }
          ],
          "histogram2dcontour": [
           {
            "colorbar": {
             "outlinewidth": 0,
             "ticks": ""
            },
            "colorscale": [
             [
              0,
              "#0d0887"
             ],
             [
              0.1111111111111111,
              "#46039f"
             ],
             [
              0.2222222222222222,
              "#7201a8"
             ],
             [
              0.3333333333333333,
              "#9c179e"
             ],
             [
              0.4444444444444444,
              "#bd3786"
             ],
             [
              0.5555555555555556,
              "#d8576b"
             ],
             [
              0.6666666666666666,
              "#ed7953"
             ],
             [
              0.7777777777777778,
              "#fb9f3a"
             ],
             [
              0.8888888888888888,
              "#fdca26"
             ],
             [
              1,
              "#f0f921"
             ]
            ],
            "type": "histogram2dcontour"
           }
          ],
          "mesh3d": [
           {
            "colorbar": {
             "outlinewidth": 0,
             "ticks": ""
            },
            "type": "mesh3d"
           }
          ],
          "parcoords": [
           {
            "line": {
             "colorbar": {
              "outlinewidth": 0,
              "ticks": ""
             }
            },
            "type": "parcoords"
           }
          ],
          "pie": [
           {
            "automargin": true,
            "type": "pie"
           }
          ],
          "scatter": [
           {
            "fillpattern": {
             "fillmode": "overlay",
             "size": 10,
             "solidity": 0.2
            },
            "type": "scatter"
           }
          ],
          "scatter3d": [
           {
            "line": {
             "colorbar": {
              "outlinewidth": 0,
              "ticks": ""
             }
            },
            "marker": {
             "colorbar": {
              "outlinewidth": 0,
              "ticks": ""
             }
            },
            "type": "scatter3d"
           }
          ],
          "scattercarpet": [
           {
            "marker": {
             "colorbar": {
              "outlinewidth": 0,
              "ticks": ""
             }
            },
            "type": "scattercarpet"
           }
          ],
          "scattergeo": [
           {
            "marker": {
             "colorbar": {
              "outlinewidth": 0,
              "ticks": ""
             }
            },
            "type": "scattergeo"
           }
          ],
          "scattergl": [
           {
            "marker": {
             "colorbar": {
              "outlinewidth": 0,
              "ticks": ""
             }
            },
            "type": "scattergl"
           }
          ],
          "scattermapbox": [
           {
            "marker": {
             "colorbar": {
              "outlinewidth": 0,
              "ticks": ""
             }
            },
            "type": "scattermapbox"
           }
          ],
          "scatterpolar": [
           {
            "marker": {
             "colorbar": {
              "outlinewidth": 0,
              "ticks": ""
             }
            },
            "type": "scatterpolar"
           }
          ],
          "scatterpolargl": [
           {
            "marker": {
             "colorbar": {
              "outlinewidth": 0,
              "ticks": ""
             }
            },
            "type": "scatterpolargl"
           }
          ],
          "scatterternary": [
           {
            "marker": {
             "colorbar": {
              "outlinewidth": 0,
              "ticks": ""
             }
            },
            "type": "scatterternary"
           }
          ],
          "surface": [
           {
            "colorbar": {
             "outlinewidth": 0,
             "ticks": ""
            },
            "colorscale": [
             [
              0,
              "#0d0887"
             ],
             [
              0.1111111111111111,
              "#46039f"
             ],
             [
              0.2222222222222222,
              "#7201a8"
             ],
             [
              0.3333333333333333,
              "#9c179e"
             ],
             [
              0.4444444444444444,
              "#bd3786"
             ],
             [
              0.5555555555555556,
              "#d8576b"
             ],
             [
              0.6666666666666666,
              "#ed7953"
             ],
             [
              0.7777777777777778,
              "#fb9f3a"
             ],
             [
              0.8888888888888888,
              "#fdca26"
             ],
             [
              1,
              "#f0f921"
             ]
            ],
            "type": "surface"
           }
          ],
          "table": [
           {
            "cells": {
             "fill": {
              "color": "#EBF0F8"
             },
             "line": {
              "color": "white"
             }
            },
            "header": {
             "fill": {
              "color": "#C8D4E3"
             },
             "line": {
              "color": "white"
             }
            },
            "type": "table"
           }
          ]
         },
         "layout": {
          "annotationdefaults": {
           "arrowcolor": "#2a3f5f",
           "arrowhead": 0,
           "arrowwidth": 1
          },
          "autotypenumbers": "strict",
          "coloraxis": {
           "colorbar": {
            "outlinewidth": 0,
            "ticks": ""
           }
          },
          "colorscale": {
           "diverging": [
            [
             0,
             "#8e0152"
            ],
            [
             0.1,
             "#c51b7d"
            ],
            [
             0.2,
             "#de77ae"
            ],
            [
             0.3,
             "#f1b6da"
            ],
            [
             0.4,
             "#fde0ef"
            ],
            [
             0.5,
             "#f7f7f7"
            ],
            [
             0.6,
             "#e6f5d0"
            ],
            [
             0.7,
             "#b8e186"
            ],
            [
             0.8,
             "#7fbc41"
            ],
            [
             0.9,
             "#4d9221"
            ],
            [
             1,
             "#276419"
            ]
           ],
           "sequential": [
            [
             0,
             "#0d0887"
            ],
            [
             0.1111111111111111,
             "#46039f"
            ],
            [
             0.2222222222222222,
             "#7201a8"
            ],
            [
             0.3333333333333333,
             "#9c179e"
            ],
            [
             0.4444444444444444,
             "#bd3786"
            ],
            [
             0.5555555555555556,
             "#d8576b"
            ],
            [
             0.6666666666666666,
             "#ed7953"
            ],
            [
             0.7777777777777778,
             "#fb9f3a"
            ],
            [
             0.8888888888888888,
             "#fdca26"
            ],
            [
             1,
             "#f0f921"
            ]
           ],
           "sequentialminus": [
            [
             0,
             "#0d0887"
            ],
            [
             0.1111111111111111,
             "#46039f"
            ],
            [
             0.2222222222222222,
             "#7201a8"
            ],
            [
             0.3333333333333333,
             "#9c179e"
            ],
            [
             0.4444444444444444,
             "#bd3786"
            ],
            [
             0.5555555555555556,
             "#d8576b"
            ],
            [
             0.6666666666666666,
             "#ed7953"
            ],
            [
             0.7777777777777778,
             "#fb9f3a"
            ],
            [
             0.8888888888888888,
             "#fdca26"
            ],
            [
             1,
             "#f0f921"
            ]
           ]
          },
          "colorway": [
           "#636efa",
           "#EF553B",
           "#00cc96",
           "#ab63fa",
           "#FFA15A",
           "#19d3f3",
           "#FF6692",
           "#B6E880",
           "#FF97FF",
           "#FECB52"
          ],
          "font": {
           "color": "#2a3f5f"
          },
          "geo": {
           "bgcolor": "white",
           "lakecolor": "white",
           "landcolor": "#E5ECF6",
           "showlakes": true,
           "showland": true,
           "subunitcolor": "white"
          },
          "hoverlabel": {
           "align": "left"
          },
          "hovermode": "closest",
          "mapbox": {
           "style": "light"
          },
          "paper_bgcolor": "white",
          "plot_bgcolor": "#E5ECF6",
          "polar": {
           "angularaxis": {
            "gridcolor": "white",
            "linecolor": "white",
            "ticks": ""
           },
           "bgcolor": "#E5ECF6",
           "radialaxis": {
            "gridcolor": "white",
            "linecolor": "white",
            "ticks": ""
           }
          },
          "scene": {
           "xaxis": {
            "backgroundcolor": "#E5ECF6",
            "gridcolor": "white",
            "gridwidth": 2,
            "linecolor": "white",
            "showbackground": true,
            "ticks": "",
            "zerolinecolor": "white"
           },
           "yaxis": {
            "backgroundcolor": "#E5ECF6",
            "gridcolor": "white",
            "gridwidth": 2,
            "linecolor": "white",
            "showbackground": true,
            "ticks": "",
            "zerolinecolor": "white"
           },
           "zaxis": {
            "backgroundcolor": "#E5ECF6",
            "gridcolor": "white",
            "gridwidth": 2,
            "linecolor": "white",
            "showbackground": true,
            "ticks": "",
            "zerolinecolor": "white"
           }
          },
          "shapedefaults": {
           "line": {
            "color": "#2a3f5f"
           }
          },
          "ternary": {
           "aaxis": {
            "gridcolor": "white",
            "linecolor": "white",
            "ticks": ""
           },
           "baxis": {
            "gridcolor": "white",
            "linecolor": "white",
            "ticks": ""
           },
           "bgcolor": "#E5ECF6",
           "caxis": {
            "gridcolor": "white",
            "linecolor": "white",
            "ticks": ""
           }
          },
          "title": {
           "x": 0.05
          },
          "xaxis": {
           "automargin": true,
           "gridcolor": "white",
           "linecolor": "white",
           "ticks": "",
           "title": {
            "standoff": 15
           },
           "zerolinecolor": "white",
           "zerolinewidth": 2
          },
          "yaxis": {
           "automargin": true,
           "gridcolor": "white",
           "linecolor": "white",
           "ticks": "",
           "title": {
            "standoff": 15
           },
           "zerolinecolor": "white",
           "zerolinewidth": 2
          }
         }
        },
        "title": {
         "text": "Logaritmo do V e do P"
        },
        "width": 800,
        "xaxis": {
         "anchor": "y",
         "domain": [
          0,
          1
         ],
         "title": {
          "text": "Log(V)"
         },
         "type": "log"
        },
        "yaxis": {
         "anchor": "x",
         "domain": [
          0,
          1
         ],
         "title": {
          "text": "Log(P)"
         }
        }
       }
      }
     },
     "metadata": {},
     "output_type": "display_data"
    }
   ],
   "source": [
    "fig = px.scatter(df, x = 'V', y = 'P', log_x = True, width = 800)\n",
    "fig.update_traces(marker = dict(size=12, line = dict(width=2)),selector=dict(mode = 'markers'))\n",
    "fig.update_layout(title = 'Logaritmo do V e do P')\n",
    "fig.update_xaxes(title ='Log(V)')\n",
    "fig.update_yaxes(title = 'Log(P)')\n",
    "fig.show()"
   ]
  },
  {
   "attachments": {},
   "cell_type": "markdown",
   "metadata": {},
   "source": [
    "Questão 10"
   ]
  },
  {
   "cell_type": "code",
   "execution_count": 232,
   "metadata": {},
   "outputs": [
    {
     "data": {
      "text/plain": [
       "Index(['X ', 'Y '], dtype='object')"
      ]
     },
     "execution_count": 232,
     "metadata": {},
     "output_type": "execute_result"
    }
   ],
   "source": [
    "df = pd.read_csv('../Unidade2/DataSets/propriedades_concreto.csv', sep=';')\n",
    "df.columns"
   ]
  },
  {
   "cell_type": "code",
   "execution_count": 233,
   "metadata": {},
   "outputs": [],
   "source": [
    "x = df['X ']\n",
    "y = df['Y ']"
   ]
  },
  {
   "cell_type": "code",
   "execution_count": 234,
   "metadata": {},
   "outputs": [
    {
     "data": {
      "image/png": "[encoded data removed]",
      "text/plain": [
       "<Figure size 640x480 with 1 Axes>"
      ]
     },
     "metadata": {},
     "output_type": "display_data"
    }
   ],
   "source": [
    "plt.scatter(x, y)\n",
    "plt.xlabel('Módulo Secante (x 10^6 psi)')\n",
    "plt.ylabel('Força de Compressão (x 10^3 psi)')\n",
    "plt.title('Gráfico de Dispersão')\n",
    "plt.show()"
   ]
  },
  {
   "cell_type": "code",
   "execution_count": 235,
   "metadata": {},
   "outputs": [
    {
     "name": "stdout",
     "output_type": "stream",
     "text": [
      "Coeficiente de correlação: 0.85\n"
     ]
    }
   ],
   "source": [
    "corr = np.corrcoef(x, y)\n",
    "print(\"Coeficiente de correlação: {:.2f}\".format(corr[0,1]))"
   ]
  },
  {
   "attachments": {},
   "cell_type": "markdown",
   "metadata": {},
   "source": [
    "QUESTÃO 11"
   ]
  },
  {
   "cell_type": "code",
   "execution_count": 236,
   "metadata": {},
   "outputs": [],
   "source": [
    "media = 8\n",
    "desvio_padrao = 1.5\n",
    "limite_regulatorio = 10"
   ]
  },
  {
   "cell_type": "code",
   "execution_count": 237,
   "metadata": {},
   "outputs": [
    {
     "name": "stdout",
     "output_type": "stream",
     "text": [
      "Probabilidade de exceder o limite regulatório: 9.12%\n"
     ]
    }
   ],
   "source": [
    "probabilidade = 1 - norm.cdf(limite_regulatorio, media, desvio_padrao)\n",
    "print(\"Probabilidade de exceder o limite regulatório: {:.2%}\".format(probabilidade))"
   ]
  },
  {
   "attachments": {},
   "cell_type": "markdown",
   "metadata": {},
   "source": [
    "QUESTÃO 12"
   ]
  },
  {
   "cell_type": "code",
   "execution_count": 238,
   "metadata": {},
   "outputs": [],
   "source": [
    "media = 10\n",
    "variancia = 4\n",
    "desvio_padrao = variancia ** 0.5"
   ]
  },
  {
   "cell_type": "code",
   "execution_count": 239,
   "metadata": {},
   "outputs": [
    {
     "name": "stdout",
     "output_type": "stream",
     "text": [
      "A probabilidade de a medida exceder 13 mAh é de 6.68%\n"
     ]
    }
   ],
   "source": [
    "probabilidade_13 = norm.sf(13, media, desvio_padrao)\n",
    "print(\"A probabilidade de a medida exceder 13 mAh é de {:.2%}\".format(probabilidade_13))"
   ]
  },
  {
   "cell_type": "code",
   "execution_count": 240,
   "metadata": {},
   "outputs": [
    {
     "name": "stdout",
     "output_type": "stream",
     "text": [
      "A probabilidade de a medida estar entre 9 e 11 mAh é de 38.29%\n"
     ]
    }
   ],
   "source": [
    "probabilidade_9_11 = norm.cdf(11, loc=media, scale=desvio_padrao) - norm.cdf(9, loc=media, scale=desvio_padrao)\n",
    "print(\"A probabilidade de a medida estar entre 9 e 11 mAh é de {:.2%}\".format(probabilidade_9_11))"
   ]
  },
  {
   "attachments": {},
   "cell_type": "markdown",
   "metadata": {},
   "source": [
    "QUESTÃO 13"
   ]
  },
  {
   "cell_type": "code",
   "execution_count": 241,
   "metadata": {},
   "outputs": [],
   "source": [
    "media = 150000\n",
    "desvio_padrao = 5000"
   ]
  },
  {
   "cell_type": "code",
   "execution_count": 242,
   "metadata": {},
   "outputs": [
    {
     "name": "stdout",
     "output_type": "stream",
     "text": [
      "Probabilidade de o motor durar menos de 170.000 km: 1.00\n"
     ]
    }
   ],
   "source": [
    "probabilidade = norm.cdf(170000, media, desvio_padrao)\n",
    "print(f\"Probabilidade de o motor durar menos de 170.000 km: {probabilidade:.2f}\")"
   ]
  },
  {
   "cell_type": "code",
   "execution_count": 243,
   "metadata": {},
   "outputs": [
    {
     "name": "stdout",
     "output_type": "stream",
     "text": [
      "Probabilidade de o motor durar entre 140.000 km e 165.000 km: 0.98\n"
     ]
    }
   ],
   "source": [
    "probabilidade_140 = norm.cdf(140000, media, desvio_padrao)\n",
    "probabilidade_165 = norm.cdf(165000, media, desvio_padrao)\n",
    "probabilidade = probabilidade_165 - probabilidade_140\n",
    "\n",
    "print(f\"Probabilidade de o motor durar entre 140.000 km e 165.000 km: {probabilidade:.2f}\")"
   ]
  }
 ],
 "metadata": {
  "kernelspec": {
   "display_name": "Python 3",
   "language": "python",
   "name": "python3"
  },
  "language_info": {
   "codemirror_mode": {
    "name": "ipython",
    "version": 3
   },
   "file_extension": ".py",
   "mimetype": "text/x-python",
   "name": "python",
   "nbconvert_exporter": "python",
   "pygments_lexer": "ipython3",
   "version": "3.11.2"
  },
  "orig_nbformat": 4,
  "vscode": {
   "interpreter": {
    "hash": "c9df6bb62f4475c7195813eb4ce8c46fa8ccdd8bb0b7a1258ff830557c0a01ba"
   }
  }
 },
 "nbformat": 4,
 "nbformat_minor": 2
}
