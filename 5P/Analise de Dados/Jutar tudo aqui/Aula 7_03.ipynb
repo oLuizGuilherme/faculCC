{
 "cells": [
  {
   "cell_type": "code",
   "execution_count": 3,
   "id": "5ac21221",
   "metadata": {},
   "outputs": [],
   "source": [
    "import numpy as np"
   ]
  },
  {
   "cell_type": "code",
   "execution_count": 4,
   "id": "e917b47c",
   "metadata": {},
   "outputs": [],
   "source": [
    "matriz1 = np.random.randn(8,3)\n",
    "matriz2 = np.random.randn(8,3)"
   ]
  },
  {
   "cell_type": "code",
   "execution_count": 5,
   "id": "3594cf42",
   "metadata": {},
   "outputs": [
    {
     "data": {
      "text/plain": [
       "array([[ 1.25209699, -0.32331585,  0.89129323],\n",
       "       [-1.26238605,  1.92521667,  1.05294079],\n",
       "       [ 0.40782836,  1.48237553, -0.90033213],\n",
       "       [ 0.91186051,  0.74103826,  0.56819762],\n",
       "       [ 0.36345037, -1.62616329,  1.05805412],\n",
       "       [ 1.5500312 ,  1.64774671,  0.36469786],\n",
       "       [-1.59736002, -2.82203446, -0.47282847],\n",
       "       [ 1.20671494, -0.24519236, -1.38952442]])"
      ]
     },
     "execution_count": 5,
     "metadata": {},
     "output_type": "execute_result"
    }
   ],
   "source": [
    "np.add(matriz1, matriz2)"
   ]
  },
  {
   "cell_type": "code",
   "execution_count": 6,
   "id": "3624e8e3",
   "metadata": {},
   "outputs": [
    {
     "data": {
      "text/plain": [
       "array([[ 1.47607873,  2.22929446, -2.63233225],\n",
       "       [-0.43744287, -0.29407161, -2.61191165],\n",
       "       [ 0.54493772,  3.42271734, -0.07570791]])"
      ]
     },
     "execution_count": 6,
     "metadata": {},
     "output_type": "execute_result"
    }
   ],
   "source": [
    "np.matmul(matriz1.T, matriz2)"
   ]
  },
  {
   "cell_type": "code",
   "execution_count": 7,
   "id": "14ee80f6",
   "metadata": {},
   "outputs": [
    {
     "data": {
      "text/plain": [
       "array([[-0.8940358 ,  0.19496544, -0.85112218],\n",
       "       [ 1.06158629, -1.13550926,  0.12366004],\n",
       "       [-0.50876012, -1.92934687,  0.39815501],\n",
       "       [-1.26738797,  0.12334115, -0.89057135],\n",
       "       [ 0.02781769,  2.52397167, -0.03874153],\n",
       "       [-1.14719168, -0.71838178, -0.43207508],\n",
       "       [ 0.70850199,  0.66506161,  0.88394739],\n",
       "       [-0.58564677, -0.19042913,  0.77790156]])"
      ]
     },
     "execution_count": 7,
     "metadata": {},
     "output_type": "execute_result"
    }
   ],
   "source": [
    "np.negative(matriz1)"
   ]
  },
  {
   "cell_type": "code",
   "execution_count": 8,
   "id": "5429bdc8",
   "metadata": {},
   "outputs": [
    {
     "data": {
      "text/plain": [
       "array([[ 0.17791341, -0.06661504,  0.00752997],\n",
       "       [-0.05758749,  0.34580184,  1.05294079],\n",
       "       [-0.09683046, -0.3055098 , -0.39815501],\n",
       "       [-0.15472187,  0.74103826, -0.07654985],\n",
       "       [ 0.36345037,  0.16945348,  0.03874153],\n",
       "       [ 0.34151264,  0.71838178, -0.03956542],\n",
       "       [-0.70850199, -0.66506161,  0.34940936],\n",
       "       [ 0.58564677, -0.24519236, -0.16627871]])"
      ]
     },
     "execution_count": 8,
     "metadata": {},
     "output_type": "execute_result"
    }
   ],
   "source": [
    "np.mod(matriz1, matriz2)"
   ]
  },
  {
   "cell_type": "code",
   "execution_count": 9,
   "id": "e7a00e48",
   "metadata": {},
   "outputs": [
    {
     "data": {
      "text/plain": [
       "array([[0.8940358 , 0.19496544, 0.85112218],\n",
       "       [1.06158629, 1.13550926, 0.12366004],\n",
       "       [0.50876012, 1.92934687, 0.39815501],\n",
       "       [1.26738797, 0.12334115, 0.89057135],\n",
       "       [0.02781769, 2.52397167, 0.03874153],\n",
       "       [1.14719168, 0.71838178, 0.43207508],\n",
       "       [0.70850199, 0.66506161, 0.88394739],\n",
       "       [0.58564677, 0.19042913, 0.77790156]])"
      ]
     },
     "execution_count": 9,
     "metadata": {},
     "output_type": "execute_result"
    }
   ],
   "source": [
    "np.absolute(matriz1)"
   ]
  },
  {
   "cell_type": "code",
   "execution_count": 10,
   "id": "48ee34eb",
   "metadata": {},
   "outputs": [
    {
     "data": {
      "text/plain": [
       "array([[ 1., -0.,  1.],\n",
       "       [-1.,  1., -0.],\n",
       "       [ 1.,  2., -0.],\n",
       "       [ 1., -0.,  1.],\n",
       "       [-0., -3.,  0.],\n",
       "       [ 1.,  1.,  0.],\n",
       "       [-1., -1., -1.],\n",
       "       [ 1.,  0., -1.]])"
      ]
     },
     "execution_count": 10,
     "metadata": {},
     "output_type": "execute_result"
    }
   ],
   "source": [
    "np.rint(matriz1) #round int"
   ]
  },
  {
   "cell_type": "code",
   "execution_count": 11,
   "id": "8a301c7d",
   "metadata": {},
   "outputs": [
    {
     "name": "stdout",
     "output_type": "stream",
     "text": [
      "[1.51 1.77 1.85 2.   2.52 2.95 2.97 2.98 3.08 3.17 3.35 3.42 3.42 3.64\n",
      " 3.78 3.95 3.96 4.23 4.54 4.6  4.81 5.24]\n"
     ]
    }
   ],
   "source": [
    "array7 = np.array([2.52, 3.42, 1.85, 2.95, 3.95, 3.78, 3.17, 3.96, 2.97, 2.98,\n",
    "3.35, 4.23, 3.42, 4.60, 5.24, 3.64, 4.54, 4.81, 1.77, 1.51, 3.08, 2.00])\n",
    "#Colocando em ordem\n",
    "print(np.sort(array7))"
   ]
  },
  {
   "cell_type": "code",
   "execution_count": 12,
   "id": "09e6e28e",
   "metadata": {},
   "outputs": [
    {
     "data": {
      "text/plain": [
       "array([5.24, 4.81, 4.6 , 4.54, 4.23, 3.96, 3.95, 3.78, 3.64, 3.42, 3.42,\n",
       "       3.35, 3.17, 3.08, 2.98, 2.97, 2.95, 2.52, 2.  , 1.85, 1.77, 1.51])"
      ]
     },
     "execution_count": 12,
     "metadata": {},
     "output_type": "execute_result"
    }
   ],
   "source": [
    "-np.sort(-array7)"
   ]
  },
  {
   "cell_type": "code",
   "execution_count": 13,
   "id": "0bdffc60",
   "metadata": {},
   "outputs": [
    {
     "name": "stdout",
     "output_type": "stream",
     "text": [
      "[5.24, 4.81, 4.6, 4.54, 4.23, 3.96, 3.95, 3.78, 3.64, 3.42, 3.42, 3.35, 3.17, 3.08, 2.98, 2.97, 2.95, 2.52, 2.0, 1.85, 1.77, 1.51]\n"
     ]
    }
   ],
   "source": [
    "print(sorted(array7, reverse=True))"
   ]
  },
  {
   "cell_type": "code",
   "execution_count": 14,
   "id": "61b4eeca",
   "metadata": {},
   "outputs": [
    {
     "name": "stdout",
     "output_type": "stream",
     "text": [
      "[[1 4]\n",
      " [3 1]]\n",
      "[[1 4]\n",
      " [1 3]]\n",
      "[[1 1]\n",
      " [3 4]]\n"
     ]
    }
   ],
   "source": [
    "matriz = np.array([[1, 4], [3, 1]])\n",
    "print(matriz)\n",
    "print(np.sort(matriz, axis = 1)) #Ordena as colunas\n",
    "print(np.sort(matriz, axis = 0)) #Ordena as linhas"
   ]
  },
  {
   "cell_type": "code",
   "execution_count": 16,
   "id": "595370f8",
   "metadata": {},
   "outputs": [
    {
     "name": "stdout",
     "output_type": "stream",
     "text": [
      "['Bob' 'Joe' 'Will']\n",
      "[1 2 3 4]\n"
     ]
    }
   ],
   "source": [
    "nomes = np.array(['Bob', 'Joe', 'Will', 'Bob', 'Will', 'Joe', 'Joe'])\n",
    "print(np.unique(nomes))\n",
    "numeros = np.array([3, 3, 2, 2, 1, 1, 1, 4, 4])\n",
    "print(np.unique(numeros))"
   ]
  }
 ],
 "metadata": {
  "kernelspec": {
   "display_name": "Python 3.11.2 64-bit",
   "language": "python",
   "name": "python3"
  },
  "language_info": {
   "codemirror_mode": {
    "name": "ipython",
    "version": 3
   },
   "file_extension": ".py",
   "mimetype": "text/x-python",
   "name": "python",
   "nbconvert_exporter": "python",
   "pygments_lexer": "ipython3",
   "version": "3.11.2"
  },
  "vscode": {
   "interpreter": {
    "hash": "4e1e5b73a8f16fbe95709c62cde620a19754f9d060f915faa3476ca4fdc7e2da"
   }
  }
 },
 "nbformat": 4,
 "nbformat_minor": 5
}
