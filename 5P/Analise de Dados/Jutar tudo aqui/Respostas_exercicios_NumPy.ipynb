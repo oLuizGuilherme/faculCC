{
 "cells": [
  {
   "cell_type": "code",
   "execution_count": 2,
   "metadata": {},
   "outputs": [],
   "source": [
    "import numpy as np\n",
    "import random as random"
   ]
  },
  {
   "cell_type": "code",
   "execution_count": 3,
   "metadata": {},
   "outputs": [],
   "source": [
    "nparray = np.arange(100000000)\n",
    "lista = range(100000000)"
   ]
  },
  {
   "cell_type": "code",
   "execution_count": 4,
   "metadata": {},
   "outputs": [
    {
     "name": "stdout",
     "output_type": "stream",
     "text": [
      "CPU times: total: 93.8 ms\n",
      "Wall time: 100 ms\n"
     ]
    },
    {
     "data": {
      "text/plain": [
       "array([         0,          1,          4, ..., 1274919433, 1474919428,\n",
       "       1674919425])"
      ]
     },
     "execution_count": 4,
     "metadata": {},
     "output_type": "execute_result"
    }
   ],
   "source": [
    "%time np.square(nparray)"
   ]
  },
  {
   "cell_type": "code",
   "execution_count": 6,
   "metadata": {},
   "outputs": [
    {
     "name": "stdout",
     "output_type": "stream",
     "text": [
      "CPU times: total: 4.92 s\n",
      "Wall time: 5.96 s\n"
     ]
    }
   ],
   "source": [
    "%time lista2 = [x**2 for x in lista]"
   ]
  },
  {
   "cell_type": "code",
   "execution_count": 7,
   "metadata": {},
   "outputs": [
    {
     "name": "stdout",
     "output_type": "stream",
     "text": [
      "[[4 9 5]\n",
      " [6 4 6]\n",
      " [8 8 4]\n",
      " [1 3 0]\n",
      " [0 8 8]]\n"
     ]
    }
   ],
   "source": [
    "matriz = np.random.randint(0, 10, (5,3))\n",
    "print(matriz)"
   ]
  },
  {
   "cell_type": "code",
   "execution_count": 10,
   "metadata": {},
   "outputs": [
    {
     "data": {
      "text/plain": [
       "array([[2.        , 3.        , 2.23606798],\n",
       "       [2.44948974, 2.        , 2.44948974],\n",
       "       [2.82842712, 2.82842712, 2.        ],\n",
       "       [1.        , 1.73205081, 0.        ],\n",
       "       [0.        , 2.82842712, 2.82842712]])"
      ]
     },
     "execution_count": 10,
     "metadata": {},
     "output_type": "execute_result"
    }
   ],
   "source": [
    "np.sqrt(matriz)"
   ]
  },
  {
   "cell_type": "code",
   "execution_count": 12,
   "metadata": {},
   "outputs": [],
   "source": [
    "import numpy as np\n",
    "matriz1 = np.random.rand(8, 5)\n",
    "matriz2 = np.array([[7., 8, 9, 10.98], [65, 42, 3, 18]])\n",
    "matriz3 = np.array([[1, \"2\", \"4.5\", 7], [4, \"18\", 14, \"3\"]], dtype=np.string_)"
   ]
  },
  {
   "cell_type": "code",
   "execution_count": 20,
   "metadata": {},
   "outputs": [
    {
     "name": "stdout",
     "output_type": "stream",
     "text": [
      "(8, 5)\n",
      "2\n",
      "float64\n",
      "\n",
      "(2, 4)\n",
      "2\n",
      "float64\n",
      "\n",
      "(2, 4)\n",
      "2\n",
      "|S3\n",
      "\n"
     ]
    }
   ],
   "source": [
    "for x in [matriz1, matriz2, matriz3]:\n",
    "    print(x.shape)\n",
    "    print(x.ndim)\n",
    "    print(x.dtype)\n",
    "    print()"
   ]
  },
  {
   "cell_type": "code",
   "execution_count": 22,
   "metadata": {},
   "outputs": [
    {
     "data": {
      "text/plain": [
       "dtype('float64')"
      ]
     },
     "execution_count": 22,
     "metadata": {},
     "output_type": "execute_result"
    }
   ],
   "source": [
    "mat_float = np.random.randn(3,4)\n",
    "mat_float.dtype"
   ]
  },
  {
   "cell_type": "code",
   "execution_count": 24,
   "metadata": {},
   "outputs": [
    {
     "data": {
      "text/plain": [
       "dtype('int32')"
      ]
     },
     "execution_count": 24,
     "metadata": {},
     "output_type": "execute_result"
    }
   ],
   "source": [
    "mat_int = mat_float.astype(int)\n",
    "mat_int.dtype"
   ]
  },
  {
   "cell_type": "code",
   "execution_count": 27,
   "metadata": {},
   "outputs": [
    {
     "data": {
      "text/plain": [
       "dtype('<U32')"
      ]
     },
     "execution_count": 27,
     "metadata": {},
     "output_type": "execute_result"
    }
   ],
   "source": [
    "mat_str = mat_float.astype(str)\n",
    "mat_str.dtype"
   ]
  },
  {
   "cell_type": "code",
   "execution_count": 50,
   "metadata": {},
   "outputs": [
    {
     "data": {
      "text/plain": [
       "array([ 23,  46,  10,  64,  35,  61,  37,  73,   9,  86,  95,  74,  39,\n",
       "        25,  57,  71,  88,  17,  11,  52,  90,  89,  60,  28,  49,  98,\n",
       "        26,  65,  96,  10,  12,  45,  90,  58,  49,  48,  64,  50,  99,\n",
       "        24,  80,  90,  46,  44,  27,  13,  67,  96,  72,  95, 100,  57,\n",
       "        24,  15,  21,  16,  43,  95,  88,  61,  93,   1,  31,  11,  66,\n",
       "        18,  16,  17,   3,  56,  63,  11,   8,  59,  30,  73,  45,  47,\n",
       "        89,   1,  95,  48,  56,  99,   4,  57,  75,  62,  13,  62,  84,\n",
       "        57,  27,  87,   1,  46,  23,  13,  97,  46])"
      ]
     },
     "execution_count": 50,
     "metadata": {},
     "output_type": "execute_result"
    }
   ],
   "source": [
    "array = np.random.randint(1,101, (100))\n",
    "array"
   ]
  },
  {
   "cell_type": "code",
   "execution_count": 52,
   "metadata": {},
   "outputs": [
    {
     "name": "stdout",
     "output_type": "stream",
     "text": [
      "45\n"
     ]
    }
   ],
   "source": [
    "print(array[31])"
   ]
  },
  {
   "cell_type": "code",
   "execution_count": 53,
   "metadata": {},
   "outputs": [
    {
     "data": {
      "text/plain": [
       "array([ 23,  46,  10,  64,  35,  61,  37,  73,   9,  86,  95,  74,  39,\n",
       "        25,  57,  71,  88,  17, 128, 128, 128, 128, 128, 128, 128, 128,\n",
       "       128, 128, 128, 128, 128, 128,  90,  58,  49,  48,  64,  50,  99,\n",
       "        24,  80,  90,  46,  44,  27,  13,  67,  96,  72,  95, 100,  57,\n",
       "        24,  15,  21,  16,  43,  95,  88,  61,  93,   1,  31,  11,  66,\n",
       "        18,  16,  17,   3,  56,  63,  11,   8,  59,  30,  73,  45,  47,\n",
       "        89,   1,  95,  48,  56,  99,   4,  57,  75,  62,  13,  62,  84,\n",
       "        57,  27,  87,   1,  46,  23,  13,  97,  46])"
      ]
     },
     "execution_count": 53,
     "metadata": {},
     "output_type": "execute_result"
    }
   ],
   "source": [
    "array[18:32] = 128\n",
    "array"
   ]
  },
  {
   "cell_type": "code",
   "execution_count": 61,
   "metadata": {},
   "outputs": [
    {
     "data": {
      "text/plain": [
       "array([ 23,  46,  10,  64,  35,  61,  37,  73,   9,  86,  95,  74,  39,\n",
       "        25,  57,  71,  88,  17, 128, 128, 128, 128, 128, 128, 128, 128,\n",
       "       128, 128, 128, 128, 128, 128,  90,  58,  49,  48,  64,  50,  99,\n",
       "        24,  80,  90,  46,  44,  27,  13,  67,  96,  72,  95, 100,  57,\n",
       "        24,  15,  21,  16,  43,  95,  88,  61,  93,   1,  31,  11,  66,\n",
       "        18,  16,  17,   3,  56,  63,  11,   8,  59,  30,  73,  45,  47,\n",
       "        89,   1,  95,  48,  56,  99,   4,  57,  75,  62,  13,  62,  84,\n",
       "        57,  27,  87,   1,  46,  23,  13,  97,  46])"
      ]
     },
     "execution_count": 61,
     "metadata": {},
     "output_type": "execute_result"
    }
   ],
   "source": [
    "array1 = array.copy()\n",
    "array1"
   ]
  },
  {
   "cell_type": "code",
   "execution_count": 57,
   "metadata": {},
   "outputs": [
    {
     "data": {
      "text/plain": [
       "array([ 23,  46,  10,  64,  35,  61,  37,  73,   9,  86,  95,  74,  39,\n",
       "        25,  57,  71,  88,  17, 128, 128, 128, 128, 128, 128, 128, 128,\n",
       "       128, 128, 128, 128, 128, 128,  90,  58,  49,  48,  64,  50,  99,\n",
       "        24,  80,  90,  46,  44,  27,  13,  67,  96,  72,  95, 100,  57,\n",
       "        24,  15,  21,  16,  43,  95,  88,  61,  93,   1,  31,  11,  66,\n",
       "        18,  16,  17,   3,  56,  63,  11,   8,  59,  30,  73,  45,  47,\n",
       "        89,   1,  95,  48,  56,  99,   4,  57,  75,  62,  13,  62,  84,\n",
       "        57,  27,  87,   1,  46,  23,  13,  97,  46])"
      ]
     },
     "execution_count": 57,
     "metadata": {},
     "output_type": "execute_result"
    }
   ],
   "source": [
    "array"
   ]
  },
  {
   "cell_type": "code",
   "execution_count": 63,
   "metadata": {},
   "outputs": [
    {
     "data": {
      "text/plain": [
       "array([ 23,  46,  10,  64,  35,  61,  37,  73,   9,  86,  95,  74,  39,\n",
       "        25,  57,  71,  88,  17, 256, 256, 256, 256, 256, 256, 256, 256,\n",
       "       256, 256, 256, 256, 256, 256,  90,  58,  49,  48,  64,  50,  99,\n",
       "        24,  80,  90,  46,  44,  27,  13,  67,  96,  72,  95, 100,  57,\n",
       "        24,  15,  21,  16,  43,  95,  88,  61,  93,   1,  31,  11,  66,\n",
       "        18,  16,  17,   3,  56,  63,  11,   8,  59,  30,  73,  45,  47,\n",
       "        89,   1,  95,  48,  56,  99,   4,  57,  75,  62,  13,  62,  84,\n",
       "        57,  27,  87,   1,  46,  23,  13,  97,  46])"
      ]
     },
     "execution_count": 63,
     "metadata": {},
     "output_type": "execute_result"
    }
   ],
   "source": [
    "array1[18:32] = 256\n",
    "array1"
   ]
  },
  {
   "cell_type": "code",
   "execution_count": 65,
   "metadata": {},
   "outputs": [
    {
     "data": {
      "text/plain": [
       "array([[ 1,  2,  3,  4],\n",
       "       [ 5,  6,  7,  8],\n",
       "       [ 9, 10, 11, 12],\n",
       "       [13, 14, 15, 16]])"
      ]
     },
     "execution_count": 65,
     "metadata": {},
     "output_type": "execute_result"
    }
   ],
   "source": [
    "arr2d = np.array([[1, 2, 3, 4], [5, 6, 7, 8], [9, 10, 11, 12], [13, 14, 15, 16]])\n",
    "arr2d"
   ]
  },
  {
   "cell_type": "code",
   "execution_count": 71,
   "metadata": {},
   "outputs": [
    {
     "data": {
      "text/plain": [
       "array([[5, 6, 7]])"
      ]
     },
     "execution_count": 71,
     "metadata": {},
     "output_type": "execute_result"
    }
   ],
   "source": [
    "arr2d[1:2, :3]"
   ]
  },
  {
   "cell_type": "code",
   "execution_count": 73,
   "metadata": {},
   "outputs": [
    {
     "data": {
      "text/plain": [
       "array([[ 7],\n",
       "       [11],\n",
       "       [15]])"
      ]
     },
     "execution_count": 73,
     "metadata": {},
     "output_type": "execute_result"
    }
   ],
   "source": [
    "arr2d[1:,2:3]"
   ]
  },
  {
   "cell_type": "code",
   "execution_count": null,
   "metadata": {},
   "outputs": [],
   "source": []
  }
 ],
 "metadata": {
  "kernelspec": {
   "display_name": "Python 3.11.2 64-bit",
   "language": "python",
   "name": "python3"
  },
  "language_info": {
   "codemirror_mode": {
    "name": "ipython",
    "version": 3
   },
   "file_extension": ".py",
   "mimetype": "text/x-python",
   "name": "python",
   "nbconvert_exporter": "python",
   "pygments_lexer": "ipython3",
   "version": "3.11.2"
  },
  "orig_nbformat": 4,
  "vscode": {
   "interpreter": {
    "hash": "4e1e5b73a8f16fbe95709c62cde620a19754f9d060f915faa3476ca4fdc7e2da"
   }
  }
 },
 "nbformat": 4,
 "nbformat_minor": 2
}
