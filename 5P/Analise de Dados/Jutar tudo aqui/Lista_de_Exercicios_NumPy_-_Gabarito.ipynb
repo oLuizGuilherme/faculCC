{
 "cells": [
  {
   "cell_type": "markdown",
   "metadata": {},
   "source": [
    "# Lista de Exercícios: NumPy\n",
    "\n",
    "## Alguns dos exercícios podem requerer pesquisa adicional na documentação dos pacotes. Pesquise!\n",
    "\n",
    "### Exercício 1 "
   ]
  },
  {
   "cell_type": "code",
   "execution_count": 1,
   "metadata": {},
   "outputs": [],
   "source": [
    "#Importe a biblioteca NumPy para seu Notebook\n",
    "import numpy as np"
   ]
  },
  {
   "cell_type": "markdown",
   "metadata": {},
   "source": [
    "### Exercício 2"
   ]
  },
  {
   "cell_type": "code",
   "execution_count": 34,
   "metadata": {},
   "outputs": [
    {
     "name": "stdout",
     "output_type": "stream",
     "text": [
      "Wall time: 129 ms\n"
     ]
    }
   ],
   "source": [
    "#Compare a velocidade, da operação a seguir, entre uma lista de Python Puro e um ndarray do NumPy com 1 bilhão de elementos\n",
    "#\n",
    "#Eleve a potência quadrática cada elemento do ndarray e da lista e exiba o tempo de execução de cada um dos objetos\n",
    "lista = range(10000000)\n",
    "vetor = np.arange(10000000)\n",
    "%time for _ in range(10): vetor = vetor ** 2"
   ]
  },
  {
   "cell_type": "code",
   "execution_count": 35,
   "metadata": {},
   "outputs": [
    {
     "name": "stdout",
     "output_type": "stream",
     "text": [
      "Wall time: 22.3 s\n"
     ]
    }
   ],
   "source": [
    "%time for _ in range(10): lista2 = [x ** 2 for x in lista]"
   ]
  },
  {
   "cell_type": "markdown",
   "metadata": {},
   "source": [
    "### Exercício 3"
   ]
  },
  {
   "cell_type": "code",
   "execution_count": 4,
   "metadata": {},
   "outputs": [
    {
     "data": {
      "text/plain": [
       "array([[24, 80, 92],\n",
       "       [37, 56, 34],\n",
       "       [55, 49, 84],\n",
       "       [ 9, 51, 63],\n",
       "       [45, 46, 24]])"
      ]
     },
     "execution_count": 4,
     "metadata": {},
     "output_type": "execute_result"
    }
   ],
   "source": [
    "#Crie uma matriz de cinco linhas e três colunas\n",
    "#Calcule a Raiz Quadrada dos elementos da matriz de uma única vez\n",
    "matriz = np.random.randint(1, 100, size=(5, 3))\n",
    "matriz"
   ]
  },
  {
   "cell_type": "code",
   "execution_count": 5,
   "metadata": {},
   "outputs": [
    {
     "data": {
      "text/plain": [
       "array([[4.89897949, 8.94427191, 9.59166305],\n",
       "       [6.08276253, 7.48331477, 5.83095189],\n",
       "       [7.41619849, 7.        , 9.16515139],\n",
       "       [3.        , 7.14142843, 7.93725393],\n",
       "       [6.70820393, 6.78232998, 4.89897949]])"
      ]
     },
     "execution_count": 5,
     "metadata": {},
     "output_type": "execute_result"
    }
   ],
   "source": [
    "matriz ** 0.5"
   ]
  },
  {
   "cell_type": "markdown",
   "metadata": {},
   "source": [
    "### Exercício 4"
   ]
  },
  {
   "cell_type": "code",
   "execution_count": 6,
   "metadata": {},
   "outputs": [],
   "source": [
    "#Crie as matrizes a seguir e verifique suas propriedades (formato, tipo e número de dimensões)\n",
    "import numpy as np\n",
    "matriz1 = np.random.rand(8, 5)\n",
    "matriz2 = np.array([[7., 8, 9, 10.98], [65, 42, 3, 18]])\n",
    "matriz3 = np.array([[1, \"2\", \"4.5\", 7], [4, \"18\", 14, \"3\"]], dtype=np.string_)"
   ]
  },
  {
   "cell_type": "code",
   "execution_count": 7,
   "metadata": {},
   "outputs": [
    {
     "name": "stdout",
     "output_type": "stream",
     "text": [
      "(8, 5)\n",
      "2\n",
      "float64\n",
      "\n",
      "(2, 4)\n",
      "2\n",
      "float64\n",
      "\n",
      "(2, 4)\n",
      "2\n",
      "|S3\n",
      "\n"
     ]
    }
   ],
   "source": [
    "for m in [matriz1, matriz2, matriz3]:\n",
    "    print(m.shape)\n",
    "    print(m.ndim)\n",
    "    print(m.dtype)\n",
    "    print()"
   ]
  },
  {
   "cell_type": "markdown",
   "metadata": {},
   "source": [
    "### Exercício 5"
   ]
  },
  {
   "cell_type": "code",
   "execution_count": 8,
   "metadata": {},
   "outputs": [
    {
     "data": {
      "text/plain": [
       "dtype('float64')"
      ]
     },
     "execution_count": 8,
     "metadata": {},
     "output_type": "execute_result"
    }
   ],
   "source": [
    "#Crie uma ndarray de 3x4 do tipo float e converta para:\n",
    "#(1) int\n",
    "#(2) string\n",
    "mat_float = np.random.randn(3,4)\n",
    "mat_float.dtype"
   ]
  },
  {
   "cell_type": "code",
   "execution_count": 9,
   "metadata": {},
   "outputs": [
    {
     "data": {
      "text/plain": [
       "dtype('int32')"
      ]
     },
     "execution_count": 9,
     "metadata": {},
     "output_type": "execute_result"
    }
   ],
   "source": [
    "mat_int = mat_float.astype(int)\n",
    "mat_int.dtype"
   ]
  },
  {
   "cell_type": "code",
   "execution_count": 10,
   "metadata": {},
   "outputs": [
    {
     "data": {
      "text/plain": [
       "dtype('<U11')"
      ]
     },
     "execution_count": 10,
     "metadata": {},
     "output_type": "execute_result"
    }
   ],
   "source": [
    "mat_str = mat_int.astype(str)\n",
    "mat_str.dtype"
   ]
  },
  {
   "cell_type": "markdown",
   "metadata": {},
   "source": [
    "### Exercício 6"
   ]
  },
  {
   "cell_type": "code",
   "execution_count": 11,
   "metadata": {},
   "outputs": [],
   "source": [
    "#Crie um ndarray com 100 números aleatórios\n",
    "#Acesse o 32º elemento\n",
    "#Altere os índices de 18 a 31 para 128\n",
    "#Copie o ndarray para um novo ndarray\n",
    "#Exiba o primeiro ndarray\n",
    "#Altere o segundo ndarray modificando os índices de 18 a 32 para 256\n",
    "#Exiba o segundo ndarray"
   ]
  },
  {
   "cell_type": "code",
   "execution_count": 12,
   "metadata": {},
   "outputs": [
    {
     "name": "stdout",
     "output_type": "stream",
     "text": [
      "-3.3909785156622867\n",
      "[ 1.61457875  1.27342993  0.50798255 -1.59331105  0.64317022  0.08719566\n",
      " -0.28821396 -0.01729953  0.56239909  0.92745953 -0.78192955  1.03180649\n",
      "  0.50954081 -3.39097852]\n"
     ]
    }
   ],
   "source": [
    "vetor6 = np.random.randn(50)\n",
    "print(vetor6[31])\n",
    "print(vetor6[18:32])"
   ]
  },
  {
   "cell_type": "code",
   "execution_count": 13,
   "metadata": {},
   "outputs": [
    {
     "name": "stdout",
     "output_type": "stream",
     "text": [
      "[ 1.02255169e+00  1.19539032e+00 -1.18987816e+00  1.48386690e+00\n",
      " -2.36908877e+00  7.68239758e-01  5.61379506e-01 -6.68145577e-01\n",
      " -7.24431369e-01 -1.53687550e+00  9.48687407e-01 -3.66944510e-01\n",
      " -8.00058974e-01  7.62695317e-01  9.92049558e-02  1.29474694e-01\n",
      " -6.19678343e-01 -1.01776601e+00  1.28000000e+02  1.28000000e+02\n",
      "  1.28000000e+02  1.28000000e+02  1.28000000e+02  1.28000000e+02\n",
      "  1.28000000e+02  1.28000000e+02  1.28000000e+02  1.28000000e+02\n",
      "  1.28000000e+02  1.28000000e+02  1.28000000e+02  1.28000000e+02\n",
      " -1.31697965e+00 -1.93057453e+00 -5.18597982e-01 -2.20668214e-02\n",
      " -1.45854190e+00  7.98358959e-01  1.20349888e+00 -2.08726362e+00\n",
      " -7.13711838e-01 -1.27271804e+00  6.37113116e-01  8.05373835e-01\n",
      " -1.85183811e+00  1.59133851e+00 -9.78414079e-01 -1.15704081e+00\n",
      "  1.12078420e+00  1.31875989e-02]\n"
     ]
    }
   ],
   "source": [
    "vetor6[18:32] = 128\n",
    "vetor6_copy = vetor6.copy() \n",
    "print(vetor6)"
   ]
  },
  {
   "cell_type": "code",
   "execution_count": 14,
   "metadata": {},
   "outputs": [
    {
     "name": "stdout",
     "output_type": "stream",
     "text": [
      "[ 1.02255169e+00  1.19539032e+00 -1.18987816e+00  1.48386690e+00\n",
      " -2.36908877e+00  7.68239758e-01  5.61379506e-01 -6.68145577e-01\n",
      " -7.24431369e-01 -1.53687550e+00  9.48687407e-01 -3.66944510e-01\n",
      " -8.00058974e-01  7.62695317e-01  9.92049558e-02  1.29474694e-01\n",
      " -6.19678343e-01 -1.01776601e+00  1.28000000e+02  1.28000000e+02\n",
      "  1.28000000e+02  1.28000000e+02  1.28000000e+02  1.28000000e+02\n",
      "  1.28000000e+02  1.28000000e+02  1.28000000e+02  1.28000000e+02\n",
      "  1.28000000e+02  1.28000000e+02  1.28000000e+02  1.28000000e+02\n",
      " -1.31697965e+00 -1.93057453e+00 -5.18597982e-01 -2.20668214e-02\n",
      " -1.45854190e+00  7.98358959e-01  1.20349888e+00 -2.08726362e+00\n",
      " -7.13711838e-01 -1.27271804e+00  6.37113116e-01  8.05373835e-01\n",
      " -1.85183811e+00  1.59133851e+00 -9.78414079e-01 -1.15704081e+00\n",
      "  1.12078420e+00  1.31875989e-02]\n"
     ]
    }
   ],
   "source": [
    "print(vetor6_copy)"
   ]
  },
  {
   "cell_type": "code",
   "execution_count": 15,
   "metadata": {},
   "outputs": [
    {
     "name": "stdout",
     "output_type": "stream",
     "text": [
      "[ 1.02255169e+00  1.19539032e+00 -1.18987816e+00  1.48386690e+00\n",
      " -2.36908877e+00  7.68239758e-01  5.61379506e-01 -6.68145577e-01\n",
      " -7.24431369e-01 -1.53687550e+00  9.48687407e-01 -3.66944510e-01\n",
      " -8.00058974e-01  7.62695317e-01  9.92049558e-02  1.29474694e-01\n",
      " -6.19678343e-01 -1.01776601e+00  1.28000000e+02  1.28000000e+02\n",
      "  1.28000000e+02  1.28000000e+02  1.28000000e+02  1.28000000e+02\n",
      "  1.28000000e+02  1.28000000e+02  1.28000000e+02  1.28000000e+02\n",
      "  1.28000000e+02  1.28000000e+02  1.28000000e+02  1.28000000e+02\n",
      " -1.31697965e+00 -1.93057453e+00 -5.18597982e-01 -2.20668214e-02\n",
      " -1.45854190e+00  7.98358959e-01  1.20349888e+00 -2.08726362e+00\n",
      " -7.13711838e-01 -1.27271804e+00  6.37113116e-01  8.05373835e-01\n",
      " -1.85183811e+00  1.59133851e+00 -9.78414079e-01 -1.15704081e+00\n",
      "  1.12078420e+00  1.31875989e-02]\n"
     ]
    }
   ],
   "source": [
    "vetor6_copy[18:32] = 256\n",
    "print(vetor6)"
   ]
  },
  {
   "cell_type": "code",
   "execution_count": 16,
   "metadata": {},
   "outputs": [
    {
     "name": "stdout",
     "output_type": "stream",
     "text": [
      "[ 1.02255169e+00  1.19539032e+00 -1.18987816e+00  1.48386690e+00\n",
      " -2.36908877e+00  7.68239758e-01  5.61379506e-01 -6.68145577e-01\n",
      " -7.24431369e-01 -1.53687550e+00  9.48687407e-01 -3.66944510e-01\n",
      " -8.00058974e-01  7.62695317e-01  9.92049558e-02  1.29474694e-01\n",
      " -6.19678343e-01 -1.01776601e+00  2.56000000e+02  2.56000000e+02\n",
      "  2.56000000e+02  2.56000000e+02  2.56000000e+02  2.56000000e+02\n",
      "  2.56000000e+02  2.56000000e+02  2.56000000e+02  2.56000000e+02\n",
      "  2.56000000e+02  2.56000000e+02  2.56000000e+02  2.56000000e+02\n",
      " -1.31697965e+00 -1.93057453e+00 -5.18597982e-01 -2.20668214e-02\n",
      " -1.45854190e+00  7.98358959e-01  1.20349888e+00 -2.08726362e+00\n",
      " -7.13711838e-01 -1.27271804e+00  6.37113116e-01  8.05373835e-01\n",
      " -1.85183811e+00  1.59133851e+00 -9.78414079e-01 -1.15704081e+00\n",
      "  1.12078420e+00  1.31875989e-02]\n"
     ]
    }
   ],
   "source": [
    "print(vetor6_copy)"
   ]
  },
  {
   "cell_type": "markdown",
   "metadata": {},
   "source": [
    "### Exercício 7"
   ]
  },
  {
   "cell_type": "code",
   "execution_count": 17,
   "metadata": {},
   "outputs": [
    {
     "data": {
      "text/plain": [
       "array([[ 1,  2,  3,  4],\n",
       "       [ 5,  6,  7,  8],\n",
       "       [ 9, 10, 11, 12],\n",
       "       [13, 14, 15, 16]])"
      ]
     },
     "execution_count": 17,
     "metadata": {},
     "output_type": "execute_result"
    }
   ],
   "source": [
    "#Crie a matriz abaixo\n",
    "arr2d = np.array([[1, 2, 3, 4], \n",
    "                  [5, 6, 7, 8], \n",
    "                  [9, 10, 11, 12], \n",
    "                  [13, 14, 15, 16]])\n",
    "#Selecione através dos índices os itens 5, 6 e 7\n",
    "#Selecione através dos índices os itens 7, 11 e 15\n",
    "arr2d"
   ]
  },
  {
   "cell_type": "code",
   "execution_count": 18,
   "metadata": {},
   "outputs": [
    {
     "data": {
      "text/plain": [
       "array([[5, 6, 7]])"
      ]
     },
     "execution_count": 18,
     "metadata": {},
     "output_type": "execute_result"
    }
   ],
   "source": [
    "arr2d[1:2,:3]"
   ]
  },
  {
   "cell_type": "code",
   "execution_count": 19,
   "metadata": {},
   "outputs": [
    {
     "data": {
      "text/plain": [
       "array([[ 7],\n",
       "       [11],\n",
       "       [15]])"
      ]
     },
     "execution_count": 19,
     "metadata": {},
     "output_type": "execute_result"
    }
   ],
   "source": [
    "arr2d[1:,2:3]"
   ]
  },
  {
   "cell_type": "markdown",
   "metadata": {},
   "source": [
    "### Exercício 8"
   ]
  },
  {
   "cell_type": "code",
   "execution_count": 20,
   "metadata": {},
   "outputs": [],
   "source": [
    "#Crie uma lista com os nomes: Antônio, Carlos, Carlos, Antônio, José, Alfredo, Alfredo, Antônio\n",
    "#Crie uma lista chamada dívidas com os seguintes valores: 1000., 500., 0, 1640, 18399.99, 42640.18, 70., 84.90\n",
    "#Busque na lista de nomes as ocorrências de Antônio e exiba suas dívidas\n",
    "#Busque na lista de nomes as ocorrências de José e exiba suas dívidas\n",
    "#Exiba as dívidas das pessoas diferente de Antônio e José\n",
    "#Exiba os nomes das pessoas que possuem dívidas igual a 0 (zero)\n",
    "#Exiba os nomes das pessoas que possuem dívidas maior que 10000 (dez mil)\n",
    "#Exiba os nomes das pessoas que possuem dívidas menores que 100 (cem) e maior do que 0 (zero)"
   ]
  },
  {
   "cell_type": "code",
   "execution_count": 21,
   "metadata": {},
   "outputs": [],
   "source": [
    "nomes = np.array(['Antônio', 'Carlos', 'Carlos', \n",
    "                  'Antônio', 'José', 'Alfredo', \n",
    "                  'Alfredo', 'Antônio'])\n",
    "dividas = np.array([1000., 500., 0, 1640, \n",
    "                    18399.99, 42640.18, 70., \n",
    "                    84.90])"
   ]
  },
  {
   "cell_type": "code",
   "execution_count": 22,
   "metadata": {},
   "outputs": [
    {
     "data": {
      "text/plain": [
       "array([1000. , 1640. ,   84.9])"
      ]
     },
     "execution_count": 22,
     "metadata": {},
     "output_type": "execute_result"
    }
   ],
   "source": [
    "dividas[nomes == \"Antônio\"]"
   ]
  },
  {
   "cell_type": "code",
   "execution_count": 23,
   "metadata": {},
   "outputs": [
    {
     "data": {
      "text/plain": [
       "array([18399.99])"
      ]
     },
     "execution_count": 23,
     "metadata": {},
     "output_type": "execute_result"
    }
   ],
   "source": [
    "dividas[nomes == \"José\"]"
   ]
  },
  {
   "cell_type": "code",
   "execution_count": 24,
   "metadata": {},
   "outputs": [
    {
     "data": {
      "text/plain": [
       "array([  500.  ,     0.  , 42640.18,    70.  ])"
      ]
     },
     "execution_count": 24,
     "metadata": {},
     "output_type": "execute_result"
    }
   ],
   "source": [
    "dividas[(nomes != \"Antônio\") & (nomes != \"José\")]"
   ]
  },
  {
   "cell_type": "code",
   "execution_count": 25,
   "metadata": {},
   "outputs": [
    {
     "data": {
      "text/plain": [
       "array(['Carlos'], dtype='<U7')"
      ]
     },
     "execution_count": 25,
     "metadata": {},
     "output_type": "execute_result"
    }
   ],
   "source": [
    "nomes[dividas == 0]"
   ]
  },
  {
   "cell_type": "code",
   "execution_count": 26,
   "metadata": {},
   "outputs": [
    {
     "data": {
      "text/plain": [
       "array(['José', 'Alfredo'], dtype='<U7')"
      ]
     },
     "execution_count": 26,
     "metadata": {},
     "output_type": "execute_result"
    }
   ],
   "source": [
    "nomes[dividas > 10000]"
   ]
  },
  {
   "cell_type": "code",
   "execution_count": 36,
   "metadata": {},
   "outputs": [
    {
     "name": "stdout",
     "output_type": "stream",
     "text": [
      "['Alfredo' 'Antônio']\n"
     ]
    }
   ],
   "source": [
    "nomes[(dividas > 0) & (dividas < 100)]"
   ]
  },
  {
   "cell_type": "markdown",
   "metadata": {},
   "source": [
    "### Exercício 9"
   ]
  },
  {
   "cell_type": "code",
   "execution_count": 28,
   "metadata": {},
   "outputs": [],
   "source": [
    "#Ordene e exiba a lista de nomes criado no execício anterior\n",
    "#Ordene em ordem decrescente e exiba a lista de valores criado no execício anterior"
   ]
  },
  {
   "cell_type": "code",
   "execution_count": 29,
   "metadata": {},
   "outputs": [
    {
     "data": {
      "text/plain": [
       "array(['Alfredo', 'Alfredo', 'Antônio', 'Antônio', 'Antônio', 'Carlos',\n",
       "       'Carlos', 'José'], dtype='<U7')"
      ]
     },
     "execution_count": 29,
     "metadata": {},
     "output_type": "execute_result"
    }
   ],
   "source": [
    "np.sort(nomes)"
   ]
  },
  {
   "cell_type": "code",
   "execution_count": 30,
   "metadata": {},
   "outputs": [
    {
     "data": {
      "text/plain": [
       "array([42640.18, 18399.99,  1640.  ,  1000.  ,   500.  ,    84.9 ,\n",
       "          70.  ,     0.  ])"
      ]
     },
     "execution_count": 30,
     "metadata": {},
     "output_type": "execute_result"
    }
   ],
   "source": [
    "-np.sort(-dividas)"
   ]
  },
  {
   "cell_type": "markdown",
   "metadata": {},
   "source": [
    "### Exercício 10"
   ]
  },
  {
   "cell_type": "code",
   "execution_count": 31,
   "metadata": {},
   "outputs": [],
   "source": [
    "#Exiba os valores únicos das listas criadas no exercício 8"
   ]
  },
  {
   "cell_type": "code",
   "execution_count": 32,
   "metadata": {},
   "outputs": [
    {
     "data": {
      "text/plain": [
       "array(['Alfredo', 'Antônio', 'Carlos', 'José'], dtype='<U7')"
      ]
     },
     "execution_count": 32,
     "metadata": {},
     "output_type": "execute_result"
    }
   ],
   "source": [
    "np.unique(nomes)"
   ]
  },
  {
   "cell_type": "code",
   "execution_count": 33,
   "metadata": {},
   "outputs": [
    {
     "data": {
      "text/plain": [
       "array([    0.  ,    70.  ,    84.9 ,   500.  ,  1000.  ,  1640.  ,\n",
       "       18399.99, 42640.18])"
      ]
     },
     "execution_count": 33,
     "metadata": {},
     "output_type": "execute_result"
    }
   ],
   "source": [
    "np.unique(dividas)"
   ]
  }
 ],
 "metadata": {
  "kernelspec": {
   "display_name": "Python 3 (ipykernel)",
   "language": "python",
   "name": "python3"
  },
  "language_info": {
   "codemirror_mode": {
    "name": "ipython",
    "version": 3
   },
   "file_extension": ".py",
   "mimetype": "text/x-python",
   "name": "python",
   "nbconvert_exporter": "python",
   "pygments_lexer": "ipython3",
   "version": "3.9.13"
  }
 },
 "nbformat": 4,
 "nbformat_minor": 2
}
