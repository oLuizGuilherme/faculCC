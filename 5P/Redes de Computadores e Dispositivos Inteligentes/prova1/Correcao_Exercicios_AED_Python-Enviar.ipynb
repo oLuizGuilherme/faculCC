{
 "cells": [
  {
   "cell_type": "code",
   "execution_count": 1,
   "metadata": {},
   "outputs": [],
   "source": [
    "import pandas as pd\n",
    "import numpy as np\n",
    "import scipy as sp\n",
    "from scipy.stats import variation, norm\n",
    "import statsmodels as sm\n",
    "from matplotlib import pyplot as plt\n",
    "\n",
    "%matplotlib inline"
   ]
  },
  {
   "cell_type": "markdown",
   "metadata": {},
   "source": [
    "## Exercício 1"
   ]
  },
  {
   "cell_type": "code",
   "execution_count": 2,
   "metadata": {},
   "outputs": [
    {
     "data": {
      "text/html": [
       "<div>\n",
       "<style scoped>\n",
       "    .dataframe tbody tr th:only-of-type {\n",
       "        vertical-align: middle;\n",
       "    }\n",
       "\n",
       "    .dataframe tbody tr th {\n",
       "        vertical-align: top;\n",
       "    }\n",
       "\n",
       "    .dataframe thead th {\n",
       "        text-align: right;\n",
       "    }\n",
       "</style>\n",
       "<table border=\"1\" class=\"dataframe\">\n",
       "  <thead>\n",
       "    <tr style=\"text-align: right;\">\n",
       "      <th></th>\n",
       "      <th>Empresa</th>\n",
       "      <th>Meses</th>\n",
       "      <th>Setor</th>\n",
       "      <th>Tamanho</th>\n",
       "    </tr>\n",
       "  </thead>\n",
       "  <tbody>\n",
       "    <tr>\n",
       "      <th>0</th>\n",
       "      <td>1</td>\n",
       "      <td>8</td>\n",
       "      <td>C</td>\n",
       "      <td>G</td>\n",
       "    </tr>\n",
       "    <tr>\n",
       "      <th>1</th>\n",
       "      <td>2</td>\n",
       "      <td>9</td>\n",
       "      <td>C</td>\n",
       "      <td>M</td>\n",
       "    </tr>\n",
       "    <tr>\n",
       "      <th>2</th>\n",
       "      <td>3</td>\n",
       "      <td>4</td>\n",
       "      <td>I</td>\n",
       "      <td>G</td>\n",
       "    </tr>\n",
       "    <tr>\n",
       "      <th>3</th>\n",
       "      <td>4</td>\n",
       "      <td>5</td>\n",
       "      <td>I</td>\n",
       "      <td>M</td>\n",
       "    </tr>\n",
       "    <tr>\n",
       "      <th>4</th>\n",
       "      <td>5</td>\n",
       "      <td>3</td>\n",
       "      <td>I</td>\n",
       "      <td>M</td>\n",
       "    </tr>\n",
       "  </tbody>\n",
       "</table>\n",
       "</div>"
      ],
      "text/plain": [
       "   Empresa  Meses Setor Tamanho\n",
       "0        1      8     C       G\n",
       "1        2      9     C       M\n",
       "2        3      4     I       G\n",
       "3        4      5     I       M\n",
       "4        5      3     I       M"
      ]
     },
     "execution_count": 2,
     "metadata": {},
     "output_type": "execute_result"
    }
   ],
   "source": [
    "atividade_empresas = pd.read_csv(\"./DataSets/aumento_atividade_empresas.csv\", sep=\";\")\n",
    "atividade_empresas.head()"
   ]
  },
  {
   "cell_type": "code",
   "execution_count": 3,
   "metadata": {},
   "outputs": [
    {
     "data": {
      "text/html": [
       "<div>\n",
       "<style scoped>\n",
       "    .dataframe tbody tr th:only-of-type {\n",
       "        vertical-align: middle;\n",
       "    }\n",
       "\n",
       "    .dataframe tbody tr th {\n",
       "        vertical-align: top;\n",
       "    }\n",
       "\n",
       "    .dataframe thead th {\n",
       "        text-align: right;\n",
       "    }\n",
       "</style>\n",
       "<table border=\"1\" class=\"dataframe\">\n",
       "  <thead>\n",
       "    <tr style=\"text-align: right;\">\n",
       "      <th></th>\n",
       "      <th>count</th>\n",
       "      <th>mean</th>\n",
       "      <th>std</th>\n",
       "      <th>min</th>\n",
       "      <th>25%</th>\n",
       "      <th>50%</th>\n",
       "      <th>75%</th>\n",
       "      <th>max</th>\n",
       "    </tr>\n",
       "  </thead>\n",
       "  <tbody>\n",
       "    <tr>\n",
       "      <th>Empresa</th>\n",
       "      <td>15.0</td>\n",
       "      <td>8.0</td>\n",
       "      <td>4.472136</td>\n",
       "      <td>1.0</td>\n",
       "      <td>4.5</td>\n",
       "      <td>8.0</td>\n",
       "      <td>11.5</td>\n",
       "      <td>15.0</td>\n",
       "    </tr>\n",
       "    <tr>\n",
       "      <th>Meses</th>\n",
       "      <td>15.0</td>\n",
       "      <td>5.8</td>\n",
       "      <td>1.780851</td>\n",
       "      <td>3.0</td>\n",
       "      <td>4.5</td>\n",
       "      <td>6.0</td>\n",
       "      <td>7.0</td>\n",
       "      <td>9.0</td>\n",
       "    </tr>\n",
       "  </tbody>\n",
       "</table>\n",
       "</div>"
      ],
      "text/plain": [
       "         count  mean       std  min  25%  50%   75%   max\n",
       "Empresa   15.0   8.0  4.472136  1.0  4.5  8.0  11.5  15.0\n",
       "Meses     15.0   5.8  1.780851  3.0  4.5  6.0   7.0   9.0"
      ]
     },
     "execution_count": 3,
     "metadata": {},
     "output_type": "execute_result"
    }
   ],
   "source": [
    "atividade_empresas.describe().transpose()"
   ]
  },
  {
   "cell_type": "code",
   "execution_count": 4,
   "metadata": {},
   "outputs": [
    {
     "data": {
      "text/html": [
       "<div>\n",
       "<style scoped>\n",
       "    .dataframe tbody tr th:only-of-type {\n",
       "        vertical-align: middle;\n",
       "    }\n",
       "\n",
       "    .dataframe tbody tr th {\n",
       "        vertical-align: top;\n",
       "    }\n",
       "\n",
       "    .dataframe thead th {\n",
       "        text-align: right;\n",
       "    }\n",
       "</style>\n",
       "<table border=\"1\" class=\"dataframe\">\n",
       "  <thead>\n",
       "    <tr style=\"text-align: right;\">\n",
       "      <th></th>\n",
       "      <th>count</th>\n",
       "      <th>unique</th>\n",
       "      <th>top</th>\n",
       "      <th>freq</th>\n",
       "    </tr>\n",
       "  </thead>\n",
       "  <tbody>\n",
       "    <tr>\n",
       "      <th>Setor</th>\n",
       "      <td>15</td>\n",
       "      <td>2</td>\n",
       "      <td>I</td>\n",
       "      <td>8</td>\n",
       "    </tr>\n",
       "    <tr>\n",
       "      <th>Tamanho</th>\n",
       "      <td>15</td>\n",
       "      <td>3</td>\n",
       "      <td>M</td>\n",
       "      <td>7</td>\n",
       "    </tr>\n",
       "  </tbody>\n",
       "</table>\n",
       "</div>"
      ],
      "text/plain": [
       "        count unique top freq\n",
       "Setor      15      2   I    8\n",
       "Tamanho    15      3   M    7"
      ]
     },
     "execution_count": 4,
     "metadata": {},
     "output_type": "execute_result"
    }
   ],
   "source": [
    "atividade_empresas.describe(include = 'object').transpose()"
   ]
  },
  {
   "cell_type": "markdown",
   "metadata": {},
   "source": [
    "<hr>"
   ]
  },
  {
   "cell_type": "code",
   "execution_count": 5,
   "metadata": {},
   "outputs": [
    {
     "data": {
      "text/html": [
       "<div>\n",
       "<style scoped>\n",
       "    .dataframe tbody tr th:only-of-type {\n",
       "        vertical-align: middle;\n",
       "    }\n",
       "\n",
       "    .dataframe tbody tr th {\n",
       "        vertical-align: top;\n",
       "    }\n",
       "\n",
       "    .dataframe thead tr th {\n",
       "        text-align: left;\n",
       "    }\n",
       "</style>\n",
       "<table border=\"1\" class=\"dataframe\">\n",
       "  <thead>\n",
       "    <tr>\n",
       "      <th></th>\n",
       "      <th>Setor</th>\n",
       "      <th colspan=\"4\" halign=\"left\">Meses</th>\n",
       "    </tr>\n",
       "    <tr>\n",
       "      <th></th>\n",
       "      <th></th>\n",
       "      <th>mean</th>\n",
       "      <th>median</th>\n",
       "      <th>std</th>\n",
       "      <th>variation</th>\n",
       "    </tr>\n",
       "  </thead>\n",
       "  <tbody>\n",
       "    <tr>\n",
       "      <th>0</th>\n",
       "      <td>C</td>\n",
       "      <td>7.142857</td>\n",
       "      <td>8.0</td>\n",
       "      <td>1.46385</td>\n",
       "      <td>18.973666</td>\n",
       "    </tr>\n",
       "    <tr>\n",
       "      <th>1</th>\n",
       "      <td>I</td>\n",
       "      <td>4.625000</td>\n",
       "      <td>4.5</td>\n",
       "      <td>1.06066</td>\n",
       "      <td>21.452038</td>\n",
       "    </tr>\n",
       "  </tbody>\n",
       "</table>\n",
       "</div>"
      ],
      "text/plain": [
       "  Setor     Meses                           \n",
       "             mean median      std  variation\n",
       "0     C  7.142857    8.0  1.46385  18.973666\n",
       "1     I  4.625000    4.5  1.06066  21.452038"
      ]
     },
     "execution_count": 5,
     "metadata": {},
     "output_type": "execute_result"
    }
   ],
   "source": [
    "calculated_setor = atividade_empresas.groupby(by='Setor').agg({'Meses': [np.mean, np.median, np.std, variation]}).reset_index()\n",
    "calculated_setor[('Meses', 'variation')] = calculated_setor[('Meses', 'variation')] * 100\n",
    "calculated_setor"
   ]
  },
  {
   "cell_type": "markdown",
   "metadata": {},
   "source": [
    "#### Baseados nos valores obtidos concluimos que em media do número de meses com crescimento do setor comercial é maior do que o setor industrial. "
   ]
  },
  {
   "cell_type": "markdown",
   "metadata": {},
   "source": [
    "#### Para responder a pergunta sobre qual dos grupos é mais homogênio, é necessário calcular o coeficiente de variação, dado pela divisão entre o desvio-padrão sobre a média. O coeficiente de variação fornece a variação dos dados obtidos em relação à média. Quanto menor for o seu valor, mais homogêneos serão os dados. O coeficiente de variação é considerado baixo (apontando um conjunto de dados bem homogêneos) quando for menor ou igual a 25%.\n",
    "<a href=\"https://brasilescola.uol.com.br/matematica/coeficiente-variacao.htm\">Referência</a>"
   ]
  },
  {
   "cell_type": "markdown",
   "metadata": {},
   "source": [
    "#### Concluimos que as empresas do setor comercial são mais homogêneas do que as empresas do setor industrial."
   ]
  },
  {
   "cell_type": "markdown",
   "metadata": {},
   "source": [
    "<hr>"
   ]
  },
  {
   "cell_type": "code",
   "execution_count": 6,
   "metadata": {},
   "outputs": [
    {
     "data": {
      "text/html": [
       "<div>\n",
       "<style scoped>\n",
       "    .dataframe tbody tr th:only-of-type {\n",
       "        vertical-align: middle;\n",
       "    }\n",
       "\n",
       "    .dataframe tbody tr th {\n",
       "        vertical-align: top;\n",
       "    }\n",
       "\n",
       "    .dataframe thead tr th {\n",
       "        text-align: left;\n",
       "    }\n",
       "</style>\n",
       "<table border=\"1\" class=\"dataframe\">\n",
       "  <thead>\n",
       "    <tr>\n",
       "      <th></th>\n",
       "      <th>Tamanho</th>\n",
       "      <th colspan=\"4\" halign=\"left\">Meses</th>\n",
       "    </tr>\n",
       "    <tr>\n",
       "      <th></th>\n",
       "      <th></th>\n",
       "      <th>mean</th>\n",
       "      <th>median</th>\n",
       "      <th>std</th>\n",
       "      <th>variation</th>\n",
       "    </tr>\n",
       "  </thead>\n",
       "  <tbody>\n",
       "    <tr>\n",
       "      <th>0</th>\n",
       "      <td>G</td>\n",
       "      <td>6.000000</td>\n",
       "      <td>6.0</td>\n",
       "      <td>2.309401</td>\n",
       "      <td>33.333333</td>\n",
       "    </tr>\n",
       "    <tr>\n",
       "      <th>1</th>\n",
       "      <td>M</td>\n",
       "      <td>5.857143</td>\n",
       "      <td>6.0</td>\n",
       "      <td>2.115701</td>\n",
       "      <td>33.442218</td>\n",
       "    </tr>\n",
       "    <tr>\n",
       "      <th>2</th>\n",
       "      <td>P</td>\n",
       "      <td>5.500000</td>\n",
       "      <td>5.5</td>\n",
       "      <td>0.577350</td>\n",
       "      <td>9.090909</td>\n",
       "    </tr>\n",
       "  </tbody>\n",
       "</table>\n",
       "</div>"
      ],
      "text/plain": [
       "  Tamanho     Meses                            \n",
       "               mean median       std  variation\n",
       "0       G  6.000000    6.0  2.309401  33.333333\n",
       "1       M  5.857143    6.0  2.115701  33.442218\n",
       "2       P  5.500000    5.5  0.577350   9.090909"
      ]
     },
     "execution_count": 6,
     "metadata": {},
     "output_type": "execute_result"
    }
   ],
   "source": [
    "calculated_tamanho = atividade_empresas.groupby(by='Tamanho').agg({'Meses': [np.mean, np.median, np.std, variation]}).reset_index()\n",
    "calculated_tamanho[('Meses', 'variation')] = calculated_tamanho[('Meses', 'variation')] * 100\n",
    "calculated_tamanho"
   ]
  },
  {
   "cell_type": "markdown",
   "metadata": {},
   "source": [
    "#### O numero médio de meses com crescimento parece aumentar muito pouco conforme o tamanho da empresa aumenta.\n",
    "\n",
    "#### A mediana do numero de meses com crescimento entre as grandes e médias empresas são iguais e levemente superiores as pequenas empresas.\n",
    "\n",
    "#### Diante da medida de coeficiente de variação e desvio padrão podemos dizer que as pequenas empresas representam um grupo mais homogeneo do que as médias e grandes empresas.\n",
    "\n",
    "#### Baseados nas observações não concluiriamos que existe relação entre o tamanho da empresa e o numero de meses com crescimento, uma vez que a diferença do número médio de meses com crescimento em cada grupo não parece ser significativa. E é válido salientar que a media não parece ter a mesma representatividade em cada grupo."
   ]
  },
  {
   "cell_type": "markdown",
   "metadata": {},
   "source": [
    "<hr>"
   ]
  },
  {
   "cell_type": "markdown",
   "metadata": {},
   "source": [
    "## Exercício 2"
   ]
  },
  {
   "cell_type": "code",
   "execution_count": 7,
   "metadata": {},
   "outputs": [
    {
     "data": {
      "text/html": [
       "<div>\n",
       "<style scoped>\n",
       "    .dataframe tbody tr th:only-of-type {\n",
       "        vertical-align: middle;\n",
       "    }\n",
       "\n",
       "    .dataframe tbody tr th {\n",
       "        vertical-align: top;\n",
       "    }\n",
       "\n",
       "    .dataframe thead th {\n",
       "        text-align: right;\n",
       "    }\n",
       "</style>\n",
       "<table border=\"1\" class=\"dataframe\">\n",
       "  <thead>\n",
       "    <tr style=\"text-align: right;\">\n",
       "      <th></th>\n",
       "      <th>40</th>\n",
       "      <th>45</th>\n",
       "      <th>50</th>\n",
       "      <th>55</th>\n",
       "      <th>60</th>\n",
       "      <th>65</th>\n",
       "    </tr>\n",
       "  </thead>\n",
       "  <tbody>\n",
       "    <tr>\n",
       "      <th>0</th>\n",
       "      <td>55</td>\n",
       "      <td>58</td>\n",
       "      <td>60</td>\n",
       "      <td>77</td>\n",
       "      <td>70</td>\n",
       "      <td>65</td>\n",
       "    </tr>\n",
       "    <tr>\n",
       "      <th>1</th>\n",
       "      <td>50</td>\n",
       "      <td>56</td>\n",
       "      <td>74</td>\n",
       "      <td>78</td>\n",
       "      <td>76</td>\n",
       "      <td>82</td>\n",
       "    </tr>\n",
       "    <tr>\n",
       "      <th>2</th>\n",
       "      <td>68</td>\n",
       "      <td>62</td>\n",
       "      <td>70</td>\n",
       "      <td>70</td>\n",
       "      <td>74</td>\n",
       "      <td>72</td>\n",
       "    </tr>\n",
       "    <tr>\n",
       "      <th>3</th>\n",
       "      <td>65</td>\n",
       "      <td>65</td>\n",
       "      <td>78</td>\n",
       "      <td>72</td>\n",
       "      <td>83</td>\n",
       "      <td>82</td>\n",
       "    </tr>\n",
       "    <tr>\n",
       "      <th>4</th>\n",
       "      <td>62</td>\n",
       "      <td>63</td>\n",
       "      <td>76</td>\n",
       "      <td>80</td>\n",
       "      <td>85</td>\n",
       "      <td>80</td>\n",
       "    </tr>\n",
       "  </tbody>\n",
       "</table>\n",
       "</div>"
      ],
      "text/plain": [
       "   40  45  50  55  60  65\n",
       "0  55  58  60  77  70  65\n",
       "1  50  56  74  78  76  82\n",
       "2  68  62  70  70  74  72\n",
       "3  65  65  78  72  83  82\n",
       "4  62  63  76  80  85  80"
      ]
     },
     "execution_count": 7,
     "metadata": {},
     "output_type": "execute_result"
    }
   ],
   "source": [
    "pesos_mulheres_por_idade = pd.read_csv(\"./DataSets/pesos_mulheres_por_idade.csv\", sep=\";\")\n",
    "pesos_mulheres_por_idade.head()"
   ]
  },
  {
   "cell_type": "code",
   "execution_count": 8,
   "metadata": {
    "scrolled": false
   },
   "outputs": [],
   "source": [
    "media_40    = pesos_mulheres_por_idade['40'].mean()\n",
    "mediana_40  = pesos_mulheres_por_idade['40'].median()\n",
    "sd_40       = pesos_mulheres_por_idade['40'].std()\n",
    "var_40      = pesos_mulheres_por_idade['40'].var()\n",
    "cv_40       = (sd_40/media_40)*100\n",
    "\n",
    "media_45    = pesos_mulheres_por_idade['45'].mean()\n",
    "mediana_45  = pesos_mulheres_por_idade['45'].median()\n",
    "sd_45       = pesos_mulheres_por_idade['45'].std()\n",
    "var_45      = pesos_mulheres_por_idade['45'].var()\n",
    "cv_45       = (sd_45/media_45)*100\n",
    "\n",
    "media_50    = pesos_mulheres_por_idade['50'].mean()\n",
    "mediana_50  = pesos_mulheres_por_idade['50'].median()\n",
    "sd_50       = pesos_mulheres_por_idade['50'].std()\n",
    "var_50      = pesos_mulheres_por_idade['50'].var()\n",
    "cv_50       = (sd_50/media_50)*100\n",
    "\n",
    "media_55    = pesos_mulheres_por_idade['55'].mean()\n",
    "mediana_55  = pesos_mulheres_por_idade['55'].median()\n",
    "sd_55       = pesos_mulheres_por_idade['55'].std()\n",
    "var_55      = pesos_mulheres_por_idade['55'].var()\n",
    "cv_55       = (sd_55/media_55)*100\n",
    "\n",
    "media_60    = pesos_mulheres_por_idade['60'].mean()\n",
    "mediana_60  = pesos_mulheres_por_idade['60'].median()\n",
    "sd_60       = pesos_mulheres_por_idade['60'].std()\n",
    "var_60      = pesos_mulheres_por_idade['60'].var()\n",
    "cv_60       = (sd_60/media_60)*100\n",
    "\n",
    "media_65    = pesos_mulheres_por_idade['65'].mean()\n",
    "mediana_65  = pesos_mulheres_por_idade['65'].median()\n",
    "sd_65       = pesos_mulheres_por_idade['65'].std()\n",
    "var_65      = pesos_mulheres_por_idade['65'].var()\n",
    "cv_65       = (sd_65/media_65)*100"
   ]
  },
  {
   "cell_type": "code",
   "execution_count": 44,
   "metadata": {},
   "outputs": [
    {
     "data": {
      "text/html": [
       "<div>\n",
       "<style scoped>\n",
       "    .dataframe tbody tr th:only-of-type {\n",
       "        vertical-align: middle;\n",
       "    }\n",
       "\n",
       "    .dataframe tbody tr th {\n",
       "        vertical-align: top;\n",
       "    }\n",
       "\n",
       "    .dataframe thead th {\n",
       "        text-align: right;\n",
       "    }\n",
       "</style>\n",
       "<table border=\"1\" class=\"dataframe\">\n",
       "  <thead>\n",
       "    <tr style=\"text-align: right;\">\n",
       "      <th></th>\n",
       "      <th>idade</th>\n",
       "      <th>mean</th>\n",
       "      <th>median</th>\n",
       "      <th>standard_deviation</th>\n",
       "      <th>variation_coefficient</th>\n",
       "    </tr>\n",
       "  </thead>\n",
       "  <tbody>\n",
       "    <tr>\n",
       "      <th>0</th>\n",
       "      <td>40</td>\n",
       "      <td>60.0</td>\n",
       "      <td>62.0</td>\n",
       "      <td>7.382412</td>\n",
       "      <td>12.304019</td>\n",
       "    </tr>\n",
       "    <tr>\n",
       "      <th>1</th>\n",
       "      <td>45</td>\n",
       "      <td>60.8</td>\n",
       "      <td>62.0</td>\n",
       "      <td>3.701351</td>\n",
       "      <td>6.087749</td>\n",
       "    </tr>\n",
       "    <tr>\n",
       "      <th>2</th>\n",
       "      <td>50</td>\n",
       "      <td>71.6</td>\n",
       "      <td>74.0</td>\n",
       "      <td>7.127412</td>\n",
       "      <td>9.954486</td>\n",
       "    </tr>\n",
       "    <tr>\n",
       "      <th>3</th>\n",
       "      <td>55</td>\n",
       "      <td>75.4</td>\n",
       "      <td>77.0</td>\n",
       "      <td>4.219005</td>\n",
       "      <td>5.595497</td>\n",
       "    </tr>\n",
       "    <tr>\n",
       "      <th>4</th>\n",
       "      <td>60</td>\n",
       "      <td>77.6</td>\n",
       "      <td>76.0</td>\n",
       "      <td>6.268971</td>\n",
       "      <td>8.078571</td>\n",
       "    </tr>\n",
       "    <tr>\n",
       "      <th>5</th>\n",
       "      <td>65</td>\n",
       "      <td>76.2</td>\n",
       "      <td>80.0</td>\n",
       "      <td>7.496666</td>\n",
       "      <td>9.838144</td>\n",
       "    </tr>\n",
       "  </tbody>\n",
       "</table>\n",
       "</div>"
      ],
      "text/plain": [
       "  idade  mean  median  standard_deviation  variation_coefficient\n",
       "0    40  60.0    62.0            7.382412              12.304019\n",
       "1    45  60.8    62.0            3.701351               6.087749\n",
       "2    50  71.6    74.0            7.127412               9.954486\n",
       "3    55  75.4    77.0            4.219005               5.595497\n",
       "4    60  77.6    76.0            6.268971               8.078571\n",
       "5    65  76.2    80.0            7.496666               9.838144"
      ]
     },
     "execution_count": 44,
     "metadata": {},
     "output_type": "execute_result"
    }
   ],
   "source": [
    "l_media = [media_40, media_45, media_50, media_55, media_60, media_65]\n",
    "l_mediana = [mediana_40, mediana_45, mediana_50, mediana_55, mediana_60, mediana_65]\n",
    "l_std = [sd_40, sd_45, sd_50, sd_55, sd_60, sd_65]\n",
    "l_cv = [cv_40, cv_45, cv_50, cv_55, cv_60, cv_65]\n",
    "df_mulheres = pd.DataFrame(\n",
    "    {'idade': ['40', '45', '50', '55', '60', '65'],\n",
    "     'mean': l_media,\n",
    "     'median': l_mediana,\n",
    "     'standard_deviation': l_std,\n",
    "     'variation_coefficient':l_cv\n",
    "    })\n",
    "df_mulheres"
   ]
  },
  {
   "cell_type": "markdown",
   "metadata": {},
   "source": [
    "<h4>\n",
    "    <ul>\n",
    "        <li>Com o aumento da idade de 40 para 45 anos nao notamos alterações significativas no peso medio das mulheres. Entretanto, diminuem o desvio padrãoo e coeficiente de variação, de modo que o peso das mulheres com faixa etária de 45 anos é bem mais homogeneo do que entre as mulheres com 40 anos</li>\n",
    "        <li>Com o aumento da idade de 45 para 50 anos percebemos um amento significativo no peso médio das mulheres. A variabilidade dos pesos volta a subir.</li>\n",
    "        <li>Com o aumento da idade de 50 para 55 anos percebemos um aumento no peso médio das mulheres. O grupo das mulheres de 55 anos é mais homogênio do que o das mulheres com 50 anos.</li>\n",
    "        <li>Com o aumento das idade de 55 para 60 anos percebemos um aumento no peso médio das mulheres. O grupo das mulheres de 55 anos é mais homogêneo do que o das mulheres com 60 anos.</li>        \n",
    "        <li>Com o aumento da idade de 60 para 65 anos percebemos uma pequena diminuição no peso médio das mulheres.</li>\n",
    "        <li>Observamos que no geral o peso médio das mulheres parece aumentar conforme aumenta a idade, com poucas exceções.</li>        \n",
    "    </ul>\n",
    "</h4>"
   ]
  },
  {
   "cell_type": "markdown",
   "metadata": {},
   "source": [
    "# Exercício 3"
   ]
  },
  {
   "cell_type": "code",
   "execution_count": 10,
   "metadata": {},
   "outputs": [
    {
     "data": {
      "text/html": [
       "<div>\n",
       "<style scoped>\n",
       "    .dataframe tbody tr th:only-of-type {\n",
       "        vertical-align: middle;\n",
       "    }\n",
       "\n",
       "    .dataframe tbody tr th {\n",
       "        vertical-align: top;\n",
       "    }\n",
       "\n",
       "    .dataframe thead th {\n",
       "        text-align: right;\n",
       "    }\n",
       "</style>\n",
       "<table border=\"1\" class=\"dataframe\">\n",
       "  <thead>\n",
       "    <tr style=\"text-align: right;\">\n",
       "      <th></th>\n",
       "      <th>S</th>\n",
       "      <th>T</th>\n",
       "      <th>Z</th>\n",
       "    </tr>\n",
       "  </thead>\n",
       "  <tbody>\n",
       "    <tr>\n",
       "      <th>0</th>\n",
       "      <td>4.5</td>\n",
       "      <td>M</td>\n",
       "      <td>N</td>\n",
       "    </tr>\n",
       "    <tr>\n",
       "      <th>1</th>\n",
       "      <td>5.0</td>\n",
       "      <td>T</td>\n",
       "      <td>M</td>\n",
       "    </tr>\n",
       "    <tr>\n",
       "      <th>2</th>\n",
       "      <td>4.2</td>\n",
       "      <td>M</td>\n",
       "      <td>M</td>\n",
       "    </tr>\n",
       "    <tr>\n",
       "      <th>3</th>\n",
       "      <td>3.7</td>\n",
       "      <td>M</td>\n",
       "      <td>M</td>\n",
       "    </tr>\n",
       "    <tr>\n",
       "      <th>4</th>\n",
       "      <td>3.9</td>\n",
       "      <td>T</td>\n",
       "      <td>T</td>\n",
       "    </tr>\n",
       "  </tbody>\n",
       "</table>\n",
       "</div>"
      ],
      "text/plain": [
       "     S  T  Z\n",
       "0  4.5  M  N\n",
       "1  5.0  T  M\n",
       "2  4.2  M  M\n",
       "3  3.7  M  M\n",
       "4  3.9  T  T"
      ]
     },
     "execution_count": 10,
     "metadata": {},
     "output_type": "execute_result"
    }
   ],
   "source": [
    "trabalhadores_renda_industria = pd.read_csv(\"./DataSets/trabalhadores_renda_industria.csv\", sep=\";\")\n",
    "trabalhadores_renda_industria.head()"
   ]
  },
  {
   "cell_type": "code",
   "execution_count": 11,
   "metadata": {},
   "outputs": [
    {
     "data": {
      "text/html": [
       "<div>\n",
       "<style scoped>\n",
       "    .dataframe tbody tr th:only-of-type {\n",
       "        vertical-align: middle;\n",
       "    }\n",
       "\n",
       "    .dataframe tbody tr th {\n",
       "        vertical-align: top;\n",
       "    }\n",
       "\n",
       "    .dataframe thead tr th {\n",
       "        text-align: left;\n",
       "    }\n",
       "</style>\n",
       "<table border=\"1\" class=\"dataframe\">\n",
       "  <thead>\n",
       "    <tr>\n",
       "      <th></th>\n",
       "      <th>T</th>\n",
       "      <th colspan=\"4\" halign=\"left\">S</th>\n",
       "    </tr>\n",
       "    <tr>\n",
       "      <th></th>\n",
       "      <th></th>\n",
       "      <th>mean</th>\n",
       "      <th>median</th>\n",
       "      <th>std</th>\n",
       "      <th>variation</th>\n",
       "    </tr>\n",
       "  </thead>\n",
       "  <tbody>\n",
       "    <tr>\n",
       "      <th>0</th>\n",
       "      <td>M</td>\n",
       "      <td>4.310000</td>\n",
       "      <td>4.3</td>\n",
       "      <td>0.619049</td>\n",
       "      <td>13.626030</td>\n",
       "    </tr>\n",
       "    <tr>\n",
       "      <th>1</th>\n",
       "      <td>T</td>\n",
       "      <td>3.354545</td>\n",
       "      <td>3.2</td>\n",
       "      <td>0.740761</td>\n",
       "      <td>21.054661</td>\n",
       "    </tr>\n",
       "  </tbody>\n",
       "</table>\n",
       "</div>"
      ],
      "text/plain": [
       "   T         S                            \n",
       "          mean median       std  variation\n",
       "0  M  4.310000    4.3  0.619049  13.626030\n",
       "1  T  3.354545    3.2  0.740761  21.054661"
      ]
     },
     "execution_count": 11,
     "metadata": {},
     "output_type": "execute_result"
    }
   ],
   "source": [
    "calculated_tradicional = trabalhadores_renda_industria.groupby(by='T').agg({'S': [np.mean, np.median, np.std, variation]}).reset_index()\n",
    "calculated_tradicional[('S', 'variation')] = calculated_tradicional[('S', 'variation')] * 100\n",
    "calculated_tradicional"
   ]
  },
  {
   "cell_type": "markdown",
   "metadata": {},
   "source": [
    "<h4>\n",
    "    <ul>\n",
    "        <li>A renda media dos trabalhadores na indústria moderna é maior que a renda média dos trabalhadores na indústria tradicional.</li>\n",
    "        <li>A mediana da renda dos trabalhadores na indústria moderna é maior que a mediana na indústria tradicional.</li>\n",
    "        <li>Diante da medida de coeficiente de variação e desvio padrão podemos dizer que a indústria moderna representa um grupo mais homogêneo do que a indústria tradicional.</li>\n",
    "    </ul>\n",
    "        <p>Baseados nas observações acima concluiríamos que existe relação entre o tipo de indústria e a renda dos trabalhadores, uma vez que a diferença da renda média dos trabalhadores em cada grupo parece ser significativa.</p>\n",
    "</h4>"
   ]
  },
  {
   "cell_type": "code",
   "execution_count": 12,
   "metadata": {},
   "outputs": [
    {
     "data": {
      "text/html": [
       "<div>\n",
       "<style scoped>\n",
       "    .dataframe tbody tr th:only-of-type {\n",
       "        vertical-align: middle;\n",
       "    }\n",
       "\n",
       "    .dataframe tbody tr th {\n",
       "        vertical-align: top;\n",
       "    }\n",
       "\n",
       "    .dataframe thead tr th {\n",
       "        text-align: left;\n",
       "    }\n",
       "</style>\n",
       "<table border=\"1\" class=\"dataframe\">\n",
       "  <thead>\n",
       "    <tr>\n",
       "      <th></th>\n",
       "      <th>Z</th>\n",
       "      <th colspan=\"4\" halign=\"left\">S</th>\n",
       "    </tr>\n",
       "    <tr>\n",
       "      <th></th>\n",
       "      <th></th>\n",
       "      <th>mean</th>\n",
       "      <th>median</th>\n",
       "      <th>std</th>\n",
       "      <th>variation</th>\n",
       "    </tr>\n",
       "  </thead>\n",
       "  <tbody>\n",
       "    <tr>\n",
       "      <th>0</th>\n",
       "      <td>M</td>\n",
       "      <td>3.488889</td>\n",
       "      <td>3.4</td>\n",
       "      <td>0.849183</td>\n",
       "      <td>22.947622</td>\n",
       "    </tr>\n",
       "    <tr>\n",
       "      <th>1</th>\n",
       "      <td>N</td>\n",
       "      <td>3.980000</td>\n",
       "      <td>4.1</td>\n",
       "      <td>0.661060</td>\n",
       "      <td>14.856026</td>\n",
       "    </tr>\n",
       "    <tr>\n",
       "      <th>2</th>\n",
       "      <td>T</td>\n",
       "      <td>4.100000</td>\n",
       "      <td>3.9</td>\n",
       "      <td>0.869866</td>\n",
       "      <td>19.642423</td>\n",
       "    </tr>\n",
       "  </tbody>\n",
       "</table>\n",
       "</div>"
      ],
      "text/plain": [
       "   Z         S                            \n",
       "          mean median       std  variation\n",
       "0  M  3.488889    3.4  0.849183  22.947622\n",
       "1  N  3.980000    4.1  0.661060  14.856026\n",
       "2  T  4.100000    3.9  0.869866  19.642423"
      ]
     },
     "execution_count": 12,
     "metadata": {},
     "output_type": "execute_result"
    }
   ],
   "source": [
    "calculated_turno = trabalhadores_renda_industria.groupby(by='Z').agg({'S': [np.mean, np.median, np.std, variation]}).reset_index()\n",
    "calculated_turno[('S', 'variation')] = calculated_turno[('S', 'variation')] * 100\n",
    "calculated_turno"
   ]
  },
  {
   "cell_type": "markdown",
   "metadata": {},
   "source": [
    "<h4>\n",
    "    <ul>\n",
    "        <li>A media da renda dos trabalhadores do grupo da tarde e noite e muito parecido, no entanto é bem maior que a renda média do grupo da manhã.</li>\n",
    "        <li>A mediana da renda dos trabalhadores da tarde e da noite é parecida, no entanto é maior que a mediana da renda do grupo da manhã</li>\n",
    "        <li>Diante da medida de coeficiente de variação e desvio padrão podemos dizer que o grupo de trabalhadores da noite é mais homogêneo que o grupo da manhã e o grupo da tarde</li>\n",
    "    </ul>\n",
    "        <p>Baseados nas observações acima concluiríamos que existe relação entre o período de trabalho e a renda dos trabalhadores, uma vez que a diferença da média da renda do grupo da manhã com relação aos grupos da tarde e da noite é significativa.</p>\n",
    "</h4>"
   ]
  },
  {
   "cell_type": "markdown",
   "metadata": {},
   "source": [
    "## Exercício 4"
   ]
  },
  {
   "cell_type": "code",
   "execution_count": 13,
   "metadata": {},
   "outputs": [
    {
     "name": "stdout",
     "output_type": "stream",
     "text": [
      "[2.35, 2.56, 2.57, 2.58, 2.76, 2.77, 2.96, 2.97, 2.98, 2.99, 3.16, 3.17, 3.18, 3.19, 3.2, 3.36, 3.37, 3.38, 3.4, 3.45, 3.55]\n"
     ]
    }
   ],
   "source": [
    "pacientes = [ 2.35,\n",
    "              2.56,2.57,2.58,\n",
    "              2.76,2.77,\n",
    "              2.96,2.97,2.98,2.99,\n",
    "              3.16,3.17,3.18,3.19,3.20,\n",
    "              3.36,3.37,3.38,3.40,3.45,3.55]\n",
    "print(pacientes)"
   ]
  },
  {
   "cell_type": "code",
   "execution_count": 14,
   "metadata": {},
   "outputs": [
    {
     "data": {
      "text/plain": [
       "array([2.77, 3.16, 3.36])"
      ]
     },
     "execution_count": 14,
     "metadata": {},
     "output_type": "execute_result"
    }
   ],
   "source": [
    "np.quantile(pacientes, q=[0.25, 0.5, 0.75])"
   ]
  },
  {
   "cell_type": "code",
   "execution_count": 15,
   "metadata": {},
   "outputs": [
    {
     "data": {
      "text/plain": [
       "array([2.35, 2.55, 2.75, 2.95, 3.15, 3.35, 3.55])"
      ]
     },
     "execution_count": 15,
     "metadata": {},
     "output_type": "execute_result"
    }
   ],
   "source": [
    "quebras = np.linspace(start=np.min(pacientes), stop=np.max(pacientes), num=7)\n",
    "quebras"
   ]
  },
  {
   "cell_type": "code",
   "execution_count": 16,
   "metadata": {},
   "outputs": [
    {
     "data": {
      "text/plain": [
       "(2.35, 2.55]    0\n",
       "(2.55, 2.75]    3\n",
       "(2.75, 2.95]    2\n",
       "(2.95, 3.15]    4\n",
       "(3.15, 3.35]    5\n",
       "(3.35, 3.55]    6\n",
       "dtype: int64"
      ]
     },
     "execution_count": 16,
     "metadata": {},
     "output_type": "execute_result"
    }
   ],
   "source": [
    "pd.cut(pacientes, bins=quebras).value_counts()"
   ]
  },
  {
   "cell_type": "code",
   "execution_count": 17,
   "metadata": {},
   "outputs": [
    {
     "data": {
      "image/png": "[encoded data removed]",
      "text/plain": [
       "<Figure size 432x288 with 1 Axes>"
      ]
     },
     "metadata": {
      "needs_background": "light"
     },
     "output_type": "display_data"
    }
   ],
   "source": [
    "plt.hist(pacientes, bins=quebras)\n",
    "plt.xlabel('Pacientes')\n",
    "plt.ylabel('Frequência')\n",
    "\n",
    "plt.tight_layout()\n",
    "plt.show()"
   ]
  },
  {
   "cell_type": "markdown",
   "metadata": {},
   "source": [
    "## Exercício 5"
   ]
  },
  {
   "cell_type": "code",
   "execution_count": 18,
   "metadata": {},
   "outputs": [
    {
     "data": {
      "image/png": "[encoded data removed]",
      "text/plain": [
       "<Figure size 432x288 with 1 Axes>"
      ]
     },
     "metadata": {
      "needs_background": "light"
     },
     "output_type": "display_data"
    }
   ],
   "source": [
    "ensino_medio = np.concatenate((np.repeat(300,14),\n",
    "                               np.repeat(401,46),                 \n",
    "                               np.repeat(501,58),\n",
    "                               np.repeat(601,76),\n",
    "                               np.repeat(701,68),\n",
    "                               np.repeat(801,62),\n",
    "                               np.repeat(901,48),\n",
    "                               np.repeat(1001,22),\n",
    "                               np.repeat(1101,3),\n",
    "                               np.repeat(1200,3))\n",
    "                             )\n",
    "\n",
    "quebras_ensino_medio = np.linspace(start=np.min(ensino_medio), stop=np.max(ensino_medio), num=10)\n",
    "\n",
    "plt.hist(ensino_medio, bins=quebras_ensino_medio)\n",
    "plt.xlabel('Minutos')\n",
    "plt.ylabel('Frequência')\n",
    "\n",
    "plt.tight_layout()\n",
    "plt.show()"
   ]
  },
  {
   "cell_type": "code",
   "execution_count": 19,
   "metadata": {},
   "outputs": [
    {
     "data": {
      "image/png": "[encoded data removed]",
      "text/plain": [
       "<Figure size 432x288 with 1 Axes>"
      ]
     },
     "metadata": {
      "needs_background": "light"
     },
     "output_type": "display_data"
    }
   ],
   "source": [
    "ensino_superior = np.array([350,560,580,710,945,880,760,640,660,820,\n",
    "                            775,910,920,850,810,790,890,685,730,850,\n",
    "                            745,640,1010,420,770,850,915,840,930,895])\n",
    "\n",
    "quebras_ensino_superior = np.linspace(start=np.min(ensino_superior), stop=np.max(ensino_superior), num=9)\n",
    "\n",
    "plt.hist(ensino_superior, bins=quebras_ensino_superior)\n",
    "plt.xlabel('Minutos')\n",
    "plt.ylabel('Frequência')\n",
    "\n",
    "plt.tight_layout()\n",
    "plt.show()"
   ]
  },
  {
   "cell_type": "markdown",
   "metadata": {},
   "source": [
    "<h4> Analisando os dois histogramas é possível notar que os alunos do ensino médio possui uma enorme quantidade de alunos que assistem entre 600 e 800 minutos, enquanto que no ensino superior isso só ocorre na faixa de 700 a 900 minutos. Por conta da quantidade de amostras no ensino superior, é possível que não esteja representando corretamente a população universitária. O histograma do ensino médio se aproxima de uma curva normal, enquanto o histograma do ensino superior possui uma calda a esquerda.</h4>"
   ]
  },
  {
   "cell_type": "markdown",
   "metadata": {},
   "source": [
    "## Exercício 6"
   ]
  },
  {
   "cell_type": "code",
   "execution_count": 20,
   "metadata": {},
   "outputs": [
    {
     "data": {
      "image/png": "[encoded data removed]",
      "text/plain": [
       "<Figure size 432x288 with 1 Axes>"
      ]
     },
     "metadata": {
      "needs_background": "light"
     },
     "output_type": "display_data"
    }
   ],
   "source": [
    "antes_treinamento  = np.concatenate(\n",
    "                    (np.repeat(0,442),\n",
    "                     np.repeat(2.1,200),\n",
    "                     np.repeat(4.1,130),\n",
    "                     np.repeat(8.1,34),\n",
    "                     np.repeat(12.1,10),\n",
    "                     np.repeat(16.1,2),\n",
    "                     np.repeat(22,1)\n",
    "                    )\n",
    ")\n",
    "\n",
    "quebras_antes_treinamento = np.linspace(start=np.min(antes_treinamento), \n",
    "                                        stop=np.max(antes_treinamento), \n",
    "                                        num=12)\n",
    "\n",
    "\n",
    "plt.hist(antes_treinamento, bins=quebras_antes_treinamento)\n",
    "plt.xlabel('Km')\n",
    "plt.ylabel('Frequência')\n",
    "\n",
    "plt.tight_layout()\n",
    "plt.show()"
   ]
  },
  {
   "cell_type": "code",
   "execution_count": 21,
   "metadata": {},
   "outputs": [
    {
     "data": {
      "image/png": "[encoded data removed]",
      "text/plain": [
       "<Figure size 432x288 with 1 Axes>"
      ]
     },
     "metadata": {
      "needs_background": "light"
     },
     "output_type": "display_data"
    }
   ],
   "source": [
    "depois_treinamento = np.concatenate(\n",
    "                    (np.repeat(0,80),\n",
    "                     np.repeat(2.1,200),\n",
    "                     np.repeat(4.1,280),\n",
    "                     np.repeat(8.1,179),\n",
    "                     np.repeat(12.1,43),\n",
    "                     np.repeat(16.1,4),\n",
    "                     np.repeat(22,4)\n",
    "                    )\n",
    ")\n",
    "\n",
    "quebras_depois_treinamento = np.linspace(start=np.min(depois_treinamento), \n",
    "                                        stop=np.max(depois_treinamento), \n",
    "                                        num=12)\n",
    "\n",
    "\n",
    "plt.hist(depois_treinamento, bins=quebras_depois_treinamento)\n",
    "plt.xlabel('Km')\n",
    "plt.ylabel('Frequência')\n",
    "\n",
    "plt.tight_layout()\n",
    "plt.show()"
   ]
  },
  {
   "cell_type": "code",
   "execution_count": 22,
   "metadata": {},
   "outputs": [
    {
     "name": "stdout",
     "output_type": "stream",
     "text": [
      "Média Antes do Treinamento 1.7137973137973137\n",
      "Mediana Antes do Treinamento 0.0\n",
      "Quantis Antes do Treinamento\n"
     ]
    },
    {
     "data": {
      "text/plain": [
       "array([0. , 0. , 0. , 2.1, 8.1])"
      ]
     },
     "execution_count": 22,
     "metadata": {},
     "output_type": "execute_result"
    }
   ],
   "source": [
    "print(\"Média Antes do Treinamento\", np.mean(antes_treinamento))\n",
    "print(\"Mediana Antes do Treinamento\", np.median(antes_treinamento))\n",
    "print(\"Quantis Antes do Treinamento\")\n",
    "np.quantile(antes_treinamento, q=[0, 0.25, 0.5, 0.75, 0.95])"
   ]
  },
  {
   "cell_type": "code",
   "execution_count": 23,
   "metadata": {},
   "outputs": [
    {
     "name": "stdout",
     "output_type": "stream",
     "text": [
      "Média Depois do Treinamento 4.671645569620253\n",
      "Mediana Depois do Treinamento 4.1\n",
      "Quantis Depois do Treinamento\n"
     ]
    },
    {
     "data": {
      "text/plain": [
       "array([ 0. ,  2.1,  4.1,  8.1, 12.1])"
      ]
     },
     "execution_count": 23,
     "metadata": {},
     "output_type": "execute_result"
    }
   ],
   "source": [
    "print(\"Média Depois do Treinamento\", np.mean(depois_treinamento))\n",
    "print(\"Mediana Depois do Treinamento\", np.median(depois_treinamento))\n",
    "print(\"Quantis Depois do Treinamento\")\n",
    "np.quantile(depois_treinamento, q=[0, 0.25, 0.5, 0.75, 0.95])"
   ]
  },
  {
   "cell_type": "markdown",
   "metadata": {},
   "source": [
    "<h4>\n",
    "    <p>Analisando os dados acima, podemos concluir que o treinamento surtiu efeito, devido a mudança drástica da média de quilometragem percorrida que saiu de aproximadamente 1.71 Km para aproximadamente 4.7 Km. Além disso, é possível perceber que o desempenho dos alunos aumentou com o treinamento, de maneira que a distribuição da quilometragem observada antes do treinamento difere da quilometragem observada após o treinamento. Ainda se mantiveram 200 indivíduos na faixa de 2 a 4 Km, entretanto houve um aumento significativo nas faixas de 4 a 8 Km e de 8 a 12 Km. Percebemos também um leve aumento na faixa entre 12 e 16 Km e menor ainda na faixa de 16 a 22 Km.</p>\n",
    "</h4>"
   ]
  },
  {
   "cell_type": "markdown",
   "metadata": {},
   "source": [
    "## Exercício 7"
   ]
  },
  {
   "cell_type": "code",
   "execution_count": 24,
   "metadata": {},
   "outputs": [
    {
     "data": {
      "image/png": "[encoded data removed]",
      "text/plain": [
       "<Figure size 432x288 with 1 Axes>"
      ]
     },
     "metadata": {
      "needs_background": "light"
     },
     "output_type": "display_data"
    }
   ],
   "source": [
    "renda_pos_graduando = np.array([\n",
    "                        2.90, \n",
    "                        2.90, \n",
    "                        2.95, \n",
    "                        2.95,\n",
    "                        3.10, \n",
    "                        3.10, \n",
    "                        3.15, \n",
    "                        3.20, \n",
    "                        3.20, \n",
    "                        3.25, \n",
    "                        3.30, \n",
    "                        3.40, \n",
    "                        3.45, \n",
    "                        3.45, \n",
    "                        3.50, \n",
    "                        3.65, \n",
    "                        3.65, \n",
    "                        3.80,\n",
    "                        3.90,\n",
    "                        3.90, \n",
    "                        4.00, \n",
    "                        5.00, \n",
    "                        5.20, \n",
    "                        5.50,\n",
    "                        6.40])\n",
    "\n",
    "plt.boxplot(renda_pos_graduando)\n",
    "plt.ylabel('Renda de Pós-Graduandos (x1000)')\n",
    "\n",
    "plt.tight_layout()\n",
    "plt.show()"
   ]
  },
  {
   "cell_type": "markdown",
   "metadata": {},
   "source": [
    "# Exercício 8"
   ]
  },
  {
   "cell_type": "code",
   "execution_count": 25,
   "metadata": {},
   "outputs": [
    {
     "data": {
      "text/html": [
       "<div>\n",
       "<style scoped>\n",
       "    .dataframe tbody tr th:only-of-type {\n",
       "        vertical-align: middle;\n",
       "    }\n",
       "\n",
       "    .dataframe tbody tr th {\n",
       "        vertical-align: top;\n",
       "    }\n",
       "\n",
       "    .dataframe thead th {\n",
       "        text-align: right;\n",
       "    }\n",
       "</style>\n",
       "<table border=\"1\" class=\"dataframe\">\n",
       "  <thead>\n",
       "    <tr style=\"text-align: right;\">\n",
       "      <th></th>\n",
       "      <th>Secao</th>\n",
       "      <th>Direito</th>\n",
       "      <th>Politica</th>\n",
       "      <th>Estatistica</th>\n",
       "    </tr>\n",
       "  </thead>\n",
       "  <tbody>\n",
       "    <tr>\n",
       "      <th>0</th>\n",
       "      <td>Pessoal</td>\n",
       "      <td>9</td>\n",
       "      <td>9.0</td>\n",
       "      <td>9</td>\n",
       "    </tr>\n",
       "    <tr>\n",
       "      <th>1</th>\n",
       "      <td>Pessoal</td>\n",
       "      <td>9</td>\n",
       "      <td>6.5</td>\n",
       "      <td>9</td>\n",
       "    </tr>\n",
       "    <tr>\n",
       "      <th>2</th>\n",
       "      <td>Pessoal</td>\n",
       "      <td>9</td>\n",
       "      <td>9.0</td>\n",
       "      <td>8</td>\n",
       "    </tr>\n",
       "    <tr>\n",
       "      <th>3</th>\n",
       "      <td>Pessoal</td>\n",
       "      <td>9</td>\n",
       "      <td>6.0</td>\n",
       "      <td>8</td>\n",
       "    </tr>\n",
       "    <tr>\n",
       "      <th>4</th>\n",
       "      <td>Pessoal</td>\n",
       "      <td>9</td>\n",
       "      <td>6.5</td>\n",
       "      <td>9</td>\n",
       "    </tr>\n",
       "  </tbody>\n",
       "</table>\n",
       "</div>"
      ],
      "text/plain": [
       "     Secao  Direito  Politica  Estatistica\n",
       "0  Pessoal        9       9.0            9\n",
       "1  Pessoal        9       6.5            9\n",
       "2  Pessoal        9       9.0            8\n",
       "3  Pessoal        9       6.0            8\n",
       "4  Pessoal        9       6.5            9"
      ]
     },
     "execution_count": 25,
     "metadata": {},
     "output_type": "execute_result"
    }
   ],
   "source": [
    "industria_secoes = pd.read_csv(\"./DataSets/industria_secoes.csv\", sep=\";\")\n",
    "industria_secoes.head()"
   ]
  },
  {
   "cell_type": "code",
   "execution_count": 26,
   "metadata": {},
   "outputs": [],
   "source": [
    "media_direito    = industria_secoes.Direito.mean()\n",
    "mediana_direito  = industria_secoes.Direito.median()\n",
    "sd_direito       = industria_secoes.Direito.std()\n",
    "cv_direito       = (sd_direito/media_direito)*100\n",
    "\n",
    "media_politica    = industria_secoes.Politica.mean()\n",
    "mediana_politica  = industria_secoes.Politica.median()\n",
    "sd_politica       = industria_secoes.Politica.std()\n",
    "cv_politica       = (sd_politica/media_politica)*100\n",
    "\n",
    "media_estatistica    = industria_secoes.Estatistica.mean()\n",
    "mediana_estatistica  = industria_secoes.Estatistica.median()\n",
    "sd_estatistica       = industria_secoes.Estatistica.std()\n",
    "cv_estatistica       = (sd_estatistica/media_estatistica)*100\n",
    "\n",
    "industria_secoes.Direito = industria_secoes.Direito.astype(\"float64\")\n",
    "industria_secoes.Politica = industria_secoes.Politica.astype(\"float64\")\n",
    "industria_secoes.Estatistica = industria_secoes.Estatistica.astype(\"float64\")"
   ]
  },
  {
   "cell_type": "code",
   "execution_count": 27,
   "metadata": {},
   "outputs": [
    {
     "data": {
      "text/html": [
       "<div>\n",
       "<style scoped>\n",
       "    .dataframe tbody tr th:only-of-type {\n",
       "        vertical-align: middle;\n",
       "    }\n",
       "\n",
       "    .dataframe tbody tr th {\n",
       "        vertical-align: top;\n",
       "    }\n",
       "\n",
       "    .dataframe thead th {\n",
       "        text-align: right;\n",
       "    }\n",
       "</style>\n",
       "<table border=\"1\" class=\"dataframe\">\n",
       "  <thead>\n",
       "    <tr style=\"text-align: right;\">\n",
       "      <th></th>\n",
       "      <th>discipline</th>\n",
       "      <th>mean</th>\n",
       "      <th>median</th>\n",
       "      <th>standard_deviation</th>\n",
       "      <th>variation_coefficient</th>\n",
       "    </tr>\n",
       "  </thead>\n",
       "  <tbody>\n",
       "    <tr>\n",
       "      <th>0</th>\n",
       "      <td>Direito</td>\n",
       "      <td>9.00</td>\n",
       "      <td>9.0</td>\n",
       "      <td>0.000000</td>\n",
       "      <td>0.000000</td>\n",
       "    </tr>\n",
       "    <tr>\n",
       "      <th>1</th>\n",
       "      <td>Politica</td>\n",
       "      <td>7.30</td>\n",
       "      <td>7.0</td>\n",
       "      <td>1.391941</td>\n",
       "      <td>19.067686</td>\n",
       "    </tr>\n",
       "    <tr>\n",
       "      <th>2</th>\n",
       "      <td>Estatistica</td>\n",
       "      <td>7.96</td>\n",
       "      <td>8.0</td>\n",
       "      <td>1.540563</td>\n",
       "      <td>19.353802</td>\n",
       "    </tr>\n",
       "  </tbody>\n",
       "</table>\n",
       "</div>"
      ],
      "text/plain": [
       "    discipline  mean  median  standard_deviation  variation_coefficient\n",
       "0      Direito  9.00     9.0            0.000000               0.000000\n",
       "1     Politica  7.30     7.0            1.391941              19.067686\n",
       "2  Estatistica  7.96     8.0            1.540563              19.353802"
      ]
     },
     "execution_count": 27,
     "metadata": {},
     "output_type": "execute_result"
    }
   ],
   "source": [
    "l_media = [media_direito, media_politica, media_estatistica]\n",
    "l_mediana = [mediana_direito, mediana_politica, mediana_estatistica]\n",
    "l_std = [sd_direito, sd_politica, sd_estatistica]\n",
    "l_cv = [cv_direito, cv_politica, cv_estatistica]\n",
    "df_disciplina = pd.DataFrame(\n",
    "    {'discipline': ['Direito', 'Politica', 'Estatistica'],\n",
    "     'mean': l_media,\n",
    "     'median': l_mediana,\n",
    "     'standard_deviation': l_std,\n",
    "     'variation_coefficient':l_cv\n",
    "    })\n",
    "df_disciplina"
   ]
  },
  {
   "cell_type": "code",
   "execution_count": 28,
   "metadata": {},
   "outputs": [
    {
     "data": {
      "image/png": "[encoded data removed]",
      "text/plain": [
       "<Figure size 432x288 with 1 Axes>"
      ]
     },
     "metadata": {
      "needs_background": "light"
     },
     "output_type": "display_data"
    }
   ],
   "source": [
    "data = [industria_secoes.Direito, industria_secoes.Politica, industria_secoes.Estatistica]\n",
    "\n",
    "# Multiple box plots on one Axes\n",
    "fig, ax = plt.subplots()\n",
    "ax.boxplot(data, labels=['Direito', 'Política', 'Estatística'])\n",
    "\n",
    "plt.show()"
   ]
  },
  {
   "cell_type": "markdown",
   "metadata": {},
   "source": [
    "<h4>\n",
    "    Podemos perceber que há uma grande diferença entre a Politica e os outros cursos, tendo em vista a distribuição entre o 1º e o 3º e o volume de indivíduos acima do 2º quartil. Ainda é possível perceber que apenas na Estatística teve um indivíduo que ficou muito além da turma com uma nota bem inferior aos demais. Enquanto que em Direito todos obtiveram a mesma nota.\n",
    "</h4>"
   ]
  },
  {
   "cell_type": "code",
   "execution_count": 29,
   "metadata": {},
   "outputs": [
    {
     "data": {
      "text/html": [
       "<div>\n",
       "<style scoped>\n",
       "    .dataframe tbody tr th:only-of-type {\n",
       "        vertical-align: middle;\n",
       "    }\n",
       "\n",
       "    .dataframe tbody tr th {\n",
       "        vertical-align: top;\n",
       "    }\n",
       "\n",
       "    .dataframe thead tr th {\n",
       "        text-align: left;\n",
       "    }\n",
       "</style>\n",
       "<table border=\"1\" class=\"dataframe\">\n",
       "  <thead>\n",
       "    <tr>\n",
       "      <th></th>\n",
       "      <th>Secao</th>\n",
       "      <th colspan=\"4\" halign=\"left\">Estatistica</th>\n",
       "    </tr>\n",
       "    <tr>\n",
       "      <th></th>\n",
       "      <th></th>\n",
       "      <th>mean</th>\n",
       "      <th>median</th>\n",
       "      <th>std</th>\n",
       "      <th>variation</th>\n",
       "    </tr>\n",
       "  </thead>\n",
       "  <tbody>\n",
       "    <tr>\n",
       "      <th>0</th>\n",
       "      <td>Pessoal</td>\n",
       "      <td>8.714286</td>\n",
       "      <td>9.0</td>\n",
       "      <td>0.755929</td>\n",
       "      <td>8.031114</td>\n",
       "    </tr>\n",
       "    <tr>\n",
       "      <th>1</th>\n",
       "      <td>Técnica</td>\n",
       "      <td>8.285714</td>\n",
       "      <td>8.0</td>\n",
       "      <td>1.112697</td>\n",
       "      <td>12.432935</td>\n",
       "    </tr>\n",
       "    <tr>\n",
       "      <th>2</th>\n",
       "      <td>Vendas</td>\n",
       "      <td>7.272727</td>\n",
       "      <td>8.0</td>\n",
       "      <td>1.902152</td>\n",
       "      <td>24.937422</td>\n",
       "    </tr>\n",
       "  </tbody>\n",
       "</table>\n",
       "</div>"
      ],
      "text/plain": [
       "     Secao Estatistica                            \n",
       "                  mean median       std  variation\n",
       "0  Pessoal    8.714286    9.0  0.755929   8.031114\n",
       "1  Técnica    8.285714    8.0  1.112697  12.432935\n",
       "2   Vendas    7.272727    8.0  1.902152  24.937422"
      ]
     },
     "execution_count": 29,
     "metadata": {},
     "output_type": "execute_result"
    }
   ],
   "source": [
    "calculated_industria = industria_secoes.groupby(by=['Secao']).agg({'Estatistica': [np.mean, np.median, np.std, variation]}).reset_index()\n",
    "calculated_industria[('Estatistica', 'variation')] = calculated_industria[('Estatistica', 'variation')] * 100\n",
    "calculated_industria"
   ]
  },
  {
   "cell_type": "markdown",
   "metadata": {},
   "source": [
    "<h4>\n",
    "    Analisando as três seções podemos obervar que o desempenho da seção de Pessoal foi superior aos demais.\n",
    "</h4>"
   ]
  }
 ],
 "metadata": {
  "kernelspec": {
   "display_name": "Python 3",
   "language": "python",
   "name": "python3"
  },
  "language_info": {
   "codemirror_mode": {
    "name": "ipython",
    "version": 3
   },
   "file_extension": ".py",
   "mimetype": "text/x-python",
   "name": "python",
   "nbconvert_exporter": "python",
   "pygments_lexer": "ipython3",
   "version": "3.8.5"
  }
 },
 "nbformat": 4,
 "nbformat_minor": 5
}
