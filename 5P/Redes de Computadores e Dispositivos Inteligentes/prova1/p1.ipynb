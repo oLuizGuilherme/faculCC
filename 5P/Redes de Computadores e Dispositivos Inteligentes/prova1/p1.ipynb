{
 "cells": [
  {
   "cell_type": "code",
   "execution_count": 32,
   "metadata": {},
   "outputs": [],
   "source": [
    "import pandas as pd\n",
    "import numpy as np\n",
    "import matplotlib.pyplot as plt"
   ]
  },
  {
   "cell_type": "code",
   "execution_count": 6,
   "metadata": {},
   "outputs": [
    {
     "data": {
      "text/plain": [
       "4.993996395673509"
      ]
     },
     "execution_count": 6,
     "metadata": {},
     "output_type": "execute_result"
    }
   ],
   "source": [
    "array1 = np.array([10, 15, 12, 8, 9, 11, 14, 16, 13, 15, 17, 20, 18, 22, 25, 23, 21, 19, 20, 24])\n",
    "np.std(array1)"
   ]
  },
  {
   "cell_type": "code",
   "execution_count": 9,
   "metadata": {},
   "outputs": [
    {
     "name": "stdout",
     "output_type": "stream",
     "text": [
      "25.05\n",
      "25.0\n",
      "2.9576172842340505\n",
      "8.747499999999999\n"
     ]
    }
   ],
   "source": [
    "array2 = np.array([25, 26, 23, 22, 21, 22, 23, 26, 27, 28, 29, 30, 30, 28, 27, 25, 24, 23, 22, 20])\n",
    "print(np.mean(array2))\n",
    "print(np.median(array2))\n",
    "print(np.std(array2))\n",
    "print(np.var(array2))"
   ]
  },
  {
   "cell_type": "code",
   "execution_count": 34,
   "metadata": {},
   "outputs": [
    {
     "name": "stdout",
     "output_type": "stream",
     "text": [
      "16.6\n",
      "16.5\n",
      "4.993996395673509\n",
      "24.94\n"
     ]
    }
   ],
   "source": [
    "array3 = np.array([10, 15, 12, 8, 9, 11, 14, 16, 13, 15, 17, 20, 18, 22, 25, 23, 21, 19, 20, 24])\n",
    "print(np.mean(array3))\n",
    "print(np.median(array3))\n",
    "print(np.std(array3))\n",
    "print(np.var(array3))"
   ]
  },
  {
   "cell_type": "code",
   "execution_count": 15,
   "metadata": {},
   "outputs": [
    {
     "name": "stdout",
     "output_type": "stream",
     "text": [
      "171.05\n",
      "170.5\n",
      "5.014728307695243\n",
      "25.147499999999997\n"
     ]
    }
   ],
   "source": [
    "array4 = np.array([172, 163, 168, 170, 165, 167, 175, 178, 170, 180, 175, 168, 163, 169, 180, 172, 173, 171, 176, 166])\n",
    "print(np.mean(array4))\n",
    "print(np.median(array4))\n",
    "print(np.std(array4))\n",
    "print(np.var(array4))"
   ]
  },
  {
   "cell_type": "code",
   "execution_count": 17,
   "metadata": {},
   "outputs": [
    {
     "name": "stdout",
     "output_type": "stream",
     "text": [
      "16.6\n"
     ]
    }
   ],
   "source": [
    "array7 = np.array([10, 15, 12, 8, 9, 11, 14, 16, 13, 15, 17, 20, 18, 22, 25, 23, 21, 19, 20, 24])\n",
    "print(np.mean(array7))\n"
   ]
  },
  {
   "cell_type": "code",
   "execution_count": 20,
   "metadata": {},
   "outputs": [
    {
     "name": "stdout",
     "output_type": "stream",
     "text": [
      "8.35\n",
      "8.0\n",
      "4.1865857210858595\n",
      "17.527500000000003\n"
     ]
    }
   ],
   "source": [
    "array8 = np.array([3, 7, 10, 15, 2, 8, 12, 5, 6, 7, 9, 11, 14, 1, 4, 6, 8, 10, 13, 16])\n",
    "print(np.mean(array8))\n",
    "print(np.median(array8))\n",
    "print(np.std(array8))\n",
    "print(np.var(array8))"
   ]
  },
  {
   "cell_type": "code",
   "execution_count": 36,
   "metadata": {},
   "outputs": [
    {
     "name": "stdout",
     "output_type": "stream",
     "text": [
      "27.5\n",
      "27.5\n",
      "2.1095023109728985\n",
      "4.45\n"
     ]
    }
   ],
   "source": [
    "array10 = np.array([28, 30, 26, 27, 29, 28, 30, 28, 31, 32, 29, 27, 24, 25, 26, 28, 27, 30, 28, 27, 26, 24, 25, 23, 29, 28, 27, 26, 30, 27])\n",
    "print(np.mean(array10))\n",
    "print(np.median(array10))\n",
    "print(np.std(array10))\n",
    "print(np.var(array10))"
   ]
  },
  {
   "cell_type": "code",
   "execution_count": 29,
   "metadata": {},
   "outputs": [
    {
     "data": {
      "text/html": [
       "<div>\n",
       "<style scoped>\n",
       "    .dataframe tbody tr th:only-of-type {\n",
       "        vertical-align: middle;\n",
       "    }\n",
       "\n",
       "    .dataframe tbody tr th {\n",
       "        vertical-align: top;\n",
       "    }\n",
       "\n",
       "    .dataframe thead th {\n",
       "        text-align: right;\n",
       "    }\n",
       "</style>\n",
       "<table border=\"1\" class=\"dataframe\">\n",
       "  <thead>\n",
       "    <tr style=\"text-align: right;\">\n",
       "      <th></th>\n",
       "      <th>0</th>\n",
       "    </tr>\n",
       "  </thead>\n",
       "  <tbody>\n",
       "    <tr>\n",
       "      <th>0.25</th>\n",
       "      <td>5.75</td>\n",
       "    </tr>\n",
       "    <tr>\n",
       "      <th>0.50</th>\n",
       "      <td>8.00</td>\n",
       "    </tr>\n",
       "    <tr>\n",
       "      <th>0.75</th>\n",
       "      <td>11.25</td>\n",
       "    </tr>\n",
       "    <tr>\n",
       "      <th>1.00</th>\n",
       "      <td>16.00</td>\n",
       "    </tr>\n",
       "  </tbody>\n",
       "</table>\n",
       "</div>"
      ],
      "text/plain": [
       "          0\n",
       "0.25   5.75\n",
       "0.50   8.00\n",
       "0.75  11.25\n",
       "1.00  16.00"
      ]
     },
     "execution_count": 29,
     "metadata": {},
     "output_type": "execute_result"
    }
   ],
   "source": [
    "df13 = pd.DataFrame([3, 7, 10, 15, 2, 8, 12, 5, 6, 7, 9, 11, 14, 1, 4, 6, 8, 10, 13, 16])\n",
    "df13.quantile()\n",
    "df13.quantile([0.25,0.50,0.75,1])"
   ]
  }
 ],
 "metadata": {
  "kernelspec": {
   "display_name": "Python 3",
   "language": "python",
   "name": "python3"
  },
  "language_info": {
   "codemirror_mode": {
    "name": "ipython",
    "version": 3
   },
   "file_extension": ".py",
   "mimetype": "text/x-python",
   "name": "python",
   "nbconvert_exporter": "python",
   "pygments_lexer": "ipython3",
   "version": "3.11.2"
  },
  "orig_nbformat": 4
 },
 "nbformat": 4,
 "nbformat_minor": 2
}
