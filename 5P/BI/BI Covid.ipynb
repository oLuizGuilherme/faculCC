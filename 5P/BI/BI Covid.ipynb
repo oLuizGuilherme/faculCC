{
 "cells": [
  {
   "cell_type": "code",
   "execution_count": 1,
   "id": "bd946cea",
   "metadata": {},
   "outputs": [],
   "source": [
    "import pandas as pd"
   ]
  },
  {
   "cell_type": "code",
   "execution_count": 2,
   "id": "31c7e862",
   "metadata": {},
   "outputs": [],
   "source": [
    "dados = pd.read_csv(\"MICRODADOS.csv\", sep=\";\", encoding=\"latin-1\")"
   ]
  },
  {
   "cell_type": "code",
   "execution_count": 30,
   "id": "067eb11e",
   "metadata": {},
   "outputs": [
    {
     "ename": "ValueError",
     "evalue": "The truth value of a Series is ambiguous. Use a.empty, a.bool(), a.item(), a.any() or a.all().",
     "output_type": "error",
     "traceback": [
      "\u001b[1;31m---------------------------------------------------------------------------\u001b[0m",
      "\u001b[1;31mValueError\u001b[0m                                Traceback (most recent call last)",
      "Cell \u001b[1;32mIn[30], line 1\u001b[0m\n\u001b[1;32m----> 1\u001b[0m dados[((dados[\u001b[39m'\u001b[39;49m\u001b[39mMunicipio\u001b[39;49m\u001b[39m'\u001b[39;49m] \u001b[39m==\u001b[39;49m \u001b[39m'\u001b[39;49m\u001b[39mCARIACICA\u001b[39;49m\u001b[39m'\u001b[39;49m) \u001b[39mand\u001b[39;49;00m (dados[\u001b[39m'\u001b[39;49m\u001b[39mComorbidadeTabagismo\u001b[39;49m\u001b[39m'\u001b[39;49m] \u001b[39m==\u001b[39;49m \u001b[39m'\u001b[39;49m\u001b[39mSim\u001b[39;49m\u001b[39m'\u001b[39;49m) \u001b[39mand\u001b[39;49;00m (dados[\u001b[39m'\u001b[39;49m\u001b[39mDataObito\u001b[39;49m\u001b[39m'\u001b[39;49m]\u001b[39m.\u001b[39;49mbetween(\u001b[39m'\u001b[39;49m\u001b[39m2020-01-01\u001b[39;49m\u001b[39m'\u001b[39;49m, \u001b[39m'\u001b[39;49m\u001b[39m2023-12-31\u001b[39;49m\u001b[39m'\u001b[39;49m)) \u001b[39mand\u001b[39;49;00m (dados[\u001b[39m'\u001b[39;49m\u001b[39mEvolucao\u001b[39;49m\u001b[39m'\u001b[39;49m] \u001b[39m==\u001b[39;49m \u001b[39m'\u001b[39;49m\u001b[39mÓbito pelo COVID-19\u001b[39;49m\u001b[39m'\u001b[39;49m))]\n",
      "File \u001b[1;32mc:\\Users\\luizg\\AppData\\Local\\Programs\\Python\\Python311\\Lib\\site-packages\\pandas\\core\\generic.py:1527\u001b[0m, in \u001b[0;36mNDFrame.__nonzero__\u001b[1;34m(self)\u001b[0m\n\u001b[0;32m   1525\u001b[0m \u001b[39m@final\u001b[39m\n\u001b[0;32m   1526\u001b[0m \u001b[39mdef\u001b[39;00m \u001b[39m__nonzero__\u001b[39m(\u001b[39mself\u001b[39m) \u001b[39m-\u001b[39m\u001b[39m>\u001b[39m NoReturn:\n\u001b[1;32m-> 1527\u001b[0m     \u001b[39mraise\u001b[39;00m \u001b[39mValueError\u001b[39;00m(\n\u001b[0;32m   1528\u001b[0m         \u001b[39mf\u001b[39m\u001b[39m\"\u001b[39m\u001b[39mThe truth value of a \u001b[39m\u001b[39m{\u001b[39;00m\u001b[39mtype\u001b[39m(\u001b[39mself\u001b[39m)\u001b[39m.\u001b[39m\u001b[39m__name__\u001b[39m\u001b[39m}\u001b[39;00m\u001b[39m is ambiguous. \u001b[39m\u001b[39m\"\u001b[39m\n\u001b[0;32m   1529\u001b[0m         \u001b[39m\"\u001b[39m\u001b[39mUse a.empty, a.bool(), a.item(), a.any() or a.all().\u001b[39m\u001b[39m\"\u001b[39m\n\u001b[0;32m   1530\u001b[0m     )\n",
      "\u001b[1;31mValueError\u001b[0m: The truth value of a Series is ambiguous. Use a.empty, a.bool(), a.item(), a.any() or a.all()."
     ]
    }
   ],
   "source": [
    "dados[((dados['Municipio'] == 'CARIACICA') and (dados['ComorbidadeTabagismo'] == 'Sim') and (dados['DataObito'].between('2020-01-01', '2023-12-31')) and (dados['Evolucao'] == 'Óbito pelo COVID-19'))]"
   ]
  },
  {
   "cell_type": "code",
   "execution_count": null,
   "id": "a3d70ad2",
   "metadata": {},
   "outputs": [],
   "source": []
  }
 ],
 "metadata": {
  "kernelspec": {
   "display_name": "Python 3 (ipykernel)",
   "language": "python",
   "name": "python3"
  },
  "language_info": {
   "codemirror_mode": {
    "name": "ipython",
    "version": 3
   },
   "file_extension": ".py",
   "mimetype": "text/x-python",
   "name": "python",
   "nbconvert_exporter": "python",
   "pygments_lexer": "ipython3",
   "version": "3.11.2"
  }
 },
 "nbformat": 4,
 "nbformat_minor": 5
}
